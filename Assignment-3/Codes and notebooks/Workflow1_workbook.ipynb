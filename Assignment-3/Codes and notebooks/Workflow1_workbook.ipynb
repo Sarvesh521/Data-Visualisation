{
 "cells": [
  {
   "cell_type": "markdown",
   "metadata": {},
   "source": [
    "# Assignment 3 Visualizations\n",
    "\n",
    "- All figures have been numbered according the report.\n",
    "- Necesaary libraries should be installed before running any cell. (matplotlib, numpy, pandas, seaborn, plotly,upsetplot, prophet )"
   ]
  },
  {
   "cell_type": "markdown",
   "metadata": {},
   "source": [
    "## Pre processing and data exploration"
   ]
  },
  {
   "cell_type": "code",
   "execution_count": 45,
   "metadata": {},
   "outputs": [],
   "source": [
    "import pandas as pd"
   ]
  },
  {
   "cell_type": "code",
   "execution_count": 46,
   "metadata": {},
   "outputs": [],
   "source": [
    "#import the datasets\n",
    "crime=pd.read_csv(\"./data/union.csv\")\n",
    "arrest=pd.read_csv(\"./data/arrest.csv\")"
   ]
  },
  {
   "cell_type": "code",
   "execution_count": 47,
   "metadata": {},
   "outputs": [
    {
     "name": "stdout",
     "output_type": "stream",
     "text": [
      "Index(['Table Names', 'DR_NO', 'Date Rptd', 'DATE OCC', 'TIME OCC',\n",
      "       'AREA NAME', 'Rpt Dist No', 'Part 1-2', 'Crm Cd', 'Crm Cd Desc',\n",
      "       'Mocodes', 'Vict Age', 'Vict Sex', 'Vict Descent', 'Premis Cd',\n",
      "       'Premis Desc', 'Weapon Used Cd', 'Weapon Desc', 'Status', 'Status Desc',\n",
      "       'Crm Cd 1', 'LOCATION', 'Cross Street', 'LAT', 'LON', 'AREA '],\n",
      "      dtype='object')\n",
      "Index(['Report ID', 'Arrest Date', 'Time', 'Area ID', 'Area Name',\n",
      "       'Reporting District', 'Age', 'Sex Code', 'Descent Code',\n",
      "       'Charge Group Code', 'Charge Group Description', 'Arrest Type Code',\n",
      "       'Charge', 'Charge Description', 'Address', 'Cross Street', 'Location',\n",
      "       'Zip Codes', 'Census Tracts', 'Precinct Boundaries',\n",
      "       'LA Specific Plans', 'Council Districts',\n",
      "       'Neighborhood Councils (Certified)'],\n",
      "      dtype='object')\n"
     ]
    }
   ],
   "source": [
    "#print columns of the datasets\n",
    "print(crime.columns)\n",
    "print(arrest.columns)"
   ]
  },
  {
   "cell_type": "code",
   "execution_count": 48,
   "metadata": {},
   "outputs": [],
   "source": [
    "#remove data with lat and long as 0\n",
    "crime=crime[crime['LAT']!=0]\n",
    "crime=crime[crime['LON']!=0]\n"
   ]
  },
  {
   "cell_type": "code",
   "execution_count": 49,
   "metadata": {},
   "outputs": [
    {
     "data": {
      "text/html": [
       "<div>\n",
       "<style scoped>\n",
       "    .dataframe tbody tr th:only-of-type {\n",
       "        vertical-align: middle;\n",
       "    }\n",
       "\n",
       "    .dataframe tbody tr th {\n",
       "        vertical-align: top;\n",
       "    }\n",
       "\n",
       "    .dataframe thead th {\n",
       "        text-align: right;\n",
       "    }\n",
       "</style>\n",
       "<table border=\"1\" class=\"dataframe\">\n",
       "  <thead>\n",
       "    <tr style=\"text-align: right;\">\n",
       "      <th></th>\n",
       "      <th>Table Names</th>\n",
       "      <th>DR_NO</th>\n",
       "      <th>Date Rptd</th>\n",
       "      <th>DATE OCC</th>\n",
       "      <th>TIME OCC</th>\n",
       "      <th>AREA NAME</th>\n",
       "      <th>Rpt Dist No</th>\n",
       "      <th>Part 1-2</th>\n",
       "      <th>Crm Cd</th>\n",
       "      <th>Crm Cd Desc</th>\n",
       "      <th>...</th>\n",
       "      <th>Status</th>\n",
       "      <th>Status Desc</th>\n",
       "      <th>Crm Cd 1</th>\n",
       "      <th>LOCATION</th>\n",
       "      <th>Cross Street</th>\n",
       "      <th>LAT</th>\n",
       "      <th>LON</th>\n",
       "      <th>AREA</th>\n",
       "      <th>avg_latitude</th>\n",
       "      <th>avg_longitude</th>\n",
       "    </tr>\n",
       "  </thead>\n",
       "  <tbody>\n",
       "    <tr>\n",
       "      <th>3058643</th>\n",
       "      <td>Crime_Data_from_2010_to_2019.csv</td>\n",
       "      <td>160519223</td>\n",
       "      <td>26-11-2016 00:00:00</td>\n",
       "      <td>21-11-2016 00:00:00</td>\n",
       "      <td>1200</td>\n",
       "      <td>Harbor</td>\n",
       "      <td>584</td>\n",
       "      <td>1</td>\n",
       "      <td>420</td>\n",
       "      <td>THEFT FROM MOTOR VEHICLE - PETTY ($950 &amp; UNDER)</td>\n",
       "      <td>...</td>\n",
       "      <td>IC</td>\n",
       "      <td>Invest Cont</td>\n",
       "      <td>420.0</td>\n",
       "      <td>700 W  26TH                         ST</td>\n",
       "      <td>NaN</td>\n",
       "      <td>33.7206</td>\n",
       "      <td>-118.2938</td>\n",
       "      <td>5</td>\n",
       "      <td>33.770424</td>\n",
       "      <td>-118.28585</td>\n",
       "    </tr>\n",
       "    <tr>\n",
       "      <th>3058644</th>\n",
       "      <td>Crime_Data_from_2010_to_2019.csv</td>\n",
       "      <td>160519158</td>\n",
       "      <td>24-11-2016 00:00:00</td>\n",
       "      <td>22-11-2016 00:00:00</td>\n",
       "      <td>1100</td>\n",
       "      <td>Harbor</td>\n",
       "      <td>564</td>\n",
       "      <td>1</td>\n",
       "      <td>420</td>\n",
       "      <td>THEFT FROM MOTOR VEHICLE - PETTY ($950 &amp; UNDER)</td>\n",
       "      <td>...</td>\n",
       "      <td>IC</td>\n",
       "      <td>Invest Cont</td>\n",
       "      <td>420.0</td>\n",
       "      <td>400 W  2ND                          ST</td>\n",
       "      <td>NaN</td>\n",
       "      <td>33.7424</td>\n",
       "      <td>-118.2857</td>\n",
       "      <td>5</td>\n",
       "      <td>33.770424</td>\n",
       "      <td>-118.28585</td>\n",
       "    </tr>\n",
       "    <tr>\n",
       "      <th>3058645</th>\n",
       "      <td>Crime_Data_from_2010_to_2019.csv</td>\n",
       "      <td>160519157</td>\n",
       "      <td>24-11-2016 00:00:00</td>\n",
       "      <td>24-11-2016 00:00:00</td>\n",
       "      <td>1600</td>\n",
       "      <td>Harbor</td>\n",
       "      <td>529</td>\n",
       "      <td>1</td>\n",
       "      <td>420</td>\n",
       "      <td>THEFT FROM MOTOR VEHICLE - PETTY ($950 &amp; UNDER)</td>\n",
       "      <td>...</td>\n",
       "      <td>IC</td>\n",
       "      <td>Invest Cont</td>\n",
       "      <td>420.0</td>\n",
       "      <td>700    SANFORD                      AV</td>\n",
       "      <td>NaN</td>\n",
       "      <td>33.7792</td>\n",
       "      <td>-118.2506</td>\n",
       "      <td>5</td>\n",
       "      <td>33.770424</td>\n",
       "      <td>-118.28585</td>\n",
       "    </tr>\n",
       "    <tr>\n",
       "      <th>3058646</th>\n",
       "      <td>Crime_Data_from_2010_to_2019.csv</td>\n",
       "      <td>160519568</td>\n",
       "      <td>04-12-2016 00:00:00</td>\n",
       "      <td>03-12-2016 00:00:00</td>\n",
       "      <td>1630</td>\n",
       "      <td>Harbor</td>\n",
       "      <td>515</td>\n",
       "      <td>1</td>\n",
       "      <td>420</td>\n",
       "      <td>THEFT FROM MOTOR VEHICLE - PETTY ($950 &amp; UNDER)</td>\n",
       "      <td>...</td>\n",
       "      <td>IC</td>\n",
       "      <td>Invest Cont</td>\n",
       "      <td>420.0</td>\n",
       "      <td>1400    ISLAND                       AV</td>\n",
       "      <td>NaN</td>\n",
       "      <td>33.7910</td>\n",
       "      <td>-118.2670</td>\n",
       "      <td>5</td>\n",
       "      <td>33.770424</td>\n",
       "      <td>-118.28585</td>\n",
       "    </tr>\n",
       "    <tr>\n",
       "      <th>3058647</th>\n",
       "      <td>Crime_Data_from_2010_to_2019.csv</td>\n",
       "      <td>160519585</td>\n",
       "      <td>05-12-2016 00:00:00</td>\n",
       "      <td>04-12-2016 00:00:00</td>\n",
       "      <td>1800</td>\n",
       "      <td>Harbor</td>\n",
       "      <td>504</td>\n",
       "      <td>1</td>\n",
       "      <td>420</td>\n",
       "      <td>THEFT FROM MOTOR VEHICLE - PETTY ($950 &amp; UNDER)</td>\n",
       "      <td>...</td>\n",
       "      <td>IC</td>\n",
       "      <td>Invest Cont</td>\n",
       "      <td>420.0</td>\n",
       "      <td>19500    NORMANDIE                    AV</td>\n",
       "      <td>NaN</td>\n",
       "      <td>33.8481</td>\n",
       "      <td>-118.3041</td>\n",
       "      <td>5</td>\n",
       "      <td>33.770424</td>\n",
       "      <td>-118.28585</td>\n",
       "    </tr>\n",
       "    <tr>\n",
       "      <th>3058648</th>\n",
       "      <td>Crime_Data_from_2010_to_2019.csv</td>\n",
       "      <td>160519936</td>\n",
       "      <td>12-12-2016 00:00:00</td>\n",
       "      <td>12-12-2016 00:00:00</td>\n",
       "      <td>1</td>\n",
       "      <td>Harbor</td>\n",
       "      <td>514</td>\n",
       "      <td>1</td>\n",
       "      <td>420</td>\n",
       "      <td>THEFT FROM MOTOR VEHICLE - PETTY ($950 &amp; UNDER)</td>\n",
       "      <td>...</td>\n",
       "      <td>IC</td>\n",
       "      <td>Invest Cont</td>\n",
       "      <td>420.0</td>\n",
       "      <td>1300 W  Q                            ST</td>\n",
       "      <td>NaN</td>\n",
       "      <td>33.7942</td>\n",
       "      <td>-118.2788</td>\n",
       "      <td>5</td>\n",
       "      <td>33.770424</td>\n",
       "      <td>-118.28585</td>\n",
       "    </tr>\n",
       "    <tr>\n",
       "      <th>3058649</th>\n",
       "      <td>Crime_Data_from_2010_to_2019.csv</td>\n",
       "      <td>160520139</td>\n",
       "      <td>17-12-2016 00:00:00</td>\n",
       "      <td>16-12-2016 00:00:00</td>\n",
       "      <td>1500</td>\n",
       "      <td>Harbor</td>\n",
       "      <td>562</td>\n",
       "      <td>1</td>\n",
       "      <td>420</td>\n",
       "      <td>THEFT FROM MOTOR VEHICLE - PETTY ($950 &amp; UNDER)</td>\n",
       "      <td>...</td>\n",
       "      <td>IC</td>\n",
       "      <td>Invest Cont</td>\n",
       "      <td>420.0</td>\n",
       "      <td>1100 W  13TH                         ST</td>\n",
       "      <td>NaN</td>\n",
       "      <td>33.7325</td>\n",
       "      <td>-118.3012</td>\n",
       "      <td>5</td>\n",
       "      <td>33.770424</td>\n",
       "      <td>-118.28585</td>\n",
       "    </tr>\n",
       "    <tr>\n",
       "      <th>3058650</th>\n",
       "      <td>Crime_Data_from_2010_to_2019.csv</td>\n",
       "      <td>160520579</td>\n",
       "      <td>27-12-2016 00:00:00</td>\n",
       "      <td>20-12-2016 00:00:00</td>\n",
       "      <td>1700</td>\n",
       "      <td>Harbor</td>\n",
       "      <td>532</td>\n",
       "      <td>1</td>\n",
       "      <td>420</td>\n",
       "      <td>THEFT FROM MOTOR VEHICLE - PETTY ($950 &amp; UNDER)</td>\n",
       "      <td>...</td>\n",
       "      <td>IC</td>\n",
       "      <td>Invest Cont</td>\n",
       "      <td>420.0</td>\n",
       "      <td>900 W  DENNI                        ST</td>\n",
       "      <td>NaN</td>\n",
       "      <td>33.7844</td>\n",
       "      <td>-118.2733</td>\n",
       "      <td>5</td>\n",
       "      <td>33.770424</td>\n",
       "      <td>-118.28585</td>\n",
       "    </tr>\n",
       "    <tr>\n",
       "      <th>3058651</th>\n",
       "      <td>Crime_Data_from_2010_to_2019.csv</td>\n",
       "      <td>170504427</td>\n",
       "      <td>10-01-2017 00:00:00</td>\n",
       "      <td>25-12-2016 00:00:00</td>\n",
       "      <td>1200</td>\n",
       "      <td>Harbor</td>\n",
       "      <td>522</td>\n",
       "      <td>1</td>\n",
       "      <td>420</td>\n",
       "      <td>THEFT FROM MOTOR VEHICLE - PETTY ($950 &amp; UNDER)</td>\n",
       "      <td>...</td>\n",
       "      <td>IC</td>\n",
       "      <td>Invest Cont</td>\n",
       "      <td>420.0</td>\n",
       "      <td>900    WILMINGTON                   BL</td>\n",
       "      <td>NaN</td>\n",
       "      <td>33.7808</td>\n",
       "      <td>-118.2743</td>\n",
       "      <td>5</td>\n",
       "      <td>33.770424</td>\n",
       "      <td>-118.28585</td>\n",
       "    </tr>\n",
       "    <tr>\n",
       "      <th>3058652</th>\n",
       "      <td>Crime_Data_from_2010_to_2019.csv</td>\n",
       "      <td>170519490</td>\n",
       "      <td>05-12-2017 00:00:00</td>\n",
       "      <td>21-11-2017 00:00:00</td>\n",
       "      <td>1100</td>\n",
       "      <td>Harbor</td>\n",
       "      <td>566</td>\n",
       "      <td>1</td>\n",
       "      <td>420</td>\n",
       "      <td>THEFT FROM MOTOR VEHICLE - PETTY ($950 &amp; UNDER)</td>\n",
       "      <td>...</td>\n",
       "      <td>IC</td>\n",
       "      <td>Invest Cont</td>\n",
       "      <td>420.0</td>\n",
       "      <td>300 W  10TH                         ST</td>\n",
       "      <td>NaN</td>\n",
       "      <td>33.7351</td>\n",
       "      <td>-118.2835</td>\n",
       "      <td>5</td>\n",
       "      <td>33.770424</td>\n",
       "      <td>-118.28585</td>\n",
       "    </tr>\n",
       "  </tbody>\n",
       "</table>\n",
       "<p>10 rows × 28 columns</p>\n",
       "</div>"
      ],
      "text/plain": [
       "                              Table Names      DR_NO            Date Rptd  \\\n",
       "3058643  Crime_Data_from_2010_to_2019.csv  160519223  26-11-2016 00:00:00   \n",
       "3058644  Crime_Data_from_2010_to_2019.csv  160519158  24-11-2016 00:00:00   \n",
       "3058645  Crime_Data_from_2010_to_2019.csv  160519157  24-11-2016 00:00:00   \n",
       "3058646  Crime_Data_from_2010_to_2019.csv  160519568  04-12-2016 00:00:00   \n",
       "3058647  Crime_Data_from_2010_to_2019.csv  160519585  05-12-2016 00:00:00   \n",
       "3058648  Crime_Data_from_2010_to_2019.csv  160519936  12-12-2016 00:00:00   \n",
       "3058649  Crime_Data_from_2010_to_2019.csv  160520139  17-12-2016 00:00:00   \n",
       "3058650  Crime_Data_from_2010_to_2019.csv  160520579  27-12-2016 00:00:00   \n",
       "3058651  Crime_Data_from_2010_to_2019.csv  170504427  10-01-2017 00:00:00   \n",
       "3058652  Crime_Data_from_2010_to_2019.csv  170519490  05-12-2017 00:00:00   \n",
       "\n",
       "                    DATE OCC  TIME OCC AREA NAME  Rpt Dist No  Part 1-2  \\\n",
       "3058643  21-11-2016 00:00:00      1200    Harbor          584         1   \n",
       "3058644  22-11-2016 00:00:00      1100    Harbor          564         1   \n",
       "3058645  24-11-2016 00:00:00      1600    Harbor          529         1   \n",
       "3058646  03-12-2016 00:00:00      1630    Harbor          515         1   \n",
       "3058647  04-12-2016 00:00:00      1800    Harbor          504         1   \n",
       "3058648  12-12-2016 00:00:00         1    Harbor          514         1   \n",
       "3058649  16-12-2016 00:00:00      1500    Harbor          562         1   \n",
       "3058650  20-12-2016 00:00:00      1700    Harbor          532         1   \n",
       "3058651  25-12-2016 00:00:00      1200    Harbor          522         1   \n",
       "3058652  21-11-2017 00:00:00      1100    Harbor          566         1   \n",
       "\n",
       "         Crm Cd                                      Crm Cd Desc  ... Status  \\\n",
       "3058643     420  THEFT FROM MOTOR VEHICLE - PETTY ($950 & UNDER)  ...     IC   \n",
       "3058644     420  THEFT FROM MOTOR VEHICLE - PETTY ($950 & UNDER)  ...     IC   \n",
       "3058645     420  THEFT FROM MOTOR VEHICLE - PETTY ($950 & UNDER)  ...     IC   \n",
       "3058646     420  THEFT FROM MOTOR VEHICLE - PETTY ($950 & UNDER)  ...     IC   \n",
       "3058647     420  THEFT FROM MOTOR VEHICLE - PETTY ($950 & UNDER)  ...     IC   \n",
       "3058648     420  THEFT FROM MOTOR VEHICLE - PETTY ($950 & UNDER)  ...     IC   \n",
       "3058649     420  THEFT FROM MOTOR VEHICLE - PETTY ($950 & UNDER)  ...     IC   \n",
       "3058650     420  THEFT FROM MOTOR VEHICLE - PETTY ($950 & UNDER)  ...     IC   \n",
       "3058651     420  THEFT FROM MOTOR VEHICLE - PETTY ($950 & UNDER)  ...     IC   \n",
       "3058652     420  THEFT FROM MOTOR VEHICLE - PETTY ($950 & UNDER)  ...     IC   \n",
       "\n",
       "         Status Desc Crm Cd 1                                  LOCATION  \\\n",
       "3058643  Invest Cont    420.0    700 W  26TH                         ST   \n",
       "3058644  Invest Cont    420.0    400 W  2ND                          ST   \n",
       "3058645  Invest Cont    420.0    700    SANFORD                      AV   \n",
       "3058646  Invest Cont    420.0   1400    ISLAND                       AV   \n",
       "3058647  Invest Cont    420.0  19500    NORMANDIE                    AV   \n",
       "3058648  Invest Cont    420.0   1300 W  Q                            ST   \n",
       "3058649  Invest Cont    420.0   1100 W  13TH                         ST   \n",
       "3058650  Invest Cont    420.0    900 W  DENNI                        ST   \n",
       "3058651  Invest Cont    420.0    900    WILMINGTON                   BL   \n",
       "3058652  Invest Cont    420.0    300 W  10TH                         ST   \n",
       "\n",
       "         Cross Street      LAT       LON AREA  avg_latitude avg_longitude  \n",
       "3058643           NaN  33.7206 -118.2938     5    33.770424    -118.28585  \n",
       "3058644           NaN  33.7424 -118.2857     5    33.770424    -118.28585  \n",
       "3058645           NaN  33.7792 -118.2506     5    33.770424    -118.28585  \n",
       "3058646           NaN  33.7910 -118.2670     5    33.770424    -118.28585  \n",
       "3058647           NaN  33.8481 -118.3041     5    33.770424    -118.28585  \n",
       "3058648           NaN  33.7942 -118.2788     5    33.770424    -118.28585  \n",
       "3058649           NaN  33.7325 -118.3012     5    33.770424    -118.28585  \n",
       "3058650           NaN  33.7844 -118.2733     5    33.770424    -118.28585  \n",
       "3058651           NaN  33.7808 -118.2743     5    33.770424    -118.28585  \n",
       "3058652           NaN  33.7351 -118.2835     5    33.770424    -118.28585  \n",
       "\n",
       "[10 rows x 28 columns]"
      ]
     },
     "execution_count": 49,
     "metadata": {},
     "output_type": "execute_result"
    }
   ],
   "source": [
    "import pandas as pd\n",
    "\n",
    "# Sample DataFrame\n",
    "df_crime = pd.DataFrame(crime)\n",
    "unique_values = df_crime['AREA NAME'].unique()\n",
    "\n",
    "# Calculate average latitude and longitude based on area\n",
    "avg_coords = df_crime.groupby('AREA NAME').agg({'LAT': 'mean', 'LON': 'mean'}).reset_index()\n",
    "avg_coords.columns = ['AREA NAME', 'avg_latitude', 'avg_longitude']\n",
    "\n",
    "# Merge the average coordinates back into the original DataFrame\n",
    "df_crime = df_crime.merge(avg_coords, on='AREA NAME', how='left')\n",
    "\n",
    "df_crime.tail(10)"
   ]
  },
  {
   "cell_type": "code",
   "execution_count": 50,
   "metadata": {},
   "outputs": [
    {
     "name": "stdout",
     "output_type": "stream",
     "text": [
      "      AREA NAME  avg_latitude  avg_longitude\n",
      "0   77th Street     33.977924    -118.297671\n",
      "1       Central     34.047236    -118.250440\n",
      "2    Devonshire     34.250913    -118.537795\n",
      "3      Foothill     34.249160    -118.379037\n",
      "4        Harbor     33.770424    -118.285850\n",
      "5    Hollenbeck     34.055455    -118.202417\n",
      "6     Hollywood     34.099253    -118.330026\n",
      "7       Mission     34.256288    -118.450204\n",
      "8   N Hollywood     34.172389    -118.385405\n",
      "9        Newton     34.007952    -118.260961\n",
      "10    Northeast     34.108035    -118.243105\n",
      "11      Olympic     34.060012    -118.300225\n",
      "12      Pacific     33.984376    -118.424562\n",
      "13      Rampart     34.063898    -118.274507\n",
      "14    Southeast     33.939312    -118.266540\n",
      "15    Southwest     34.019473    -118.317770\n",
      "16      Topanga     34.192791    -118.601095\n",
      "17     Van Nuys     34.178630    -118.446514\n",
      "18      West LA     34.052102    -118.439922\n",
      "19  West Valley     34.187291    -118.520704\n",
      "20     Wilshire     34.061369    -118.351756\n"
     ]
    }
   ],
   "source": [
    "print(avg_coords)"
   ]
  },
  {
   "cell_type": "code",
   "execution_count": 51,
   "metadata": {},
   "outputs": [
    {
     "name": "stdout",
     "output_type": "stream",
     "text": [
      "                                 Table Names      DR_NO            Date Rptd  \\\n",
      "1142     Crime_Data_from_2020_to_Present.csv  230611891  30-06-2023 00:00:00   \n",
      "1143     Crime_Data_from_2020_to_Present.csv  230612578  13-07-2023 00:00:00   \n",
      "1144     Crime_Data_from_2020_to_Present.csv  230612577  17-07-2023 00:00:00   \n",
      "1145     Crime_Data_from_2020_to_Present.csv  230613008  23-07-2023 00:00:00   \n",
      "1146     Crime_Data_from_2020_to_Present.csv  230613006  23-07-2023 00:00:00   \n",
      "...                                      ...        ...                  ...   \n",
      "3054600     Crime_Data_from_2010_to_2019.csv  120622788  11-09-2012 00:00:00   \n",
      "3054601     Crime_Data_from_2010_to_2019.csv  130622875  08-10-2013 00:00:00   \n",
      "3054602     Crime_Data_from_2010_to_2019.csv  120605942  25-01-2012 00:00:00   \n",
      "3054603     Crime_Data_from_2010_to_2019.csv  120604534  07-01-2012 00:00:00   \n",
      "3054604     Crime_Data_from_2010_to_2019.csv  120620260  08-08-2012 00:00:00   \n",
      "\n",
      "                    DATE OCC  TIME OCC  AREA NAME  Rpt Dist No  Part 1-2  \\\n",
      "1142     30-06-2023 00:00:00      1552  Hollywood          668         1   \n",
      "1143     13-07-2023 00:00:00      1955  Hollywood          668         1   \n",
      "1144     17-07-2023 00:00:00      2041  Hollywood          668         1   \n",
      "1145     13-07-2023 00:00:00      1158  Hollywood          645         1   \n",
      "1146     17-07-2023 00:00:00      1547  Hollywood          668         1   \n",
      "...                      ...       ...        ...          ...       ...   \n",
      "3054600  07-09-2012 00:00:00      1400  Hollywood          628         1   \n",
      "3054601  07-10-2013 00:00:00      1730  Hollywood          666         1   \n",
      "3054602  24-01-2012 00:00:00      1800  Hollywood          642         1   \n",
      "3054603  06-01-2012 00:00:00      1845  Hollywood          642         1   \n",
      "3054604  07-08-2012 00:00:00      2230  Hollywood          637         1   \n",
      "\n",
      "         Crm Cd                               Crm Cd Desc  ... Status  \\\n",
      "1142        442  SHOPLIFTING - PETTY THEFT ($950 & UNDER)  ...     IC   \n",
      "1143        442  SHOPLIFTING - PETTY THEFT ($950 & UNDER)  ...     IC   \n",
      "1144        442  SHOPLIFTING - PETTY THEFT ($950 & UNDER)  ...     IC   \n",
      "1145        442  SHOPLIFTING - PETTY THEFT ($950 & UNDER)  ...     IC   \n",
      "1146        442  SHOPLIFTING - PETTY THEFT ($950 & UNDER)  ...     IC   \n",
      "...         ...                                       ...  ...    ...   \n",
      "3054600     510                          VEHICLE - STOLEN  ...     AO   \n",
      "3054601     510                          VEHICLE - STOLEN  ...     AO   \n",
      "3054602     510                          VEHICLE - STOLEN  ...     AO   \n",
      "3054603     510                          VEHICLE - STOLEN  ...     AO   \n",
      "3054604     510                          VEHICLE - STOLEN  ...     AO   \n",
      "\n",
      "         Status Desc Crm Cd 1                                 LOCATION  \\\n",
      "1142     Invest Cont    442.0  5500 W  SUNSET                       BL   \n",
      "1143     Invest Cont    442.0  5500 W  SUNSET                       BL   \n",
      "1144     Invest Cont    442.0  5500 W  SUNSET                       BL   \n",
      "1145     Invest Cont    442.0  7000    HOLLYWOOD                    BL   \n",
      "1146     Invest Cont    442.0  5500 W  SUNSET                       BL   \n",
      "...              ...      ...                                      ...   \n",
      "3054600  Adult Other    510.0          BEACHWOOD                    DR   \n",
      "3054601  Adult Other    510.0                               DE LONGPRE   \n",
      "3054602  Adult Other    510.0  1300 N  SIERRA BONITA                AV   \n",
      "3054603  Adult Other    510.0  1300 N  STANLEY                      AV   \n",
      "3054604  Adult Other    510.0  1700 N  GOWER                        ST   \n",
      "\n",
      "                            Cross Street      LAT       LON AREA   \\\n",
      "1142                                 NaN  34.0981 -118.3092     6   \n",
      "1143                                 NaN  34.0981 -118.3092     6   \n",
      "1144                                 NaN  34.0981 -118.3092     6   \n",
      "1145                                 NaN  34.1015 -118.3417     6   \n",
      "1146                                 NaN  34.0981 -118.3092     6   \n",
      "...                                  ...      ...       ...   ...   \n",
      "3054600  SCENIC                       DR  34.1101 -118.3215     6   \n",
      "3054601                        EL CENTRO  34.0962 -118.3237     6   \n",
      "3054602                              NaN  34.0944 -118.3539     6   \n",
      "3054603                              NaN  34.0944 -118.3560     6   \n",
      "3054604                              NaN  34.1017 -118.3224     6   \n",
      "\n",
      "        avg_latitude avg_longitude  \n",
      "1142       34.099253   -118.330026  \n",
      "1143       34.099253   -118.330026  \n",
      "1144       34.099253   -118.330026  \n",
      "1145       34.099253   -118.330026  \n",
      "1146       34.099253   -118.330026  \n",
      "...              ...           ...  \n",
      "3054600    34.099253   -118.330026  \n",
      "3054601    34.099253   -118.330026  \n",
      "3054602    34.099253   -118.330026  \n",
      "3054603    34.099253   -118.330026  \n",
      "3054604    34.099253   -118.330026  \n",
      "\n",
      "[148229 rows x 28 columns]\n"
     ]
    }
   ],
   "source": [
    "#print rows with area name= holloywood\n",
    "print(df_crime[df_crime['AREA NAME'] == 'Hollywood'])"
   ]
  },
  {
   "cell_type": "code",
   "execution_count": 52,
   "metadata": {},
   "outputs": [
    {
     "data": {
      "text/html": [
       "<div>\n",
       "<style scoped>\n",
       "    .dataframe tbody tr th:only-of-type {\n",
       "        vertical-align: middle;\n",
       "    }\n",
       "\n",
       "    .dataframe tbody tr th {\n",
       "        vertical-align: top;\n",
       "    }\n",
       "\n",
       "    .dataframe thead th {\n",
       "        text-align: right;\n",
       "    }\n",
       "</style>\n",
       "<table border=\"1\" class=\"dataframe\">\n",
       "  <thead>\n",
       "    <tr style=\"text-align: right;\">\n",
       "      <th></th>\n",
       "      <th>Report ID</th>\n",
       "      <th>Arrest Date</th>\n",
       "      <th>Time</th>\n",
       "      <th>Area ID</th>\n",
       "      <th>AREA NAME</th>\n",
       "      <th>Reporting District</th>\n",
       "      <th>Age</th>\n",
       "      <th>Sex Code</th>\n",
       "      <th>Descent Code</th>\n",
       "      <th>Charge Group Code</th>\n",
       "      <th>...</th>\n",
       "      <th>Charge Description</th>\n",
       "      <th>Address</th>\n",
       "      <th>Cross Street</th>\n",
       "      <th>Location</th>\n",
       "      <th>Zip Codes</th>\n",
       "      <th>Census Tracts</th>\n",
       "      <th>Precinct Boundaries</th>\n",
       "      <th>LA Specific Plans</th>\n",
       "      <th>Council Districts</th>\n",
       "      <th>Neighborhood Councils (Certified)</th>\n",
       "    </tr>\n",
       "  </thead>\n",
       "  <tbody>\n",
       "    <tr>\n",
       "      <th>0</th>\n",
       "      <td>5666847</td>\n",
       "      <td>2019-06-22T00:00:00.000</td>\n",
       "      <td>1630.0</td>\n",
       "      <td>14</td>\n",
       "      <td>Pacific</td>\n",
       "      <td>1457</td>\n",
       "      <td>44</td>\n",
       "      <td>M</td>\n",
       "      <td>W</td>\n",
       "      <td>24.0</td>\n",
       "      <td>...</td>\n",
       "      <td>VANDALISM</td>\n",
       "      <td>12300    CULVER                       BL</td>\n",
       "      <td>NaN</td>\n",
       "      <td>{'latitude': '33.992', 'human_address': '{\"add...</td>\n",
       "      <td>24031.0</td>\n",
       "      <td>918.0</td>\n",
       "      <td>1137.0</td>\n",
       "      <td>10.0</td>\n",
       "      <td>10.0</td>\n",
       "      <td>85.0</td>\n",
       "    </tr>\n",
       "    <tr>\n",
       "      <th>1</th>\n",
       "      <td>5666688</td>\n",
       "      <td>2019-06-22T00:00:00.000</td>\n",
       "      <td>1010.0</td>\n",
       "      <td>10</td>\n",
       "      <td>West Valley</td>\n",
       "      <td>1061</td>\n",
       "      <td>8</td>\n",
       "      <td>M</td>\n",
       "      <td>O</td>\n",
       "      <td>NaN</td>\n",
       "      <td>...</td>\n",
       "      <td>NaN</td>\n",
       "      <td>19000    VANOWEN                      ST</td>\n",
       "      <td>NaN</td>\n",
       "      <td>{'latitude': '34.1687', 'human_address': '{\"ad...</td>\n",
       "      <td>19339.0</td>\n",
       "      <td>321.0</td>\n",
       "      <td>1494.0</td>\n",
       "      <td>NaN</td>\n",
       "      <td>4.0</td>\n",
       "      <td>10.0</td>\n",
       "    </tr>\n",
       "    <tr>\n",
       "      <th>2</th>\n",
       "      <td>5666570</td>\n",
       "      <td>2019-06-22T00:00:00.000</td>\n",
       "      <td>400.0</td>\n",
       "      <td>15</td>\n",
       "      <td>N Hollywood</td>\n",
       "      <td>1543</td>\n",
       "      <td>31</td>\n",
       "      <td>F</td>\n",
       "      <td>O</td>\n",
       "      <td>22.0</td>\n",
       "      <td>...</td>\n",
       "      <td>DRUNK DRIVING ALCOHOL/DRUGS</td>\n",
       "      <td>MAGNOLIA                     AV</td>\n",
       "      <td>LAUREL CANYON                BL</td>\n",
       "      <td>{'latitude': '34.1649', 'human_address': '{\"ad...</td>\n",
       "      <td>8890.0</td>\n",
       "      <td>205.0</td>\n",
       "      <td>1332.0</td>\n",
       "      <td>17.0</td>\n",
       "      <td>5.0</td>\n",
       "      <td>39.0</td>\n",
       "    </tr>\n",
       "    <tr>\n",
       "      <th>3</th>\n",
       "      <td>5666529</td>\n",
       "      <td>2019-06-22T00:00:00.000</td>\n",
       "      <td>302.0</td>\n",
       "      <td>17</td>\n",
       "      <td>Devonshire</td>\n",
       "      <td>1738</td>\n",
       "      <td>23</td>\n",
       "      <td>F</td>\n",
       "      <td>W</td>\n",
       "      <td>22.0</td>\n",
       "      <td>...</td>\n",
       "      <td>DRUNK DRIVING ALCOHOL/DRUGS</td>\n",
       "      <td>HAYVENHURST                  ST</td>\n",
       "      <td>N  REGAN                        FY</td>\n",
       "      <td>{'latitude': '34.2692', 'human_address': '{\"ad...</td>\n",
       "      <td>19329.0</td>\n",
       "      <td>69.0</td>\n",
       "      <td>388.0</td>\n",
       "      <td>NaN</td>\n",
       "      <td>2.0</td>\n",
       "      <td>78.0</td>\n",
       "    </tr>\n",
       "    <tr>\n",
       "      <th>4</th>\n",
       "      <td>5666742</td>\n",
       "      <td>2019-06-22T00:00:00.000</td>\n",
       "      <td>1240.0</td>\n",
       "      <td>14</td>\n",
       "      <td>Pacific</td>\n",
       "      <td>1472</td>\n",
       "      <td>28</td>\n",
       "      <td>M</td>\n",
       "      <td>W</td>\n",
       "      <td>8.0</td>\n",
       "      <td>...</td>\n",
       "      <td>OBSTRUCT/RESIST EXECUTIVE OFFICER</td>\n",
       "      <td>6600    ESPLANADE                    ST</td>\n",
       "      <td>NaN</td>\n",
       "      <td>{'latitude': '33.9609', 'human_address': '{\"ad...</td>\n",
       "      <td>25075.0</td>\n",
       "      <td>937.0</td>\n",
       "      <td>241.0</td>\n",
       "      <td>10.0</td>\n",
       "      <td>10.0</td>\n",
       "      <td>16.0</td>\n",
       "    </tr>\n",
       "  </tbody>\n",
       "</table>\n",
       "<p>5 rows × 23 columns</p>\n",
       "</div>"
      ],
      "text/plain": [
       "   Report ID              Arrest Date    Time  Area ID    AREA NAME  \\\n",
       "0    5666847  2019-06-22T00:00:00.000  1630.0       14      Pacific   \n",
       "1    5666688  2019-06-22T00:00:00.000  1010.0       10  West Valley   \n",
       "2    5666570  2019-06-22T00:00:00.000   400.0       15  N Hollywood   \n",
       "3    5666529  2019-06-22T00:00:00.000   302.0       17   Devonshire   \n",
       "4    5666742  2019-06-22T00:00:00.000  1240.0       14      Pacific   \n",
       "\n",
       "   Reporting District  Age Sex Code Descent Code  Charge Group Code  ...  \\\n",
       "0                1457   44        M            W               24.0  ...   \n",
       "1                1061    8        M            O                NaN  ...   \n",
       "2                1543   31        F            O               22.0  ...   \n",
       "3                1738   23        F            W               22.0  ...   \n",
       "4                1472   28        M            W                8.0  ...   \n",
       "\n",
       "                  Charge Description  \\\n",
       "0                          VANDALISM   \n",
       "1                                NaN   \n",
       "2        DRUNK DRIVING ALCOHOL/DRUGS   \n",
       "3        DRUNK DRIVING ALCOHOL/DRUGS   \n",
       "4  OBSTRUCT/RESIST EXECUTIVE OFFICER   \n",
       "\n",
       "                                    Address  \\\n",
       "0  12300    CULVER                       BL   \n",
       "1  19000    VANOWEN                      ST   \n",
       "2           MAGNOLIA                     AV   \n",
       "3           HAYVENHURST                  ST   \n",
       "4   6600    ESPLANADE                    ST   \n",
       "\n",
       "                         Cross Street  \\\n",
       "0                                 NaN   \n",
       "1                                 NaN   \n",
       "2     LAUREL CANYON                BL   \n",
       "3  N  REGAN                        FY   \n",
       "4                                 NaN   \n",
       "\n",
       "                                            Location Zip Codes Census Tracts  \\\n",
       "0  {'latitude': '33.992', 'human_address': '{\"add...   24031.0         918.0   \n",
       "1  {'latitude': '34.1687', 'human_address': '{\"ad...   19339.0         321.0   \n",
       "2  {'latitude': '34.1649', 'human_address': '{\"ad...    8890.0         205.0   \n",
       "3  {'latitude': '34.2692', 'human_address': '{\"ad...   19329.0          69.0   \n",
       "4  {'latitude': '33.9609', 'human_address': '{\"ad...   25075.0         937.0   \n",
       "\n",
       "  Precinct Boundaries  LA Specific Plans  Council Districts  \\\n",
       "0              1137.0               10.0               10.0   \n",
       "1              1494.0                NaN                4.0   \n",
       "2              1332.0               17.0                5.0   \n",
       "3               388.0                NaN                2.0   \n",
       "4               241.0               10.0               10.0   \n",
       "\n",
       "   Neighborhood Councils (Certified)  \n",
       "0                               85.0  \n",
       "1                               10.0  \n",
       "2                               39.0  \n",
       "3                               78.0  \n",
       "4                               16.0  \n",
       "\n",
       "[5 rows x 23 columns]"
      ]
     },
     "execution_count": 52,
     "metadata": {},
     "output_type": "execute_result"
    }
   ],
   "source": [
    "arrest.rename(columns={'Area Name': 'AREA NAME'}, inplace=True)\n",
    "arrest.head()"
   ]
  },
  {
   "cell_type": "code",
   "execution_count": 53,
   "metadata": {},
   "outputs": [
    {
     "data": {
      "text/html": [
       "<div>\n",
       "<style scoped>\n",
       "    .dataframe tbody tr th:only-of-type {\n",
       "        vertical-align: middle;\n",
       "    }\n",
       "\n",
       "    .dataframe tbody tr th {\n",
       "        vertical-align: top;\n",
       "    }\n",
       "\n",
       "    .dataframe thead th {\n",
       "        text-align: right;\n",
       "    }\n",
       "</style>\n",
       "<table border=\"1\" class=\"dataframe\">\n",
       "  <thead>\n",
       "    <tr style=\"text-align: right;\">\n",
       "      <th></th>\n",
       "      <th>Report ID</th>\n",
       "      <th>Arrest Date</th>\n",
       "      <th>Time</th>\n",
       "      <th>Area ID</th>\n",
       "      <th>AREA NAME</th>\n",
       "      <th>Reporting District</th>\n",
       "      <th>Age</th>\n",
       "      <th>Sex Code</th>\n",
       "      <th>Descent Code</th>\n",
       "      <th>Charge Group Code</th>\n",
       "      <th>...</th>\n",
       "      <th>Cross Street</th>\n",
       "      <th>Location</th>\n",
       "      <th>Zip Codes</th>\n",
       "      <th>Census Tracts</th>\n",
       "      <th>Precinct Boundaries</th>\n",
       "      <th>LA Specific Plans</th>\n",
       "      <th>Council Districts</th>\n",
       "      <th>Neighborhood Councils (Certified)</th>\n",
       "      <th>avg_latitude</th>\n",
       "      <th>avg_longitude</th>\n",
       "    </tr>\n",
       "  </thead>\n",
       "  <tbody>\n",
       "    <tr>\n",
       "      <th>0</th>\n",
       "      <td>5666847</td>\n",
       "      <td>2019-06-22T00:00:00.000</td>\n",
       "      <td>1630.0</td>\n",
       "      <td>14</td>\n",
       "      <td>Pacific</td>\n",
       "      <td>1457</td>\n",
       "      <td>44</td>\n",
       "      <td>M</td>\n",
       "      <td>W</td>\n",
       "      <td>24.0</td>\n",
       "      <td>...</td>\n",
       "      <td>NaN</td>\n",
       "      <td>{'latitude': '33.992', 'human_address': '{\"add...</td>\n",
       "      <td>24031.0</td>\n",
       "      <td>918.0</td>\n",
       "      <td>1137.0</td>\n",
       "      <td>10.0</td>\n",
       "      <td>10.0</td>\n",
       "      <td>85.0</td>\n",
       "      <td>33.984376</td>\n",
       "      <td>-118.424562</td>\n",
       "    </tr>\n",
       "    <tr>\n",
       "      <th>1</th>\n",
       "      <td>5666688</td>\n",
       "      <td>2019-06-22T00:00:00.000</td>\n",
       "      <td>1010.0</td>\n",
       "      <td>10</td>\n",
       "      <td>West Valley</td>\n",
       "      <td>1061</td>\n",
       "      <td>8</td>\n",
       "      <td>M</td>\n",
       "      <td>O</td>\n",
       "      <td>NaN</td>\n",
       "      <td>...</td>\n",
       "      <td>NaN</td>\n",
       "      <td>{'latitude': '34.1687', 'human_address': '{\"ad...</td>\n",
       "      <td>19339.0</td>\n",
       "      <td>321.0</td>\n",
       "      <td>1494.0</td>\n",
       "      <td>NaN</td>\n",
       "      <td>4.0</td>\n",
       "      <td>10.0</td>\n",
       "      <td>34.187291</td>\n",
       "      <td>-118.520704</td>\n",
       "    </tr>\n",
       "    <tr>\n",
       "      <th>2</th>\n",
       "      <td>5666570</td>\n",
       "      <td>2019-06-22T00:00:00.000</td>\n",
       "      <td>400.0</td>\n",
       "      <td>15</td>\n",
       "      <td>N Hollywood</td>\n",
       "      <td>1543</td>\n",
       "      <td>31</td>\n",
       "      <td>F</td>\n",
       "      <td>O</td>\n",
       "      <td>22.0</td>\n",
       "      <td>...</td>\n",
       "      <td>LAUREL CANYON                BL</td>\n",
       "      <td>{'latitude': '34.1649', 'human_address': '{\"ad...</td>\n",
       "      <td>8890.0</td>\n",
       "      <td>205.0</td>\n",
       "      <td>1332.0</td>\n",
       "      <td>17.0</td>\n",
       "      <td>5.0</td>\n",
       "      <td>39.0</td>\n",
       "      <td>34.172389</td>\n",
       "      <td>-118.385405</td>\n",
       "    </tr>\n",
       "    <tr>\n",
       "      <th>3</th>\n",
       "      <td>5666529</td>\n",
       "      <td>2019-06-22T00:00:00.000</td>\n",
       "      <td>302.0</td>\n",
       "      <td>17</td>\n",
       "      <td>Devonshire</td>\n",
       "      <td>1738</td>\n",
       "      <td>23</td>\n",
       "      <td>F</td>\n",
       "      <td>W</td>\n",
       "      <td>22.0</td>\n",
       "      <td>...</td>\n",
       "      <td>N  REGAN                        FY</td>\n",
       "      <td>{'latitude': '34.2692', 'human_address': '{\"ad...</td>\n",
       "      <td>19329.0</td>\n",
       "      <td>69.0</td>\n",
       "      <td>388.0</td>\n",
       "      <td>NaN</td>\n",
       "      <td>2.0</td>\n",
       "      <td>78.0</td>\n",
       "      <td>34.250913</td>\n",
       "      <td>-118.537795</td>\n",
       "    </tr>\n",
       "    <tr>\n",
       "      <th>4</th>\n",
       "      <td>5666742</td>\n",
       "      <td>2019-06-22T00:00:00.000</td>\n",
       "      <td>1240.0</td>\n",
       "      <td>14</td>\n",
       "      <td>Pacific</td>\n",
       "      <td>1472</td>\n",
       "      <td>28</td>\n",
       "      <td>M</td>\n",
       "      <td>W</td>\n",
       "      <td>8.0</td>\n",
       "      <td>...</td>\n",
       "      <td>NaN</td>\n",
       "      <td>{'latitude': '33.9609', 'human_address': '{\"ad...</td>\n",
       "      <td>25075.0</td>\n",
       "      <td>937.0</td>\n",
       "      <td>241.0</td>\n",
       "      <td>10.0</td>\n",
       "      <td>10.0</td>\n",
       "      <td>16.0</td>\n",
       "      <td>33.984376</td>\n",
       "      <td>-118.424562</td>\n",
       "    </tr>\n",
       "  </tbody>\n",
       "</table>\n",
       "<p>5 rows × 25 columns</p>\n",
       "</div>"
      ],
      "text/plain": [
       "   Report ID              Arrest Date    Time  Area ID    AREA NAME  \\\n",
       "0    5666847  2019-06-22T00:00:00.000  1630.0       14      Pacific   \n",
       "1    5666688  2019-06-22T00:00:00.000  1010.0       10  West Valley   \n",
       "2    5666570  2019-06-22T00:00:00.000   400.0       15  N Hollywood   \n",
       "3    5666529  2019-06-22T00:00:00.000   302.0       17   Devonshire   \n",
       "4    5666742  2019-06-22T00:00:00.000  1240.0       14      Pacific   \n",
       "\n",
       "   Reporting District  Age Sex Code Descent Code  Charge Group Code  ...  \\\n",
       "0                1457   44        M            W               24.0  ...   \n",
       "1                1061    8        M            O                NaN  ...   \n",
       "2                1543   31        F            O               22.0  ...   \n",
       "3                1738   23        F            W               22.0  ...   \n",
       "4                1472   28        M            W                8.0  ...   \n",
       "\n",
       "                         Cross Street  \\\n",
       "0                                 NaN   \n",
       "1                                 NaN   \n",
       "2     LAUREL CANYON                BL   \n",
       "3  N  REGAN                        FY   \n",
       "4                                 NaN   \n",
       "\n",
       "                                            Location Zip Codes Census Tracts  \\\n",
       "0  {'latitude': '33.992', 'human_address': '{\"add...   24031.0         918.0   \n",
       "1  {'latitude': '34.1687', 'human_address': '{\"ad...   19339.0         321.0   \n",
       "2  {'latitude': '34.1649', 'human_address': '{\"ad...    8890.0         205.0   \n",
       "3  {'latitude': '34.2692', 'human_address': '{\"ad...   19329.0          69.0   \n",
       "4  {'latitude': '33.9609', 'human_address': '{\"ad...   25075.0         937.0   \n",
       "\n",
       "  Precinct Boundaries LA Specific Plans Council Districts  \\\n",
       "0              1137.0              10.0              10.0   \n",
       "1              1494.0               NaN               4.0   \n",
       "2              1332.0              17.0               5.0   \n",
       "3               388.0               NaN               2.0   \n",
       "4               241.0              10.0              10.0   \n",
       "\n",
       "   Neighborhood Councils (Certified)  avg_latitude  avg_longitude  \n",
       "0                               85.0     33.984376    -118.424562  \n",
       "1                               10.0     34.187291    -118.520704  \n",
       "2                               39.0     34.172389    -118.385405  \n",
       "3                               78.0     34.250913    -118.537795  \n",
       "4                               16.0     33.984376    -118.424562  \n",
       "\n",
       "[5 rows x 25 columns]"
      ]
     },
     "execution_count": 53,
     "metadata": {},
     "output_type": "execute_result"
    }
   ],
   "source": [
    "df_arrest = pd.DataFrame(arrest)\n",
    "df_arrest = df_arrest.merge(avg_coords, on='AREA NAME', how='left')\n",
    "df_arrest.head()"
   ]
  },
  {
   "cell_type": "markdown",
   "metadata": {},
   "source": [
    "## Fig 9: Crime and Arrest trend across the years in LA."
   ]
  },
  {
   "cell_type": "code",
   "execution_count": 54,
   "metadata": {},
   "outputs": [
    {
     "name": "stderr",
     "output_type": "stream",
     "text": [
      "C:\\Users\\subha\\AppData\\Local\\Temp\\ipykernel_5808\\1901652518.py:11: FutureWarning:\n",
      "\n",
      "'M' is deprecated and will be removed in a future version, please use 'ME' instead.\n",
      "\n",
      "C:\\Users\\subha\\AppData\\Local\\Temp\\ipykernel_5808\\1901652518.py:12: FutureWarning:\n",
      "\n",
      "'M' is deprecated and will be removed in a future version, please use 'ME' instead.\n",
      "\n"
     ]
    },
    {
     "data": {
      "application/vnd.plotly.v1+json": {
       "config": {
        "plotlyServerURL": "https://plot.ly"
       },
       "data": [
        {
         "line": {
          "color": "blue"
         },
         "mode": "lines",
         "name": "Crimes",
         "type": "scatter",
         "x": [
          "2010-01-31T00:00:00",
          "2010-02-28T00:00:00",
          "2010-03-31T00:00:00",
          "2010-04-30T00:00:00",
          "2010-05-31T00:00:00",
          "2010-06-30T00:00:00",
          "2010-07-31T00:00:00",
          "2010-08-31T00:00:00",
          "2010-09-30T00:00:00",
          "2010-10-31T00:00:00",
          "2010-11-30T00:00:00",
          "2010-12-31T00:00:00",
          "2011-01-31T00:00:00",
          "2011-02-28T00:00:00",
          "2011-03-31T00:00:00",
          "2011-04-30T00:00:00",
          "2011-05-31T00:00:00",
          "2011-06-30T00:00:00",
          "2011-07-31T00:00:00",
          "2011-08-31T00:00:00",
          "2011-09-30T00:00:00",
          "2011-10-31T00:00:00",
          "2011-11-30T00:00:00",
          "2011-12-31T00:00:00",
          "2012-01-31T00:00:00",
          "2012-02-29T00:00:00",
          "2012-03-31T00:00:00",
          "2012-04-30T00:00:00",
          "2012-05-31T00:00:00",
          "2012-06-30T00:00:00",
          "2012-07-31T00:00:00",
          "2012-08-31T00:00:00",
          "2012-09-30T00:00:00",
          "2012-10-31T00:00:00",
          "2012-11-30T00:00:00",
          "2012-12-31T00:00:00",
          "2013-01-31T00:00:00",
          "2013-02-28T00:00:00",
          "2013-03-31T00:00:00",
          "2013-04-30T00:00:00",
          "2013-05-31T00:00:00",
          "2013-06-30T00:00:00",
          "2013-07-31T00:00:00",
          "2013-08-31T00:00:00",
          "2013-09-30T00:00:00",
          "2013-10-31T00:00:00",
          "2013-11-30T00:00:00",
          "2013-12-31T00:00:00",
          "2014-01-31T00:00:00",
          "2014-02-28T00:00:00",
          "2014-03-31T00:00:00",
          "2014-04-30T00:00:00",
          "2014-05-31T00:00:00",
          "2014-06-30T00:00:00",
          "2014-07-31T00:00:00",
          "2014-08-31T00:00:00",
          "2014-09-30T00:00:00",
          "2014-10-31T00:00:00",
          "2014-11-30T00:00:00",
          "2014-12-31T00:00:00",
          "2015-01-31T00:00:00",
          "2015-02-28T00:00:00",
          "2015-03-31T00:00:00",
          "2015-04-30T00:00:00",
          "2015-05-31T00:00:00",
          "2015-06-30T00:00:00",
          "2015-07-31T00:00:00",
          "2015-08-31T00:00:00",
          "2015-09-30T00:00:00",
          "2015-10-31T00:00:00",
          "2015-11-30T00:00:00",
          "2015-12-31T00:00:00",
          "2016-01-31T00:00:00",
          "2016-02-29T00:00:00",
          "2016-03-31T00:00:00",
          "2016-04-30T00:00:00",
          "2016-05-31T00:00:00",
          "2016-06-30T00:00:00",
          "2016-07-31T00:00:00",
          "2016-08-31T00:00:00",
          "2016-09-30T00:00:00",
          "2016-10-31T00:00:00",
          "2016-11-30T00:00:00",
          "2016-12-31T00:00:00",
          "2017-01-31T00:00:00",
          "2017-02-28T00:00:00",
          "2017-03-31T00:00:00",
          "2017-04-30T00:00:00",
          "2017-05-31T00:00:00",
          "2017-06-30T00:00:00",
          "2017-07-31T00:00:00",
          "2017-08-31T00:00:00",
          "2017-09-30T00:00:00",
          "2017-10-31T00:00:00",
          "2017-11-30T00:00:00",
          "2017-12-31T00:00:00",
          "2018-01-31T00:00:00",
          "2018-02-28T00:00:00",
          "2018-03-31T00:00:00",
          "2018-04-30T00:00:00",
          "2018-05-31T00:00:00",
          "2018-06-30T00:00:00",
          "2018-07-31T00:00:00",
          "2018-08-31T00:00:00",
          "2018-09-30T00:00:00",
          "2018-10-31T00:00:00",
          "2018-11-30T00:00:00",
          "2018-12-31T00:00:00",
          "2019-01-31T00:00:00",
          "2019-02-28T00:00:00",
          "2019-03-31T00:00:00",
          "2019-04-30T00:00:00",
          "2019-05-31T00:00:00",
          "2019-06-30T00:00:00",
          "2019-07-31T00:00:00",
          "2019-08-31T00:00:00",
          "2019-09-30T00:00:00",
          "2019-10-31T00:00:00",
          "2019-11-30T00:00:00",
          "2019-12-31T00:00:00"
         ],
         "y": [
          19454,
          16020,
          18126,
          17770,
          17715,
          17668,
          17847,
          17292,
          16625,
          17612,
          16006,
          17029,
          18074,
          14677,
          16939,
          16433,
          16936,
          17010,
          17266,
          16997,
          16236,
          17026,
          16409,
          16676,
          17848,
          15339,
          16583,
          16291,
          17479,
          17020,
          16404,
          17641,
          16976,
          17228,
          15766,
          16297,
          16741,
          14056,
          16210,
          15718,
          16593,
          16096,
          16625,
          17420,
          16220,
          16230,
          15335,
          15337,
          16151,
          13680,
          15597,
          15405,
          16697,
          16351,
          17213,
          17041,
          16742,
          17294,
          15940,
          17162,
          18346,
          16005,
          18004,
          16940,
          17930,
          17542,
          18679,
          18988,
          18271,
          19191,
          17369,
          18200,
          19037,
          17346,
          18266,
          18620,
          19051,
          18967,
          19409,
          19457,
          18479,
          19635,
          17961,
          19177,
          19617,
          17103,
          19400,
          18748,
          19444,
          19028,
          20148,
          19702,
          19413,
          20390,
          19004,
          19016,
          19358,
          17130,
          19017,
          19126,
          19933,
          19247,
          19818,
          19708,
          18433,
          19505,
          18631,
          18915,
          18381,
          16233,
          18781,
          17903,
          18618,
          18295,
          19043,
          18884,
          17963,
          18152,
          17189,
          17967
         ]
        },
        {
         "line": {
          "color": "red"
         },
         "mode": "lines",
         "name": "Arrests",
         "type": "scatter",
         "x": [
          "2010-01-31T00:00:00",
          "2010-02-28T00:00:00",
          "2010-03-31T00:00:00",
          "2010-04-30T00:00:00",
          "2010-05-31T00:00:00",
          "2010-06-30T00:00:00",
          "2010-07-31T00:00:00",
          "2010-08-31T00:00:00",
          "2010-09-30T00:00:00",
          "2010-10-31T00:00:00",
          "2010-11-30T00:00:00",
          "2010-12-31T00:00:00",
          "2011-01-31T00:00:00",
          "2011-02-28T00:00:00",
          "2011-03-31T00:00:00",
          "2011-04-30T00:00:00",
          "2011-05-31T00:00:00",
          "2011-06-30T00:00:00",
          "2011-07-31T00:00:00",
          "2011-08-31T00:00:00",
          "2011-09-30T00:00:00",
          "2011-10-31T00:00:00",
          "2011-11-30T00:00:00",
          "2011-12-31T00:00:00",
          "2012-01-31T00:00:00",
          "2012-02-29T00:00:00",
          "2012-03-31T00:00:00",
          "2012-04-30T00:00:00",
          "2012-05-31T00:00:00",
          "2012-06-30T00:00:00",
          "2012-07-31T00:00:00",
          "2012-08-31T00:00:00",
          "2012-09-30T00:00:00",
          "2012-10-31T00:00:00",
          "2012-11-30T00:00:00",
          "2012-12-31T00:00:00",
          "2013-01-31T00:00:00",
          "2013-02-28T00:00:00",
          "2013-03-31T00:00:00",
          "2013-04-30T00:00:00",
          "2013-05-31T00:00:00",
          "2013-06-30T00:00:00",
          "2013-07-31T00:00:00",
          "2013-08-31T00:00:00",
          "2013-09-30T00:00:00",
          "2013-10-31T00:00:00",
          "2013-11-30T00:00:00",
          "2013-12-31T00:00:00",
          "2014-01-31T00:00:00",
          "2014-02-28T00:00:00",
          "2014-03-31T00:00:00",
          "2014-04-30T00:00:00",
          "2014-05-31T00:00:00",
          "2014-06-30T00:00:00",
          "2014-07-31T00:00:00",
          "2014-08-31T00:00:00",
          "2014-09-30T00:00:00",
          "2014-10-31T00:00:00",
          "2014-11-30T00:00:00",
          "2014-12-31T00:00:00",
          "2015-01-31T00:00:00",
          "2015-02-28T00:00:00",
          "2015-03-31T00:00:00",
          "2015-04-30T00:00:00",
          "2015-05-31T00:00:00",
          "2015-06-30T00:00:00",
          "2015-07-31T00:00:00",
          "2015-08-31T00:00:00",
          "2015-09-30T00:00:00",
          "2015-10-31T00:00:00",
          "2015-11-30T00:00:00",
          "2015-12-31T00:00:00",
          "2016-01-31T00:00:00",
          "2016-02-29T00:00:00",
          "2016-03-31T00:00:00",
          "2016-04-30T00:00:00",
          "2016-05-31T00:00:00",
          "2016-06-30T00:00:00",
          "2016-07-31T00:00:00",
          "2016-08-31T00:00:00",
          "2016-09-30T00:00:00",
          "2016-10-31T00:00:00",
          "2016-11-30T00:00:00",
          "2016-12-31T00:00:00",
          "2017-01-31T00:00:00",
          "2017-02-28T00:00:00",
          "2017-03-31T00:00:00",
          "2017-04-30T00:00:00",
          "2017-05-31T00:00:00",
          "2017-06-30T00:00:00",
          "2017-07-31T00:00:00",
          "2017-08-31T00:00:00",
          "2017-09-30T00:00:00",
          "2017-10-31T00:00:00",
          "2017-11-30T00:00:00",
          "2017-12-31T00:00:00",
          "2018-01-31T00:00:00",
          "2018-02-28T00:00:00",
          "2018-03-31T00:00:00",
          "2018-04-30T00:00:00",
          "2018-05-31T00:00:00",
          "2018-06-30T00:00:00",
          "2018-07-31T00:00:00",
          "2018-08-31T00:00:00",
          "2018-09-30T00:00:00",
          "2018-10-31T00:00:00",
          "2018-11-30T00:00:00",
          "2018-12-31T00:00:00",
          "2019-01-31T00:00:00",
          "2019-02-28T00:00:00",
          "2019-03-31T00:00:00",
          "2019-04-30T00:00:00",
          "2019-05-31T00:00:00",
          "2019-06-30T00:00:00"
         ],
         "y": [
          13606,
          12285,
          14467,
          13738,
          14787,
          13753,
          14220,
          14143,
          14351,
          13904,
          12110,
          11055,
          13101,
          11500,
          14318,
          12773,
          13614,
          13815,
          14555,
          14003,
          13414,
          12924,
          12076,
          11550,
          13840,
          13702,
          14705,
          13307,
          14285,
          13092,
          14036,
          14901,
          13782,
          13557,
          12059,
          12050,
          13226,
          10781,
          14648,
          13782,
          15057,
          13006,
          13350,
          12718,
          11642,
          12460,
          11118,
          10897,
          12228,
          10892,
          11852,
          11216,
          11777,
          10955,
          13847,
          13011,
          12173,
          11812,
          10193,
          9461,
          11480,
          11204,
          11421,
          10893,
          10965,
          10252,
          10434,
          10472,
          10305,
          10549,
          9561,
          8668,
          10406,
          9953,
          10842,
          10615,
          10897,
          10001,
          10154,
          10438,
          9733,
          8916,
          8058,
          8180,
          8031,
          8328,
          9545,
          9662,
          9624,
          8979,
          9758,
          10075,
          9136,
          8637,
          7998,
          7982,
          9074,
          8698,
          8620,
          8658,
          9633,
          9061,
          9243,
          9883,
          8777,
          8275,
          7076,
          7297,
          7641,
          6808,
          8058,
          7793,
          8626,
          5307
         ]
        }
       ],
       "layout": {
        "legend": {
         "title": {
          "text": "Category"
         }
        },
        "template": {
         "data": {
          "bar": [
           {
            "error_x": {
             "color": "#2a3f5f"
            },
            "error_y": {
             "color": "#2a3f5f"
            },
            "marker": {
             "line": {
              "color": "#E5ECF6",
              "width": 0.5
             },
             "pattern": {
              "fillmode": "overlay",
              "size": 10,
              "solidity": 0.2
             }
            },
            "type": "bar"
           }
          ],
          "barpolar": [
           {
            "marker": {
             "line": {
              "color": "#E5ECF6",
              "width": 0.5
             },
             "pattern": {
              "fillmode": "overlay",
              "size": 10,
              "solidity": 0.2
             }
            },
            "type": "barpolar"
           }
          ],
          "carpet": [
           {
            "aaxis": {
             "endlinecolor": "#2a3f5f",
             "gridcolor": "white",
             "linecolor": "white",
             "minorgridcolor": "white",
             "startlinecolor": "#2a3f5f"
            },
            "baxis": {
             "endlinecolor": "#2a3f5f",
             "gridcolor": "white",
             "linecolor": "white",
             "minorgridcolor": "white",
             "startlinecolor": "#2a3f5f"
            },
            "type": "carpet"
           }
          ],
          "choropleth": [
           {
            "colorbar": {
             "outlinewidth": 0,
             "ticks": ""
            },
            "type": "choropleth"
           }
          ],
          "contour": [
           {
            "colorbar": {
             "outlinewidth": 0,
             "ticks": ""
            },
            "colorscale": [
             [
              0,
              "#0d0887"
             ],
             [
              0.1111111111111111,
              "#46039f"
             ],
             [
              0.2222222222222222,
              "#7201a8"
             ],
             [
              0.3333333333333333,
              "#9c179e"
             ],
             [
              0.4444444444444444,
              "#bd3786"
             ],
             [
              0.5555555555555556,
              "#d8576b"
             ],
             [
              0.6666666666666666,
              "#ed7953"
             ],
             [
              0.7777777777777778,
              "#fb9f3a"
             ],
             [
              0.8888888888888888,
              "#fdca26"
             ],
             [
              1,
              "#f0f921"
             ]
            ],
            "type": "contour"
           }
          ],
          "contourcarpet": [
           {
            "colorbar": {
             "outlinewidth": 0,
             "ticks": ""
            },
            "type": "contourcarpet"
           }
          ],
          "heatmap": [
           {
            "colorbar": {
             "outlinewidth": 0,
             "ticks": ""
            },
            "colorscale": [
             [
              0,
              "#0d0887"
             ],
             [
              0.1111111111111111,
              "#46039f"
             ],
             [
              0.2222222222222222,
              "#7201a8"
             ],
             [
              0.3333333333333333,
              "#9c179e"
             ],
             [
              0.4444444444444444,
              "#bd3786"
             ],
             [
              0.5555555555555556,
              "#d8576b"
             ],
             [
              0.6666666666666666,
              "#ed7953"
             ],
             [
              0.7777777777777778,
              "#fb9f3a"
             ],
             [
              0.8888888888888888,
              "#fdca26"
             ],
             [
              1,
              "#f0f921"
             ]
            ],
            "type": "heatmap"
           }
          ],
          "heatmapgl": [
           {
            "colorbar": {
             "outlinewidth": 0,
             "ticks": ""
            },
            "colorscale": [
             [
              0,
              "#0d0887"
             ],
             [
              0.1111111111111111,
              "#46039f"
             ],
             [
              0.2222222222222222,
              "#7201a8"
             ],
             [
              0.3333333333333333,
              "#9c179e"
             ],
             [
              0.4444444444444444,
              "#bd3786"
             ],
             [
              0.5555555555555556,
              "#d8576b"
             ],
             [
              0.6666666666666666,
              "#ed7953"
             ],
             [
              0.7777777777777778,
              "#fb9f3a"
             ],
             [
              0.8888888888888888,
              "#fdca26"
             ],
             [
              1,
              "#f0f921"
             ]
            ],
            "type": "heatmapgl"
           }
          ],
          "histogram": [
           {
            "marker": {
             "pattern": {
              "fillmode": "overlay",
              "size": 10,
              "solidity": 0.2
             }
            },
            "type": "histogram"
           }
          ],
          "histogram2d": [
           {
            "colorbar": {
             "outlinewidth": 0,
             "ticks": ""
            },
            "colorscale": [
             [
              0,
              "#0d0887"
             ],
             [
              0.1111111111111111,
              "#46039f"
             ],
             [
              0.2222222222222222,
              "#7201a8"
             ],
             [
              0.3333333333333333,
              "#9c179e"
             ],
             [
              0.4444444444444444,
              "#bd3786"
             ],
             [
              0.5555555555555556,
              "#d8576b"
             ],
             [
              0.6666666666666666,
              "#ed7953"
             ],
             [
              0.7777777777777778,
              "#fb9f3a"
             ],
             [
              0.8888888888888888,
              "#fdca26"
             ],
             [
              1,
              "#f0f921"
             ]
            ],
            "type": "histogram2d"
           }
          ],
          "histogram2dcontour": [
           {
            "colorbar": {
             "outlinewidth": 0,
             "ticks": ""
            },
            "colorscale": [
             [
              0,
              "#0d0887"
             ],
             [
              0.1111111111111111,
              "#46039f"
             ],
             [
              0.2222222222222222,
              "#7201a8"
             ],
             [
              0.3333333333333333,
              "#9c179e"
             ],
             [
              0.4444444444444444,
              "#bd3786"
             ],
             [
              0.5555555555555556,
              "#d8576b"
             ],
             [
              0.6666666666666666,
              "#ed7953"
             ],
             [
              0.7777777777777778,
              "#fb9f3a"
             ],
             [
              0.8888888888888888,
              "#fdca26"
             ],
             [
              1,
              "#f0f921"
             ]
            ],
            "type": "histogram2dcontour"
           }
          ],
          "mesh3d": [
           {
            "colorbar": {
             "outlinewidth": 0,
             "ticks": ""
            },
            "type": "mesh3d"
           }
          ],
          "parcoords": [
           {
            "line": {
             "colorbar": {
              "outlinewidth": 0,
              "ticks": ""
             }
            },
            "type": "parcoords"
           }
          ],
          "pie": [
           {
            "automargin": true,
            "type": "pie"
           }
          ],
          "scatter": [
           {
            "fillpattern": {
             "fillmode": "overlay",
             "size": 10,
             "solidity": 0.2
            },
            "type": "scatter"
           }
          ],
          "scatter3d": [
           {
            "line": {
             "colorbar": {
              "outlinewidth": 0,
              "ticks": ""
             }
            },
            "marker": {
             "colorbar": {
              "outlinewidth": 0,
              "ticks": ""
             }
            },
            "type": "scatter3d"
           }
          ],
          "scattercarpet": [
           {
            "marker": {
             "colorbar": {
              "outlinewidth": 0,
              "ticks": ""
             }
            },
            "type": "scattercarpet"
           }
          ],
          "scattergeo": [
           {
            "marker": {
             "colorbar": {
              "outlinewidth": 0,
              "ticks": ""
             }
            },
            "type": "scattergeo"
           }
          ],
          "scattergl": [
           {
            "marker": {
             "colorbar": {
              "outlinewidth": 0,
              "ticks": ""
             }
            },
            "type": "scattergl"
           }
          ],
          "scattermapbox": [
           {
            "marker": {
             "colorbar": {
              "outlinewidth": 0,
              "ticks": ""
             }
            },
            "type": "scattermapbox"
           }
          ],
          "scatterpolar": [
           {
            "marker": {
             "colorbar": {
              "outlinewidth": 0,
              "ticks": ""
             }
            },
            "type": "scatterpolar"
           }
          ],
          "scatterpolargl": [
           {
            "marker": {
             "colorbar": {
              "outlinewidth": 0,
              "ticks": ""
             }
            },
            "type": "scatterpolargl"
           }
          ],
          "scatterternary": [
           {
            "marker": {
             "colorbar": {
              "outlinewidth": 0,
              "ticks": ""
             }
            },
            "type": "scatterternary"
           }
          ],
          "surface": [
           {
            "colorbar": {
             "outlinewidth": 0,
             "ticks": ""
            },
            "colorscale": [
             [
              0,
              "#0d0887"
             ],
             [
              0.1111111111111111,
              "#46039f"
             ],
             [
              0.2222222222222222,
              "#7201a8"
             ],
             [
              0.3333333333333333,
              "#9c179e"
             ],
             [
              0.4444444444444444,
              "#bd3786"
             ],
             [
              0.5555555555555556,
              "#d8576b"
             ],
             [
              0.6666666666666666,
              "#ed7953"
             ],
             [
              0.7777777777777778,
              "#fb9f3a"
             ],
             [
              0.8888888888888888,
              "#fdca26"
             ],
             [
              1,
              "#f0f921"
             ]
            ],
            "type": "surface"
           }
          ],
          "table": [
           {
            "cells": {
             "fill": {
              "color": "#EBF0F8"
             },
             "line": {
              "color": "white"
             }
            },
            "header": {
             "fill": {
              "color": "#C8D4E3"
             },
             "line": {
              "color": "white"
             }
            },
            "type": "table"
           }
          ]
         },
         "layout": {
          "annotationdefaults": {
           "arrowcolor": "#2a3f5f",
           "arrowhead": 0,
           "arrowwidth": 1
          },
          "autotypenumbers": "strict",
          "coloraxis": {
           "colorbar": {
            "outlinewidth": 0,
            "ticks": ""
           }
          },
          "colorscale": {
           "diverging": [
            [
             0,
             "#8e0152"
            ],
            [
             0.1,
             "#c51b7d"
            ],
            [
             0.2,
             "#de77ae"
            ],
            [
             0.3,
             "#f1b6da"
            ],
            [
             0.4,
             "#fde0ef"
            ],
            [
             0.5,
             "#f7f7f7"
            ],
            [
             0.6,
             "#e6f5d0"
            ],
            [
             0.7,
             "#b8e186"
            ],
            [
             0.8,
             "#7fbc41"
            ],
            [
             0.9,
             "#4d9221"
            ],
            [
             1,
             "#276419"
            ]
           ],
           "sequential": [
            [
             0,
             "#0d0887"
            ],
            [
             0.1111111111111111,
             "#46039f"
            ],
            [
             0.2222222222222222,
             "#7201a8"
            ],
            [
             0.3333333333333333,
             "#9c179e"
            ],
            [
             0.4444444444444444,
             "#bd3786"
            ],
            [
             0.5555555555555556,
             "#d8576b"
            ],
            [
             0.6666666666666666,
             "#ed7953"
            ],
            [
             0.7777777777777778,
             "#fb9f3a"
            ],
            [
             0.8888888888888888,
             "#fdca26"
            ],
            [
             1,
             "#f0f921"
            ]
           ],
           "sequentialminus": [
            [
             0,
             "#0d0887"
            ],
            [
             0.1111111111111111,
             "#46039f"
            ],
            [
             0.2222222222222222,
             "#7201a8"
            ],
            [
             0.3333333333333333,
             "#9c179e"
            ],
            [
             0.4444444444444444,
             "#bd3786"
            ],
            [
             0.5555555555555556,
             "#d8576b"
            ],
            [
             0.6666666666666666,
             "#ed7953"
            ],
            [
             0.7777777777777778,
             "#fb9f3a"
            ],
            [
             0.8888888888888888,
             "#fdca26"
            ],
            [
             1,
             "#f0f921"
            ]
           ]
          },
          "colorway": [
           "#636efa",
           "#EF553B",
           "#00cc96",
           "#ab63fa",
           "#FFA15A",
           "#19d3f3",
           "#FF6692",
           "#B6E880",
           "#FF97FF",
           "#FECB52"
          ],
          "font": {
           "color": "#2a3f5f"
          },
          "geo": {
           "bgcolor": "white",
           "lakecolor": "white",
           "landcolor": "#E5ECF6",
           "showlakes": true,
           "showland": true,
           "subunitcolor": "white"
          },
          "hoverlabel": {
           "align": "left"
          },
          "hovermode": "closest",
          "mapbox": {
           "style": "light"
          },
          "paper_bgcolor": "white",
          "plot_bgcolor": "#E5ECF6",
          "polar": {
           "angularaxis": {
            "gridcolor": "white",
            "linecolor": "white",
            "ticks": ""
           },
           "bgcolor": "#E5ECF6",
           "radialaxis": {
            "gridcolor": "white",
            "linecolor": "white",
            "ticks": ""
           }
          },
          "scene": {
           "xaxis": {
            "backgroundcolor": "#E5ECF6",
            "gridcolor": "white",
            "gridwidth": 2,
            "linecolor": "white",
            "showbackground": true,
            "ticks": "",
            "zerolinecolor": "white"
           },
           "yaxis": {
            "backgroundcolor": "#E5ECF6",
            "gridcolor": "white",
            "gridwidth": 2,
            "linecolor": "white",
            "showbackground": true,
            "ticks": "",
            "zerolinecolor": "white"
           },
           "zaxis": {
            "backgroundcolor": "#E5ECF6",
            "gridcolor": "white",
            "gridwidth": 2,
            "linecolor": "white",
            "showbackground": true,
            "ticks": "",
            "zerolinecolor": "white"
           }
          },
          "shapedefaults": {
           "line": {
            "color": "#2a3f5f"
           }
          },
          "ternary": {
           "aaxis": {
            "gridcolor": "white",
            "linecolor": "white",
            "ticks": ""
           },
           "baxis": {
            "gridcolor": "white",
            "linecolor": "white",
            "ticks": ""
           },
           "bgcolor": "#E5ECF6",
           "caxis": {
            "gridcolor": "white",
            "linecolor": "white",
            "ticks": ""
           }
          },
          "title": {
           "x": 0.05
          },
          "xaxis": {
           "automargin": true,
           "gridcolor": "white",
           "linecolor": "white",
           "ticks": "",
           "title": {
            "standoff": 15
           },
           "zerolinecolor": "white",
           "zerolinewidth": 2
          },
          "yaxis": {
           "automargin": true,
           "gridcolor": "white",
           "linecolor": "white",
           "ticks": "",
           "title": {
            "standoff": 15
           },
           "zerolinecolor": "white",
           "zerolinewidth": 2
          }
         }
        },
        "title": {
         "text": "Monthly Crime and Arrest Counts (Up to 2019)"
        },
        "xaxis": {
         "dtick": "M12",
         "tickformat": "%Y",
         "ticklabelmode": "period",
         "title": {
          "text": "Date"
         }
        },
        "yaxis": {
         "title": {
          "text": "Count"
         }
        }
       }
      }
     },
     "metadata": {},
     "output_type": "display_data"
    }
   ],
   "source": [
    "import pandas as pd\n",
    "import plotly.graph_objects as go\n",
    "\n",
    "# Assuming 'df_crime' and 'df_arrest' DataFrames are already defined and contain 'DATE OCC' and 'Arrest Date'\n",
    "\n",
    "# Convert 'DATE OCC' and 'Arrest Date' to datetime format\n",
    "df_crime['DATE OCC'] = pd.to_datetime(df_crime['DATE OCC'], format='%d-%m-%Y %H:%M:%S')\n",
    "df_arrest['Arrest Date'] = pd.to_datetime(df_arrest['Arrest Date'], errors='coerce')  # Handle errors gracefully\n",
    "\n",
    "# Resample to monthly counts\n",
    "crime_counts_monthly = df_crime.resample('M', on='DATE OCC').size().reset_index(name='count')\n",
    "arrest_counts_monthly = df_arrest.resample('M', on='Arrest Date').size().reset_index(name='count')\n",
    "\n",
    "# Filter data up to 2019\n",
    "crime_counts_monthly = crime_counts_monthly[crime_counts_monthly['DATE OCC'] < '2020-01-01']\n",
    "arrest_counts_monthly = arrest_counts_monthly[arrest_counts_monthly['Arrest Date'] < '2020-01-01']\n",
    "\n",
    "# Create figure\n",
    "fig = go.Figure()\n",
    "\n",
    "# Add Crime data trace\n",
    "fig.add_trace(go.Scatter(\n",
    "    x=crime_counts_monthly['DATE OCC'],\n",
    "    y=crime_counts_monthly['count'],\n",
    "    mode='lines',\n",
    "    name='Crimes',  # Label for the line\n",
    "    line=dict(color='blue')  # Color for crimes\n",
    "))\n",
    "\n",
    "# Add Arrest data trace\n",
    "fig.add_trace(go.Scatter(\n",
    "    x=arrest_counts_monthly['Arrest Date'],\n",
    "    y=arrest_counts_monthly['count'],\n",
    "    mode='lines',\n",
    "    name='Arrests',  # Label for the line\n",
    "    line=dict(color='red')  # Color for arrests\n",
    "))\n",
    "\n",
    "# Update x-axis to show only year labels and format it as year\n",
    "fig.update_xaxes(\n",
    "    dtick=\"M12\",  # Sets the tick mark to yearly intervals\n",
    "    tickformat=\"%Y\",  # Display only the year\n",
    "    ticklabelmode=\"period\"  # Ensure the label is shown for the period, i.e., the year\n",
    ")\n",
    "\n",
    "# Update layout for better visualization\n",
    "fig.update_layout(\n",
    "    title='Monthly Crime and Arrest Counts (Up to 2019)',\n",
    "    xaxis_title='Date',\n",
    "    yaxis_title='Count',\n",
    "    legend_title='Category'\n",
    ")\n",
    "\n",
    "fig.show()\n"
   ]
  },
  {
   "cell_type": "markdown",
   "metadata": {},
   "source": [
    "## Fig 6: Crime count in different regions of LA (2010-2019)"
   ]
  },
  {
   "cell_type": "code",
   "execution_count": 37,
   "metadata": {},
   "outputs": [
    {
     "data": {
      "application/vnd.plotly.v1+json": {
       "config": {
        "plotlyServerURL": "https://plot.ly"
       },
       "data": [
        {
         "customdata": [
          [
           145389,
           33.97792362529343,
           -118.2976707790493
          ],
          [
           98320,
           34.04723577086088,
           -118.25044020623015
          ],
          [
           96531,
           34.250912813168966,
           -118.53779463940356
          ],
          [
           79932,
           34.24916038842626,
           -118.37903749876483
          ],
          [
           92037,
           33.770423943909115,
           -118.2858495586429
          ],
          [
           77964,
           34.055454594119524,
           -118.20241658233017
          ],
          [
           99063,
           34.099252899904876,
           -118.33002588832146
          ],
          [
           103643,
           34.256287996122985,
           -118.45020426895702
          ],
          [
           113968,
           34.17238903955501,
           -118.38540517737948
          ],
          [
           100064,
           34.00795162543349,
           -118.26096118825265
          ],
          [
           100308,
           34.108034737853714,
           -118.24310458942873
          ],
          [
           95392,
           34.06001219065913,
           -118.30022512864373
          ],
          [
           112547,
           33.984376036775515,
           -118.42456235468416
          ],
          [
           89641,
           34.06389795673707,
           -118.27450718476283
          ],
          [
           111500,
           33.939312439252866,
           -118.26653983503185
          ],
          [
           135497,
           34.0194730163688,
           -118.31777015871167
          ],
          [
           97682,
           34.19279069975179,
           -118.60109508043082
          ],
          [
           99813,
           34.17862972980691,
           -118.44651367812399
          ],
          [
           89103,
           34.052102116366065,
           -118.43992232974422
          ],
          [
           89632,
           34.18729061930924,
           -118.52070420151857
          ],
          [
           88656,
           34.06136878071402,
           -118.35175598049263
          ]
         ],
         "hovertemplate": "<b>%{hovertext}</b><br><br>count=%{marker.color}<br>AREA NAME=%{text}<extra></extra>",
         "hovertext": [
          "77th Street",
          "Central",
          "Devonshire",
          "Foothill",
          "Harbor",
          "Hollenbeck",
          "Hollywood",
          "Mission",
          "N Hollywood",
          "Newton",
          "Northeast",
          "Olympic",
          "Pacific",
          "Rampart",
          "Southeast",
          "Southwest",
          "Topanga",
          "Van Nuys",
          "West LA",
          "West Valley",
          "Wilshire"
         ],
         "lat": [
          33.97792362529343,
          34.04723577086088,
          34.250912813168966,
          34.24916038842626,
          33.770423943909115,
          34.055454594119524,
          34.099252899904876,
          34.256287996122985,
          34.17238903955501,
          34.00795162543349,
          34.108034737853714,
          34.06001219065913,
          33.984376036775515,
          34.06389795673707,
          33.939312439252866,
          34.0194730163688,
          34.19279069975179,
          34.17862972980691,
          34.052102116366065,
          34.18729061930924,
          34.06136878071402
         ],
         "legendgroup": "",
         "lon": [
          -118.2976707790493,
          -118.25044020623015,
          -118.53779463940356,
          -118.37903749876483,
          -118.2858495586429,
          -118.20241658233017,
          -118.33002588832146,
          -118.45020426895702,
          -118.38540517737948,
          -118.26096118825265,
          -118.24310458942873,
          -118.30022512864373,
          -118.42456235468416,
          -118.27450718476283,
          -118.26653983503185,
          -118.31777015871167,
          -118.60109508043082,
          -118.44651367812399,
          -118.43992232974422,
          -118.52070420151857,
          -118.35175598049263
         ],
         "marker": {
          "color": [
           145389,
           98320,
           96531,
           79932,
           92037,
           77964,
           99063,
           103643,
           113968,
           100064,
           100308,
           95392,
           112547,
           89641,
           111500,
           135497,
           97682,
           99813,
           89103,
           89632,
           88656
          ],
          "coloraxis": "coloraxis",
          "size": [
           145389,
           98320,
           96531,
           79932,
           92037,
           77964,
           99063,
           103643,
           113968,
           100064,
           100308,
           95392,
           112547,
           89641,
           111500,
           135497,
           97682,
           99813,
           89103,
           89632,
           88656
          ],
          "sizemode": "area",
          "sizeref": 646.1733333333333
         },
         "mode": "markers+text",
         "name": "",
         "showlegend": false,
         "subplot": "mapbox",
         "text": [
          "77th Street",
          "Central",
          "Devonshire",
          "Foothill",
          "Harbor",
          "Hollenbeck",
          "Hollywood",
          "Mission",
          "N Hollywood",
          "Newton",
          "Northeast",
          "Olympic",
          "Pacific",
          "Rampart",
          "Southeast",
          "Southwest",
          "Topanga",
          "Van Nuys",
          "West LA",
          "West Valley",
          "Wilshire"
         ],
         "type": "scattermapbox"
        }
       ],
       "layout": {
        "coloraxis": {
         "colorbar": {
          "title": {
           "text": "count"
          }
         },
         "colorscale": [
          [
           0,
           "#f8c104"
          ],
          [
           1,
           "#9b020e"
          ]
         ]
        },
        "legend": {
         "itemsizing": "constant",
         "tracegroupgap": 0
        },
        "mapbox": {
         "center": {
          "lat": 34.0522,
          "lon": -118.2437
         },
         "domain": {
          "x": [
           0,
           1
          ],
          "y": [
           0,
           1
          ]
         },
         "style": "carto-positron",
         "zoom": 10
        },
        "margin": {
         "b": 0,
         "l": 0,
         "r": 0,
         "t": 50
        },
        "template": {
         "data": {
          "bar": [
           {
            "error_x": {
             "color": "#2a3f5f"
            },
            "error_y": {
             "color": "#2a3f5f"
            },
            "marker": {
             "line": {
              "color": "#E5ECF6",
              "width": 0.5
             },
             "pattern": {
              "fillmode": "overlay",
              "size": 10,
              "solidity": 0.2
             }
            },
            "type": "bar"
           }
          ],
          "barpolar": [
           {
            "marker": {
             "line": {
              "color": "#E5ECF6",
              "width": 0.5
             },
             "pattern": {
              "fillmode": "overlay",
              "size": 10,
              "solidity": 0.2
             }
            },
            "type": "barpolar"
           }
          ],
          "carpet": [
           {
            "aaxis": {
             "endlinecolor": "#2a3f5f",
             "gridcolor": "white",
             "linecolor": "white",
             "minorgridcolor": "white",
             "startlinecolor": "#2a3f5f"
            },
            "baxis": {
             "endlinecolor": "#2a3f5f",
             "gridcolor": "white",
             "linecolor": "white",
             "minorgridcolor": "white",
             "startlinecolor": "#2a3f5f"
            },
            "type": "carpet"
           }
          ],
          "choropleth": [
           {
            "colorbar": {
             "outlinewidth": 0,
             "ticks": ""
            },
            "type": "choropleth"
           }
          ],
          "contour": [
           {
            "colorbar": {
             "outlinewidth": 0,
             "ticks": ""
            },
            "colorscale": [
             [
              0,
              "#0d0887"
             ],
             [
              0.1111111111111111,
              "#46039f"
             ],
             [
              0.2222222222222222,
              "#7201a8"
             ],
             [
              0.3333333333333333,
              "#9c179e"
             ],
             [
              0.4444444444444444,
              "#bd3786"
             ],
             [
              0.5555555555555556,
              "#d8576b"
             ],
             [
              0.6666666666666666,
              "#ed7953"
             ],
             [
              0.7777777777777778,
              "#fb9f3a"
             ],
             [
              0.8888888888888888,
              "#fdca26"
             ],
             [
              1,
              "#f0f921"
             ]
            ],
            "type": "contour"
           }
          ],
          "contourcarpet": [
           {
            "colorbar": {
             "outlinewidth": 0,
             "ticks": ""
            },
            "type": "contourcarpet"
           }
          ],
          "heatmap": [
           {
            "colorbar": {
             "outlinewidth": 0,
             "ticks": ""
            },
            "colorscale": [
             [
              0,
              "#0d0887"
             ],
             [
              0.1111111111111111,
              "#46039f"
             ],
             [
              0.2222222222222222,
              "#7201a8"
             ],
             [
              0.3333333333333333,
              "#9c179e"
             ],
             [
              0.4444444444444444,
              "#bd3786"
             ],
             [
              0.5555555555555556,
              "#d8576b"
             ],
             [
              0.6666666666666666,
              "#ed7953"
             ],
             [
              0.7777777777777778,
              "#fb9f3a"
             ],
             [
              0.8888888888888888,
              "#fdca26"
             ],
             [
              1,
              "#f0f921"
             ]
            ],
            "type": "heatmap"
           }
          ],
          "heatmapgl": [
           {
            "colorbar": {
             "outlinewidth": 0,
             "ticks": ""
            },
            "colorscale": [
             [
              0,
              "#0d0887"
             ],
             [
              0.1111111111111111,
              "#46039f"
             ],
             [
              0.2222222222222222,
              "#7201a8"
             ],
             [
              0.3333333333333333,
              "#9c179e"
             ],
             [
              0.4444444444444444,
              "#bd3786"
             ],
             [
              0.5555555555555556,
              "#d8576b"
             ],
             [
              0.6666666666666666,
              "#ed7953"
             ],
             [
              0.7777777777777778,
              "#fb9f3a"
             ],
             [
              0.8888888888888888,
              "#fdca26"
             ],
             [
              1,
              "#f0f921"
             ]
            ],
            "type": "heatmapgl"
           }
          ],
          "histogram": [
           {
            "marker": {
             "pattern": {
              "fillmode": "overlay",
              "size": 10,
              "solidity": 0.2
             }
            },
            "type": "histogram"
           }
          ],
          "histogram2d": [
           {
            "colorbar": {
             "outlinewidth": 0,
             "ticks": ""
            },
            "colorscale": [
             [
              0,
              "#0d0887"
             ],
             [
              0.1111111111111111,
              "#46039f"
             ],
             [
              0.2222222222222222,
              "#7201a8"
             ],
             [
              0.3333333333333333,
              "#9c179e"
             ],
             [
              0.4444444444444444,
              "#bd3786"
             ],
             [
              0.5555555555555556,
              "#d8576b"
             ],
             [
              0.6666666666666666,
              "#ed7953"
             ],
             [
              0.7777777777777778,
              "#fb9f3a"
             ],
             [
              0.8888888888888888,
              "#fdca26"
             ],
             [
              1,
              "#f0f921"
             ]
            ],
            "type": "histogram2d"
           }
          ],
          "histogram2dcontour": [
           {
            "colorbar": {
             "outlinewidth": 0,
             "ticks": ""
            },
            "colorscale": [
             [
              0,
              "#0d0887"
             ],
             [
              0.1111111111111111,
              "#46039f"
             ],
             [
              0.2222222222222222,
              "#7201a8"
             ],
             [
              0.3333333333333333,
              "#9c179e"
             ],
             [
              0.4444444444444444,
              "#bd3786"
             ],
             [
              0.5555555555555556,
              "#d8576b"
             ],
             [
              0.6666666666666666,
              "#ed7953"
             ],
             [
              0.7777777777777778,
              "#fb9f3a"
             ],
             [
              0.8888888888888888,
              "#fdca26"
             ],
             [
              1,
              "#f0f921"
             ]
            ],
            "type": "histogram2dcontour"
           }
          ],
          "mesh3d": [
           {
            "colorbar": {
             "outlinewidth": 0,
             "ticks": ""
            },
            "type": "mesh3d"
           }
          ],
          "parcoords": [
           {
            "line": {
             "colorbar": {
              "outlinewidth": 0,
              "ticks": ""
             }
            },
            "type": "parcoords"
           }
          ],
          "pie": [
           {
            "automargin": true,
            "type": "pie"
           }
          ],
          "scatter": [
           {
            "fillpattern": {
             "fillmode": "overlay",
             "size": 10,
             "solidity": 0.2
            },
            "type": "scatter"
           }
          ],
          "scatter3d": [
           {
            "line": {
             "colorbar": {
              "outlinewidth": 0,
              "ticks": ""
             }
            },
            "marker": {
             "colorbar": {
              "outlinewidth": 0,
              "ticks": ""
             }
            },
            "type": "scatter3d"
           }
          ],
          "scattercarpet": [
           {
            "marker": {
             "colorbar": {
              "outlinewidth": 0,
              "ticks": ""
             }
            },
            "type": "scattercarpet"
           }
          ],
          "scattergeo": [
           {
            "marker": {
             "colorbar": {
              "outlinewidth": 0,
              "ticks": ""
             }
            },
            "type": "scattergeo"
           }
          ],
          "scattergl": [
           {
            "marker": {
             "colorbar": {
              "outlinewidth": 0,
              "ticks": ""
             }
            },
            "type": "scattergl"
           }
          ],
          "scattermapbox": [
           {
            "marker": {
             "colorbar": {
              "outlinewidth": 0,
              "ticks": ""
             }
            },
            "type": "scattermapbox"
           }
          ],
          "scatterpolar": [
           {
            "marker": {
             "colorbar": {
              "outlinewidth": 0,
              "ticks": ""
             }
            },
            "type": "scatterpolar"
           }
          ],
          "scatterpolargl": [
           {
            "marker": {
             "colorbar": {
              "outlinewidth": 0,
              "ticks": ""
             }
            },
            "type": "scatterpolargl"
           }
          ],
          "scatterternary": [
           {
            "marker": {
             "colorbar": {
              "outlinewidth": 0,
              "ticks": ""
             }
            },
            "type": "scatterternary"
           }
          ],
          "surface": [
           {
            "colorbar": {
             "outlinewidth": 0,
             "ticks": ""
            },
            "colorscale": [
             [
              0,
              "#0d0887"
             ],
             [
              0.1111111111111111,
              "#46039f"
             ],
             [
              0.2222222222222222,
              "#7201a8"
             ],
             [
              0.3333333333333333,
              "#9c179e"
             ],
             [
              0.4444444444444444,
              "#bd3786"
             ],
             [
              0.5555555555555556,
              "#d8576b"
             ],
             [
              0.6666666666666666,
              "#ed7953"
             ],
             [
              0.7777777777777778,
              "#fb9f3a"
             ],
             [
              0.8888888888888888,
              "#fdca26"
             ],
             [
              1,
              "#f0f921"
             ]
            ],
            "type": "surface"
           }
          ],
          "table": [
           {
            "cells": {
             "fill": {
              "color": "#EBF0F8"
             },
             "line": {
              "color": "white"
             }
            },
            "header": {
             "fill": {
              "color": "#C8D4E3"
             },
             "line": {
              "color": "white"
             }
            },
            "type": "table"
           }
          ]
         },
         "layout": {
          "annotationdefaults": {
           "arrowcolor": "#2a3f5f",
           "arrowhead": 0,
           "arrowwidth": 1
          },
          "autotypenumbers": "strict",
          "coloraxis": {
           "colorbar": {
            "outlinewidth": 0,
            "ticks": ""
           }
          },
          "colorscale": {
           "diverging": [
            [
             0,
             "#8e0152"
            ],
            [
             0.1,
             "#c51b7d"
            ],
            [
             0.2,
             "#de77ae"
            ],
            [
             0.3,
             "#f1b6da"
            ],
            [
             0.4,
             "#fde0ef"
            ],
            [
             0.5,
             "#f7f7f7"
            ],
            [
             0.6,
             "#e6f5d0"
            ],
            [
             0.7,
             "#b8e186"
            ],
            [
             0.8,
             "#7fbc41"
            ],
            [
             0.9,
             "#4d9221"
            ],
            [
             1,
             "#276419"
            ]
           ],
           "sequential": [
            [
             0,
             "#0d0887"
            ],
            [
             0.1111111111111111,
             "#46039f"
            ],
            [
             0.2222222222222222,
             "#7201a8"
            ],
            [
             0.3333333333333333,
             "#9c179e"
            ],
            [
             0.4444444444444444,
             "#bd3786"
            ],
            [
             0.5555555555555556,
             "#d8576b"
            ],
            [
             0.6666666666666666,
             "#ed7953"
            ],
            [
             0.7777777777777778,
             "#fb9f3a"
            ],
            [
             0.8888888888888888,
             "#fdca26"
            ],
            [
             1,
             "#f0f921"
            ]
           ],
           "sequentialminus": [
            [
             0,
             "#0d0887"
            ],
            [
             0.1111111111111111,
             "#46039f"
            ],
            [
             0.2222222222222222,
             "#7201a8"
            ],
            [
             0.3333333333333333,
             "#9c179e"
            ],
            [
             0.4444444444444444,
             "#bd3786"
            ],
            [
             0.5555555555555556,
             "#d8576b"
            ],
            [
             0.6666666666666666,
             "#ed7953"
            ],
            [
             0.7777777777777778,
             "#fb9f3a"
            ],
            [
             0.8888888888888888,
             "#fdca26"
            ],
            [
             1,
             "#f0f921"
            ]
           ]
          },
          "colorway": [
           "#636efa",
           "#EF553B",
           "#00cc96",
           "#ab63fa",
           "#FFA15A",
           "#19d3f3",
           "#FF6692",
           "#B6E880",
           "#FF97FF",
           "#FECB52"
          ],
          "font": {
           "color": "#2a3f5f"
          },
          "geo": {
           "bgcolor": "white",
           "lakecolor": "white",
           "landcolor": "#E5ECF6",
           "showlakes": true,
           "showland": true,
           "subunitcolor": "white"
          },
          "hoverlabel": {
           "align": "left"
          },
          "hovermode": "closest",
          "mapbox": {
           "style": "light"
          },
          "paper_bgcolor": "white",
          "plot_bgcolor": "#E5ECF6",
          "polar": {
           "angularaxis": {
            "gridcolor": "white",
            "linecolor": "white",
            "ticks": ""
           },
           "bgcolor": "#E5ECF6",
           "radialaxis": {
            "gridcolor": "white",
            "linecolor": "white",
            "ticks": ""
           }
          },
          "scene": {
           "xaxis": {
            "backgroundcolor": "#E5ECF6",
            "gridcolor": "white",
            "gridwidth": 2,
            "linecolor": "white",
            "showbackground": true,
            "ticks": "",
            "zerolinecolor": "white"
           },
           "yaxis": {
            "backgroundcolor": "#E5ECF6",
            "gridcolor": "white",
            "gridwidth": 2,
            "linecolor": "white",
            "showbackground": true,
            "ticks": "",
            "zerolinecolor": "white"
           },
           "zaxis": {
            "backgroundcolor": "#E5ECF6",
            "gridcolor": "white",
            "gridwidth": 2,
            "linecolor": "white",
            "showbackground": true,
            "ticks": "",
            "zerolinecolor": "white"
           }
          },
          "shapedefaults": {
           "line": {
            "color": "#2a3f5f"
           }
          },
          "ternary": {
           "aaxis": {
            "gridcolor": "white",
            "linecolor": "white",
            "ticks": ""
           },
           "baxis": {
            "gridcolor": "white",
            "linecolor": "white",
            "ticks": ""
           },
           "bgcolor": "#E5ECF6",
           "caxis": {
            "gridcolor": "white",
            "linecolor": "white",
            "ticks": ""
           }
          },
          "title": {
           "x": 0.05
          },
          "xaxis": {
           "automargin": true,
           "gridcolor": "white",
           "linecolor": "white",
           "ticks": "",
           "title": {
            "standoff": 15
           },
           "zerolinecolor": "white",
           "zerolinewidth": 2
          },
          "yaxis": {
           "automargin": true,
           "gridcolor": "white",
           "linecolor": "white",
           "ticks": "",
           "title": {
            "standoff": 15
           },
           "zerolinecolor": "white",
           "zerolinewidth": 2
          }
         }
        },
        "title": {
         "text": "Crime Data in Los Angeles (Up to 2019)"
        }
       }
      }
     },
     "metadata": {},
     "output_type": "display_data"
    }
   ],
   "source": [
    "import plotly.express as px\n",
    "import pandas as pd\n",
    "\n",
    "# Assuming `df_crime` has columns: ['Area Name', 'avg_latitude', 'avg_longitude', 'count', 'DATE OCCR']\n",
    "\n",
    "# Convert the 'DATE OCCR' column to datetime if it's not already in that format\n",
    "df_crime['DATE OCC'] = pd.to_datetime(df_crime['DATE OCC'], errors='coerce')\n",
    "\n",
    "# Extract the year from the 'DATE OCCR' column\n",
    "df_crime['year'] = df_crime['DATE OCC'].dt.year\n",
    "\n",
    "# Filter the data to include only records from 2019 and below\n",
    "df_crime_filtered = df_crime[df_crime['year'] <= 2019]\n",
    "\n",
    "# Aggregate crime data by area (latitude, longitude, and area name)\n",
    "crime_summary = df_crime_filtered.groupby(['AREA NAME', 'avg_latitude', 'avg_longitude']).size().reset_index(name='count')\n",
    "\n",
    "# Plotting with color scale based on 'count' (crime count)\n",
    "fig = px.scatter_mapbox(\n",
    "    crime_summary,\n",
    "    lat='avg_latitude',\n",
    "    lon='avg_longitude',\n",
    "    size='count',  # Size of the bubbles\n",
    "    text='AREA NAME',  # Labels for the bubbles\n",
    "    hover_name='AREA NAME',  # Hover text\n",
    "    hover_data={'count': True, 'avg_latitude': False, 'avg_longitude': False},  # Display count in hover, hide lat/lon\n",
    "    title='Crime Data in Los Angeles (Up to 2019)',\n",
    "    color='count',  # Color the bubbles by crime count\n",
    "    color_continuous_scale=['#f8c104', '#9b020e'],  # Custom color scale from mustard to dark red\n",
    "    size_max=15,  # Maximum bubble size\n",
    "    zoom=10,  # Initial zoom level\n",
    ")\n",
    "\n",
    "# Update map style\n",
    "fig.update_layout(\n",
    "    mapbox_style=\"carto-positron\",  # Use Carto Positron map style\n",
    "    mapbox_center={\"lat\": 34.0522, \"lon\": -118.2437},  # Center around LA\n",
    "    margin={\"r\": 0, \"t\": 50, \"l\": 0, \"b\": 0},  # Minimize blank margins\n",
    ")\n",
    "\n",
    "# Show the plot\n",
    "fig.show()\n"
   ]
  },
  {
   "cell_type": "markdown",
   "metadata": {},
   "source": [
    "## Fig 5: Arrest count in different regions of LA (2010-2019)"
   ]
  },
  {
   "cell_type": "code",
   "execution_count": 13,
   "metadata": {},
   "outputs": [
    {
     "data": {
      "application/vnd.plotly.v1+json": {
       "config": {
        "plotlyServerURL": "https://plot.ly"
       },
       "data": [
        {
         "customdata": [
          [
           69949,
           33.97792362529343,
           -118.2976707790493
          ],
          [
           125985,
           34.04723577086088,
           -118.25044020623015
          ],
          [
           39276,
           34.250912813168966,
           -118.53779463940356
          ],
          [
           46815,
           34.24916038842626,
           -118.37903749876483
          ],
          [
           46982,
           33.770423943909115,
           -118.2858495586429
          ],
          [
           41869,
           34.055454594119524,
           -118.20241658233017
          ],
          [
           119882,
           34.099252899904876,
           -118.33002588832146
          ],
          [
           64306,
           34.256287996122985,
           -118.45020426895702
          ],
          [
           62407,
           34.17238903955501,
           -118.38540517737948
          ],
          [
           67609,
           34.00795162543349,
           -118.26096118825265
          ],
          [
           49497,
           34.108034737853714,
           -118.24310458942873
          ],
          [
           50095,
           34.06001219065913,
           -118.30022512864373
          ],
          [
           100213,
           33.984376036775515,
           -118.42456235468416
          ],
          [
           65558,
           34.06389795673707,
           -118.27450718476283
          ],
          [
           48049,
           33.939312439252866,
           -118.26653983503185
          ],
          [
           68498,
           34.0194730163688,
           -118.31777015871167
          ],
          [
           43399,
           34.19279069975179,
           -118.60109508043082
          ],
          [
           66766,
           34.17862972980691,
           -118.44651367812399
          ],
          [
           28183,
           34.052102116366065,
           -118.43992232974422
          ],
          [
           39454,
           34.18729061930924,
           -118.52070420151857
          ],
          [
           31368,
           34.06136878071402,
           -118.35175598049263
          ]
         ],
         "hovertemplate": "<b>%{hovertext}</b><br><br>count=%{marker.color}<br>AREA NAME=%{text}<extra></extra>",
         "hovertext": [
          "77th Street",
          "Central",
          "Devonshire",
          "Foothill",
          "Harbor",
          "Hollenbeck",
          "Hollywood",
          "Mission",
          "N Hollywood",
          "Newton",
          "Northeast",
          "Olympic",
          "Pacific",
          "Rampart",
          "Southeast",
          "Southwest",
          "Topanga",
          "Van Nuys",
          "West LA",
          "West Valley",
          "Wilshire"
         ],
         "lat": [
          33.97792362529343,
          34.04723577086088,
          34.250912813168966,
          34.24916038842626,
          33.770423943909115,
          34.055454594119524,
          34.099252899904876,
          34.256287996122985,
          34.17238903955501,
          34.00795162543349,
          34.108034737853714,
          34.06001219065913,
          33.984376036775515,
          34.06389795673707,
          33.939312439252866,
          34.0194730163688,
          34.19279069975179,
          34.17862972980691,
          34.052102116366065,
          34.18729061930924,
          34.06136878071402
         ],
         "legendgroup": "",
         "lon": [
          -118.2976707790493,
          -118.25044020623015,
          -118.53779463940356,
          -118.37903749876483,
          -118.2858495586429,
          -118.20241658233017,
          -118.33002588832146,
          -118.45020426895702,
          -118.38540517737948,
          -118.26096118825265,
          -118.24310458942873,
          -118.30022512864373,
          -118.42456235468416,
          -118.27450718476283,
          -118.26653983503185,
          -118.31777015871167,
          -118.60109508043082,
          -118.44651367812399,
          -118.43992232974422,
          -118.52070420151857,
          -118.35175598049263
         ],
         "marker": {
          "color": [
           69949,
           125985,
           39276,
           46815,
           46982,
           41869,
           119882,
           64306,
           62407,
           67609,
           49497,
           50095,
           100213,
           65558,
           48049,
           68498,
           43399,
           66766,
           28183,
           39454,
           31368
          ],
          "coloraxis": "coloraxis",
          "size": [
           69949,
           125985,
           39276,
           46815,
           46982,
           41869,
           119882,
           64306,
           62407,
           67609,
           49497,
           50095,
           100213,
           65558,
           48049,
           68498,
           43399,
           66766,
           28183,
           39454,
           31368
          ],
          "sizemode": "area",
          "sizeref": 314.9625
         },
         "mode": "markers+text",
         "name": "",
         "showlegend": false,
         "subplot": "mapbox",
         "text": [
          "77th Street",
          "Central",
          "Devonshire",
          "Foothill",
          "Harbor",
          "Hollenbeck",
          "Hollywood",
          "Mission",
          "N Hollywood",
          "Newton",
          "Northeast",
          "Olympic",
          "Pacific",
          "Rampart",
          "Southeast",
          "Southwest",
          "Topanga",
          "Van Nuys",
          "West LA",
          "West Valley",
          "Wilshire"
         ],
         "type": "scattermapbox"
        }
       ],
       "layout": {
        "coloraxis": {
         "colorbar": {
          "title": {
           "text": "count"
          }
         },
         "colorscale": [
          [
           0,
           "#f8c104"
          ],
          [
           1,
           "#9b020e"
          ]
         ]
        },
        "legend": {
         "itemsizing": "constant",
         "tracegroupgap": 0
        },
        "mapbox": {
         "center": {
          "lat": 34.0522,
          "lon": -118.2437
         },
         "domain": {
          "x": [
           0,
           1
          ],
          "y": [
           0,
           1
          ]
         },
         "style": "carto-positron",
         "zoom": 10
        },
        "margin": {
         "b": 0,
         "l": 0,
         "r": 0,
         "t": 50
        },
        "template": {
         "data": {
          "bar": [
           {
            "error_x": {
             "color": "#2a3f5f"
            },
            "error_y": {
             "color": "#2a3f5f"
            },
            "marker": {
             "line": {
              "color": "#E5ECF6",
              "width": 0.5
             },
             "pattern": {
              "fillmode": "overlay",
              "size": 10,
              "solidity": 0.2
             }
            },
            "type": "bar"
           }
          ],
          "barpolar": [
           {
            "marker": {
             "line": {
              "color": "#E5ECF6",
              "width": 0.5
             },
             "pattern": {
              "fillmode": "overlay",
              "size": 10,
              "solidity": 0.2
             }
            },
            "type": "barpolar"
           }
          ],
          "carpet": [
           {
            "aaxis": {
             "endlinecolor": "#2a3f5f",
             "gridcolor": "white",
             "linecolor": "white",
             "minorgridcolor": "white",
             "startlinecolor": "#2a3f5f"
            },
            "baxis": {
             "endlinecolor": "#2a3f5f",
             "gridcolor": "white",
             "linecolor": "white",
             "minorgridcolor": "white",
             "startlinecolor": "#2a3f5f"
            },
            "type": "carpet"
           }
          ],
          "choropleth": [
           {
            "colorbar": {
             "outlinewidth": 0,
             "ticks": ""
            },
            "type": "choropleth"
           }
          ],
          "contour": [
           {
            "colorbar": {
             "outlinewidth": 0,
             "ticks": ""
            },
            "colorscale": [
             [
              0,
              "#0d0887"
             ],
             [
              0.1111111111111111,
              "#46039f"
             ],
             [
              0.2222222222222222,
              "#7201a8"
             ],
             [
              0.3333333333333333,
              "#9c179e"
             ],
             [
              0.4444444444444444,
              "#bd3786"
             ],
             [
              0.5555555555555556,
              "#d8576b"
             ],
             [
              0.6666666666666666,
              "#ed7953"
             ],
             [
              0.7777777777777778,
              "#fb9f3a"
             ],
             [
              0.8888888888888888,
              "#fdca26"
             ],
             [
              1,
              "#f0f921"
             ]
            ],
            "type": "contour"
           }
          ],
          "contourcarpet": [
           {
            "colorbar": {
             "outlinewidth": 0,
             "ticks": ""
            },
            "type": "contourcarpet"
           }
          ],
          "heatmap": [
           {
            "colorbar": {
             "outlinewidth": 0,
             "ticks": ""
            },
            "colorscale": [
             [
              0,
              "#0d0887"
             ],
             [
              0.1111111111111111,
              "#46039f"
             ],
             [
              0.2222222222222222,
              "#7201a8"
             ],
             [
              0.3333333333333333,
              "#9c179e"
             ],
             [
              0.4444444444444444,
              "#bd3786"
             ],
             [
              0.5555555555555556,
              "#d8576b"
             ],
             [
              0.6666666666666666,
              "#ed7953"
             ],
             [
              0.7777777777777778,
              "#fb9f3a"
             ],
             [
              0.8888888888888888,
              "#fdca26"
             ],
             [
              1,
              "#f0f921"
             ]
            ],
            "type": "heatmap"
           }
          ],
          "heatmapgl": [
           {
            "colorbar": {
             "outlinewidth": 0,
             "ticks": ""
            },
            "colorscale": [
             [
              0,
              "#0d0887"
             ],
             [
              0.1111111111111111,
              "#46039f"
             ],
             [
              0.2222222222222222,
              "#7201a8"
             ],
             [
              0.3333333333333333,
              "#9c179e"
             ],
             [
              0.4444444444444444,
              "#bd3786"
             ],
             [
              0.5555555555555556,
              "#d8576b"
             ],
             [
              0.6666666666666666,
              "#ed7953"
             ],
             [
              0.7777777777777778,
              "#fb9f3a"
             ],
             [
              0.8888888888888888,
              "#fdca26"
             ],
             [
              1,
              "#f0f921"
             ]
            ],
            "type": "heatmapgl"
           }
          ],
          "histogram": [
           {
            "marker": {
             "pattern": {
              "fillmode": "overlay",
              "size": 10,
              "solidity": 0.2
             }
            },
            "type": "histogram"
           }
          ],
          "histogram2d": [
           {
            "colorbar": {
             "outlinewidth": 0,
             "ticks": ""
            },
            "colorscale": [
             [
              0,
              "#0d0887"
             ],
             [
              0.1111111111111111,
              "#46039f"
             ],
             [
              0.2222222222222222,
              "#7201a8"
             ],
             [
              0.3333333333333333,
              "#9c179e"
             ],
             [
              0.4444444444444444,
              "#bd3786"
             ],
             [
              0.5555555555555556,
              "#d8576b"
             ],
             [
              0.6666666666666666,
              "#ed7953"
             ],
             [
              0.7777777777777778,
              "#fb9f3a"
             ],
             [
              0.8888888888888888,
              "#fdca26"
             ],
             [
              1,
              "#f0f921"
             ]
            ],
            "type": "histogram2d"
           }
          ],
          "histogram2dcontour": [
           {
            "colorbar": {
             "outlinewidth": 0,
             "ticks": ""
            },
            "colorscale": [
             [
              0,
              "#0d0887"
             ],
             [
              0.1111111111111111,
              "#46039f"
             ],
             [
              0.2222222222222222,
              "#7201a8"
             ],
             [
              0.3333333333333333,
              "#9c179e"
             ],
             [
              0.4444444444444444,
              "#bd3786"
             ],
             [
              0.5555555555555556,
              "#d8576b"
             ],
             [
              0.6666666666666666,
              "#ed7953"
             ],
             [
              0.7777777777777778,
              "#fb9f3a"
             ],
             [
              0.8888888888888888,
              "#fdca26"
             ],
             [
              1,
              "#f0f921"
             ]
            ],
            "type": "histogram2dcontour"
           }
          ],
          "mesh3d": [
           {
            "colorbar": {
             "outlinewidth": 0,
             "ticks": ""
            },
            "type": "mesh3d"
           }
          ],
          "parcoords": [
           {
            "line": {
             "colorbar": {
              "outlinewidth": 0,
              "ticks": ""
             }
            },
            "type": "parcoords"
           }
          ],
          "pie": [
           {
            "automargin": true,
            "type": "pie"
           }
          ],
          "scatter": [
           {
            "fillpattern": {
             "fillmode": "overlay",
             "size": 10,
             "solidity": 0.2
            },
            "type": "scatter"
           }
          ],
          "scatter3d": [
           {
            "line": {
             "colorbar": {
              "outlinewidth": 0,
              "ticks": ""
             }
            },
            "marker": {
             "colorbar": {
              "outlinewidth": 0,
              "ticks": ""
             }
            },
            "type": "scatter3d"
           }
          ],
          "scattercarpet": [
           {
            "marker": {
             "colorbar": {
              "outlinewidth": 0,
              "ticks": ""
             }
            },
            "type": "scattercarpet"
           }
          ],
          "scattergeo": [
           {
            "marker": {
             "colorbar": {
              "outlinewidth": 0,
              "ticks": ""
             }
            },
            "type": "scattergeo"
           }
          ],
          "scattergl": [
           {
            "marker": {
             "colorbar": {
              "outlinewidth": 0,
              "ticks": ""
             }
            },
            "type": "scattergl"
           }
          ],
          "scattermapbox": [
           {
            "marker": {
             "colorbar": {
              "outlinewidth": 0,
              "ticks": ""
             }
            },
            "type": "scattermapbox"
           }
          ],
          "scatterpolar": [
           {
            "marker": {
             "colorbar": {
              "outlinewidth": 0,
              "ticks": ""
             }
            },
            "type": "scatterpolar"
           }
          ],
          "scatterpolargl": [
           {
            "marker": {
             "colorbar": {
              "outlinewidth": 0,
              "ticks": ""
             }
            },
            "type": "scatterpolargl"
           }
          ],
          "scatterternary": [
           {
            "marker": {
             "colorbar": {
              "outlinewidth": 0,
              "ticks": ""
             }
            },
            "type": "scatterternary"
           }
          ],
          "surface": [
           {
            "colorbar": {
             "outlinewidth": 0,
             "ticks": ""
            },
            "colorscale": [
             [
              0,
              "#0d0887"
             ],
             [
              0.1111111111111111,
              "#46039f"
             ],
             [
              0.2222222222222222,
              "#7201a8"
             ],
             [
              0.3333333333333333,
              "#9c179e"
             ],
             [
              0.4444444444444444,
              "#bd3786"
             ],
             [
              0.5555555555555556,
              "#d8576b"
             ],
             [
              0.6666666666666666,
              "#ed7953"
             ],
             [
              0.7777777777777778,
              "#fb9f3a"
             ],
             [
              0.8888888888888888,
              "#fdca26"
             ],
             [
              1,
              "#f0f921"
             ]
            ],
            "type": "surface"
           }
          ],
          "table": [
           {
            "cells": {
             "fill": {
              "color": "#EBF0F8"
             },
             "line": {
              "color": "white"
             }
            },
            "header": {
             "fill": {
              "color": "#C8D4E3"
             },
             "line": {
              "color": "white"
             }
            },
            "type": "table"
           }
          ]
         },
         "layout": {
          "annotationdefaults": {
           "arrowcolor": "#2a3f5f",
           "arrowhead": 0,
           "arrowwidth": 1
          },
          "autotypenumbers": "strict",
          "coloraxis": {
           "colorbar": {
            "outlinewidth": 0,
            "ticks": ""
           }
          },
          "colorscale": {
           "diverging": [
            [
             0,
             "#8e0152"
            ],
            [
             0.1,
             "#c51b7d"
            ],
            [
             0.2,
             "#de77ae"
            ],
            [
             0.3,
             "#f1b6da"
            ],
            [
             0.4,
             "#fde0ef"
            ],
            [
             0.5,
             "#f7f7f7"
            ],
            [
             0.6,
             "#e6f5d0"
            ],
            [
             0.7,
             "#b8e186"
            ],
            [
             0.8,
             "#7fbc41"
            ],
            [
             0.9,
             "#4d9221"
            ],
            [
             1,
             "#276419"
            ]
           ],
           "sequential": [
            [
             0,
             "#0d0887"
            ],
            [
             0.1111111111111111,
             "#46039f"
            ],
            [
             0.2222222222222222,
             "#7201a8"
            ],
            [
             0.3333333333333333,
             "#9c179e"
            ],
            [
             0.4444444444444444,
             "#bd3786"
            ],
            [
             0.5555555555555556,
             "#d8576b"
            ],
            [
             0.6666666666666666,
             "#ed7953"
            ],
            [
             0.7777777777777778,
             "#fb9f3a"
            ],
            [
             0.8888888888888888,
             "#fdca26"
            ],
            [
             1,
             "#f0f921"
            ]
           ],
           "sequentialminus": [
            [
             0,
             "#0d0887"
            ],
            [
             0.1111111111111111,
             "#46039f"
            ],
            [
             0.2222222222222222,
             "#7201a8"
            ],
            [
             0.3333333333333333,
             "#9c179e"
            ],
            [
             0.4444444444444444,
             "#bd3786"
            ],
            [
             0.5555555555555556,
             "#d8576b"
            ],
            [
             0.6666666666666666,
             "#ed7953"
            ],
            [
             0.7777777777777778,
             "#fb9f3a"
            ],
            [
             0.8888888888888888,
             "#fdca26"
            ],
            [
             1,
             "#f0f921"
            ]
           ]
          },
          "colorway": [
           "#636efa",
           "#EF553B",
           "#00cc96",
           "#ab63fa",
           "#FFA15A",
           "#19d3f3",
           "#FF6692",
           "#B6E880",
           "#FF97FF",
           "#FECB52"
          ],
          "font": {
           "color": "#2a3f5f"
          },
          "geo": {
           "bgcolor": "white",
           "lakecolor": "white",
           "landcolor": "#E5ECF6",
           "showlakes": true,
           "showland": true,
           "subunitcolor": "white"
          },
          "hoverlabel": {
           "align": "left"
          },
          "hovermode": "closest",
          "mapbox": {
           "style": "light"
          },
          "paper_bgcolor": "white",
          "plot_bgcolor": "#E5ECF6",
          "polar": {
           "angularaxis": {
            "gridcolor": "white",
            "linecolor": "white",
            "ticks": ""
           },
           "bgcolor": "#E5ECF6",
           "radialaxis": {
            "gridcolor": "white",
            "linecolor": "white",
            "ticks": ""
           }
          },
          "scene": {
           "xaxis": {
            "backgroundcolor": "#E5ECF6",
            "gridcolor": "white",
            "gridwidth": 2,
            "linecolor": "white",
            "showbackground": true,
            "ticks": "",
            "zerolinecolor": "white"
           },
           "yaxis": {
            "backgroundcolor": "#E5ECF6",
            "gridcolor": "white",
            "gridwidth": 2,
            "linecolor": "white",
            "showbackground": true,
            "ticks": "",
            "zerolinecolor": "white"
           },
           "zaxis": {
            "backgroundcolor": "#E5ECF6",
            "gridcolor": "white",
            "gridwidth": 2,
            "linecolor": "white",
            "showbackground": true,
            "ticks": "",
            "zerolinecolor": "white"
           }
          },
          "shapedefaults": {
           "line": {
            "color": "#2a3f5f"
           }
          },
          "ternary": {
           "aaxis": {
            "gridcolor": "white",
            "linecolor": "white",
            "ticks": ""
           },
           "baxis": {
            "gridcolor": "white",
            "linecolor": "white",
            "ticks": ""
           },
           "bgcolor": "#E5ECF6",
           "caxis": {
            "gridcolor": "white",
            "linecolor": "white",
            "ticks": ""
           }
          },
          "title": {
           "x": 0.05
          },
          "xaxis": {
           "automargin": true,
           "gridcolor": "white",
           "linecolor": "white",
           "ticks": "",
           "title": {
            "standoff": 15
           },
           "zerolinecolor": "white",
           "zerolinewidth": 2
          },
          "yaxis": {
           "automargin": true,
           "gridcolor": "white",
           "linecolor": "white",
           "ticks": "",
           "title": {
            "standoff": 15
           },
           "zerolinecolor": "white",
           "zerolinewidth": 2
          }
         }
        },
        "title": {
         "text": "Arrest Data in Los Angeles"
        }
       }
      }
     },
     "metadata": {},
     "output_type": "display_data"
    }
   ],
   "source": [
    "import plotly.express as px\n",
    "\n",
    "# Assuming `df_crime` has columns: ['Area Name', 'avg_latitude', 'avg_longitude', 'count']\n",
    "\n",
    "# Aggregate crime data by area (latitude, longitude, and area name)\n",
    "crime_summary = df_arrest.groupby(['AREA NAME', 'avg_latitude', 'avg_longitude']).size().reset_index(name='count')\n",
    "\n",
    "# Plotting with color scale based on 'count' (crime count)\n",
    "fig = px.scatter_mapbox(\n",
    "    crime_summary,\n",
    "    lat='avg_latitude',\n",
    "    lon='avg_longitude',\n",
    "    size='count',  # Size of the bubbles\n",
    "    text='AREA NAME',  # Labels for the bubbles\n",
    "    hover_name='AREA NAME',  # Hover text\n",
    "    hover_data={'count': True, 'avg_latitude': False, 'avg_longitude': False},  # Display count in hover, hide lat/lon\n",
    "    title='Arrest Data in Los Angeles',\n",
    "    color='count',  # Color the bubbles by crime count\n",
    "    color_continuous_scale=['#f8c104', '#9b020e'],  # Custom color scale from mustard to dark red\n",
    "    size_max=20,  # Maximum bubble size\n",
    "    zoom=10,  # Initial zoom level\n",
    ")\n",
    "\n",
    "# Update map style\n",
    "fig.update_layout(\n",
    "    mapbox_style=\"carto-positron\",  # Use Carto Positron map style\n",
    "    mapbox_center={\"lat\": 34.0522, \"lon\": -118.2437},  # Center around LA\n",
    "    margin={\"r\": 0, \"t\": 50, \"l\": 0, \"b\": 0},  # Minimize blank margins\n",
    ")\n",
    "\n",
    "# Show the plot\n",
    "fig.show()\n"
   ]
  },
  {
   "cell_type": "markdown",
   "metadata": {},
   "source": [
    "## Fig 11: Sankey diagram showing flow of arrest data (Gender,Age Groups,Descent)"
   ]
  },
  {
   "cell_type": "code",
   "execution_count": 60,
   "metadata": {},
   "outputs": [
    {
     "name": "stderr",
     "output_type": "stream",
     "text": [
      "C:\\Users\\subha\\AppData\\Local\\Temp\\ipykernel_5808\\1618227849.py:14: FutureWarning:\n",
      "\n",
      "The default of observed=False is deprecated and will be changed to True in a future version of pandas. Pass observed=False to retain current behavior or observed=True to adopt the future default and silence this warning.\n",
      "\n"
     ]
    },
    {
     "data": {
      "application/vnd.plotly.v1+json": {
       "config": {
        "plotlyServerURL": "https://plot.ly"
       },
       "data": [
        {
         "link": {
          "color": [
           "rgba(162, 45, 153, 0.8)",
           "rgba(162, 45, 153, 0.8)",
           "rgba(162, 45, 153, 0.8)",
           "rgba(162, 45, 153, 0.8)",
           "rgba(162, 45, 153, 0.8)",
           "rgba(82, 138, 216, 0.8)",
           "rgba(82, 138, 216, 0.8)",
           "rgba(82, 138, 216, 0.8)",
           "rgba(82, 138, 216, 0.8)",
           "rgba(82, 138, 216, 0.8)",
           "rgba(86, 181, 132, 0.8)",
           "rgba(86, 181, 132, 0.8)",
           "rgba(86, 181, 132, 0.8)",
           "rgba(86, 181, 132, 0.8)",
           "rgba(86, 181, 132, 0.8)",
           "rgba(86, 181, 132, 0.8)",
           "rgba(86, 181, 132, 0.8)",
           "rgba(86, 181, 132, 0.8)",
           "rgba(86, 181, 132, 0.8)",
           "rgba(86, 181, 132, 0.8)",
           "rgba(86, 181, 132, 0.8)",
           "rgba(86, 181, 132, 0.8)",
           "rgba(86, 181, 132, 0.8)",
           "rgba(86, 181, 132, 0.8)",
           "rgba(86, 181, 132, 0.8)",
           "rgba(86, 181, 132, 0.8)",
           "rgba(86, 181, 132, 0.8)",
           "rgba(86, 181, 132, 0.8)",
           "rgba(86, 181, 132, 0.8)",
           "rgba(66, 33, 206, 0.8)",
           "rgba(66, 33, 206, 0.8)",
           "rgba(66, 33, 206, 0.8)",
           "rgba(66, 33, 206, 0.8)",
           "rgba(66, 33, 206, 0.8)",
           "rgba(66, 33, 206, 0.8)",
           "rgba(66, 33, 206, 0.8)",
           "rgba(66, 33, 206, 0.8)",
           "rgba(66, 33, 206, 0.8)",
           "rgba(66, 33, 206, 0.8)",
           "rgba(66, 33, 206, 0.8)",
           "rgba(66, 33, 206, 0.8)",
           "rgba(66, 33, 206, 0.8)",
           "rgba(66, 33, 206, 0.8)",
           "rgba(66, 33, 206, 0.8)",
           "rgba(66, 33, 206, 0.8)",
           "rgba(66, 33, 206, 0.8)",
           "rgba(66, 33, 206, 0.8)",
           "rgba(66, 33, 206, 0.8)",
           "rgba(177, 8, 223, 0.8)",
           "rgba(177, 8, 223, 0.8)",
           "rgba(177, 8, 223, 0.8)",
           "rgba(177, 8, 223, 0.8)",
           "rgba(177, 8, 223, 0.8)",
           "rgba(177, 8, 223, 0.8)",
           "rgba(177, 8, 223, 0.8)",
           "rgba(177, 8, 223, 0.8)",
           "rgba(177, 8, 223, 0.8)",
           "rgba(177, 8, 223, 0.8)",
           "rgba(177, 8, 223, 0.8)",
           "rgba(177, 8, 223, 0.8)",
           "rgba(177, 8, 223, 0.8)",
           "rgba(177, 8, 223, 0.8)",
           "rgba(177, 8, 223, 0.8)",
           "rgba(177, 8, 223, 0.8)",
           "rgba(177, 8, 223, 0.8)",
           "rgba(177, 8, 223, 0.8)",
           "rgba(177, 8, 223, 0.8)",
           "rgba(212, 56, 132, 0.8)",
           "rgba(212, 56, 132, 0.8)",
           "rgba(212, 56, 132, 0.8)",
           "rgba(212, 56, 132, 0.8)",
           "rgba(212, 56, 132, 0.8)",
           "rgba(212, 56, 132, 0.8)",
           "rgba(212, 56, 132, 0.8)",
           "rgba(212, 56, 132, 0.8)",
           "rgba(212, 56, 132, 0.8)",
           "rgba(212, 56, 132, 0.8)",
           "rgba(212, 56, 132, 0.8)",
           "rgba(212, 56, 132, 0.8)",
           "rgba(212, 56, 132, 0.8)",
           "rgba(212, 56, 132, 0.8)",
           "rgba(212, 56, 132, 0.8)",
           "rgba(212, 56, 132, 0.8)",
           "rgba(212, 56, 132, 0.8)",
           "rgba(212, 56, 132, 0.8)",
           "rgba(212, 56, 132, 0.8)",
           "rgba(93, 234, 209, 0.8)",
           "rgba(93, 234, 209, 0.8)",
           "rgba(93, 234, 209, 0.8)",
           "rgba(93, 234, 209, 0.8)",
           "rgba(93, 234, 209, 0.8)",
           "rgba(93, 234, 209, 0.8)",
           "rgba(93, 234, 209, 0.8)",
           "rgba(93, 234, 209, 0.8)",
           "rgba(93, 234, 209, 0.8)",
           "rgba(93, 234, 209, 0.8)",
           "rgba(93, 234, 209, 0.8)",
           "rgba(93, 234, 209, 0.8)",
           "rgba(93, 234, 209, 0.8)",
           "rgba(93, 234, 209, 0.8)",
           "rgba(93, 234, 209, 0.8)",
           "rgba(93, 234, 209, 0.8)",
           "rgba(93, 234, 209, 0.8)",
           "rgba(93, 234, 209, 0.8)",
           "rgba(93, 234, 209, 0.8)"
          ],
          "source": [
           0,
           0,
           0,
           0,
           0,
           1,
           1,
           1,
           1,
           1,
           2,
           2,
           2,
           2,
           2,
           2,
           2,
           2,
           2,
           2,
           2,
           2,
           2,
           2,
           2,
           2,
           2,
           2,
           2,
           3,
           3,
           3,
           3,
           3,
           3,
           3,
           3,
           3,
           3,
           3,
           3,
           3,
           3,
           3,
           3,
           3,
           3,
           3,
           4,
           4,
           4,
           4,
           4,
           4,
           4,
           4,
           4,
           4,
           4,
           4,
           4,
           4,
           4,
           4,
           4,
           4,
           4,
           5,
           5,
           5,
           5,
           5,
           5,
           5,
           5,
           5,
           5,
           5,
           5,
           5,
           5,
           5,
           5,
           5,
           5,
           5,
           6,
           6,
           6,
           6,
           6,
           6,
           6,
           6,
           6,
           6,
           6,
           6,
           6,
           6,
           6,
           6,
           6,
           6,
           6
          ],
          "target": [
           2,
           3,
           4,
           5,
           6,
           2,
           3,
           4,
           5,
           6,
           7,
           8,
           9,
           10,
           11,
           12,
           13,
           14,
           15,
           16,
           17,
           18,
           19,
           20,
           21,
           22,
           23,
           24,
           25,
           7,
           8,
           9,
           10,
           11,
           12,
           13,
           14,
           15,
           16,
           17,
           18,
           19,
           20,
           21,
           22,
           23,
           24,
           25,
           7,
           8,
           9,
           10,
           11,
           12,
           13,
           14,
           15,
           16,
           17,
           18,
           19,
           20,
           21,
           22,
           23,
           24,
           25,
           7,
           8,
           9,
           10,
           11,
           12,
           13,
           14,
           15,
           16,
           17,
           18,
           19,
           20,
           21,
           22,
           23,
           24,
           25,
           7,
           8,
           9,
           10,
           11,
           12,
           13,
           14,
           15,
           16,
           17,
           18,
           19,
           20,
           21,
           22,
           23,
           24,
           25
          ],
          "value": [
           25501,
           112707,
           74297,
           46607,
           6597,
           69004,
           365706,
           307637,
           222469,
           45635,
           327,
           20584,
           11,
           0,
           103,
           4,
           65183,
           8,
           11,
           60,
           0,
           2402,
           8,
           3,
           0,
           3,
           5791,
           7,
           0,
           1832,
           120559,
           299,
           1,
           313,
           14,
           255213,
           60,
           48,
           134,
           1,
           24468,
           63,
           2,
           3,
           3,
           75362,
           35,
           3,
           1446,
           98901,
           258,
           0,
           295,
           16,
           176839,
           82,
           55,
           319,
           2,
           22778,
           66,
           4,
           1,
           7,
           80832,
           30,
           3,
           1276,
           105165,
           221,
           1,
           167,
           8,
           82406,
           100,
           30,
           460,
           2,
           12538,
           26,
           2,
           1,
           4,
           66642,
           27,
           0,
           305,
           21943,
           30,
           0,
           27,
           2,
           14680,
           30,
           11,
           128,
           0,
           3240,
           10,
           0,
           0,
           0,
           11824,
           2,
           0
          ]
         },
         "node": {
          "color": [
           "rgba(162, 45, 153, 0.8)",
           "rgba(82, 138, 216, 0.8)",
           "rgba(86, 181, 132, 0.8)",
           "rgba(66, 33, 206, 0.8)",
           "rgba(177, 8, 223, 0.8)",
           "rgba(212, 56, 132, 0.8)",
           "rgba(93, 234, 209, 0.8)",
           "rgba(203, 219, 202, 0.8)",
           "rgba(40, 44, 90, 0.8)",
           "rgba(157, 38, 123, 0.8)",
           "rgba(170, 25, 76, 0.8)",
           "rgba(71, 229, 144, 0.8)",
           "rgba(69, 46, 178, 0.8)",
           "rgba(230, 201, 65, 0.8)",
           "rgba(174, 109, 140, 0.8)",
           "rgba(132, 24, 24, 0.8)",
           "rgba(162, 177, 97, 0.8)",
           "rgba(218, 237, 95, 0.8)",
           "rgba(96, 42, 151, 0.8)",
           "rgba(33, 40, 110, 0.8)",
           "rgba(144, 192, 252, 0.8)",
           "rgba(220, 232, 145, 0.8)",
           "rgba(66, 84, 138, 0.8)",
           "rgba(211, 80, 47, 0.8)",
           "rgba(88, 98, 230, 0.8)",
           "rgba(157, 108, 175, 0.8)"
          ],
          "label": [
           "Sex - F",
           "Sex - M",
           "0-18",
           "19-30",
           "31-45",
           "46-60",
           "61+",
           "Descent - A",
           "Descent - B",
           "Descent - C",
           "Descent - D",
           "Descent - F",
           "Descent - G",
           "Descent - H",
           "Descent - I",
           "Descent - J",
           "Descent - K",
           "Descent - L",
           "Descent - O",
           "Descent - P",
           "Descent - S",
           "Descent - U",
           "Descent - V",
           "Descent - W",
           "Descent - X",
           "Descent - Z"
          ],
          "line": {
           "color": "black",
           "width": 0.5
          },
          "pad": 10,
          "thickness": 30
         },
         "type": "sankey"
        }
       ],
       "layout": {
        "annotations": [
         {
          "align": "center",
          "font": {
           "size": 14
          },
          "showarrow": false,
          "text": "Gender",
          "x": 0,
          "y": 1.05
         },
         {
          "align": "center",
          "font": {
           "size": 14
          },
          "showarrow": false,
          "text": "Age",
          "x": 0.5,
          "y": 1.05
         },
         {
          "align": "center",
          "font": {
           "size": 14
          },
          "showarrow": false,
          "text": "Descent",
          "x": 1,
          "y": 1.05
         }
        ],
        "font": {
         "size": 12
        },
        "margin": {
         "b": 50,
         "l": 50,
         "r": 50,
         "t": 70
        },
        "template": {
         "data": {
          "bar": [
           {
            "error_x": {
             "color": "#2a3f5f"
            },
            "error_y": {
             "color": "#2a3f5f"
            },
            "marker": {
             "line": {
              "color": "#E5ECF6",
              "width": 0.5
             },
             "pattern": {
              "fillmode": "overlay",
              "size": 10,
              "solidity": 0.2
             }
            },
            "type": "bar"
           }
          ],
          "barpolar": [
           {
            "marker": {
             "line": {
              "color": "#E5ECF6",
              "width": 0.5
             },
             "pattern": {
              "fillmode": "overlay",
              "size": 10,
              "solidity": 0.2
             }
            },
            "type": "barpolar"
           }
          ],
          "carpet": [
           {
            "aaxis": {
             "endlinecolor": "#2a3f5f",
             "gridcolor": "white",
             "linecolor": "white",
             "minorgridcolor": "white",
             "startlinecolor": "#2a3f5f"
            },
            "baxis": {
             "endlinecolor": "#2a3f5f",
             "gridcolor": "white",
             "linecolor": "white",
             "minorgridcolor": "white",
             "startlinecolor": "#2a3f5f"
            },
            "type": "carpet"
           }
          ],
          "choropleth": [
           {
            "colorbar": {
             "outlinewidth": 0,
             "ticks": ""
            },
            "type": "choropleth"
           }
          ],
          "contour": [
           {
            "colorbar": {
             "outlinewidth": 0,
             "ticks": ""
            },
            "colorscale": [
             [
              0,
              "#0d0887"
             ],
             [
              0.1111111111111111,
              "#46039f"
             ],
             [
              0.2222222222222222,
              "#7201a8"
             ],
             [
              0.3333333333333333,
              "#9c179e"
             ],
             [
              0.4444444444444444,
              "#bd3786"
             ],
             [
              0.5555555555555556,
              "#d8576b"
             ],
             [
              0.6666666666666666,
              "#ed7953"
             ],
             [
              0.7777777777777778,
              "#fb9f3a"
             ],
             [
              0.8888888888888888,
              "#fdca26"
             ],
             [
              1,
              "#f0f921"
             ]
            ],
            "type": "contour"
           }
          ],
          "contourcarpet": [
           {
            "colorbar": {
             "outlinewidth": 0,
             "ticks": ""
            },
            "type": "contourcarpet"
           }
          ],
          "heatmap": [
           {
            "colorbar": {
             "outlinewidth": 0,
             "ticks": ""
            },
            "colorscale": [
             [
              0,
              "#0d0887"
             ],
             [
              0.1111111111111111,
              "#46039f"
             ],
             [
              0.2222222222222222,
              "#7201a8"
             ],
             [
              0.3333333333333333,
              "#9c179e"
             ],
             [
              0.4444444444444444,
              "#bd3786"
             ],
             [
              0.5555555555555556,
              "#d8576b"
             ],
             [
              0.6666666666666666,
              "#ed7953"
             ],
             [
              0.7777777777777778,
              "#fb9f3a"
             ],
             [
              0.8888888888888888,
              "#fdca26"
             ],
             [
              1,
              "#f0f921"
             ]
            ],
            "type": "heatmap"
           }
          ],
          "heatmapgl": [
           {
            "colorbar": {
             "outlinewidth": 0,
             "ticks": ""
            },
            "colorscale": [
             [
              0,
              "#0d0887"
             ],
             [
              0.1111111111111111,
              "#46039f"
             ],
             [
              0.2222222222222222,
              "#7201a8"
             ],
             [
              0.3333333333333333,
              "#9c179e"
             ],
             [
              0.4444444444444444,
              "#bd3786"
             ],
             [
              0.5555555555555556,
              "#d8576b"
             ],
             [
              0.6666666666666666,
              "#ed7953"
             ],
             [
              0.7777777777777778,
              "#fb9f3a"
             ],
             [
              0.8888888888888888,
              "#fdca26"
             ],
             [
              1,
              "#f0f921"
             ]
            ],
            "type": "heatmapgl"
           }
          ],
          "histogram": [
           {
            "marker": {
             "pattern": {
              "fillmode": "overlay",
              "size": 10,
              "solidity": 0.2
             }
            },
            "type": "histogram"
           }
          ],
          "histogram2d": [
           {
            "colorbar": {
             "outlinewidth": 0,
             "ticks": ""
            },
            "colorscale": [
             [
              0,
              "#0d0887"
             ],
             [
              0.1111111111111111,
              "#46039f"
             ],
             [
              0.2222222222222222,
              "#7201a8"
             ],
             [
              0.3333333333333333,
              "#9c179e"
             ],
             [
              0.4444444444444444,
              "#bd3786"
             ],
             [
              0.5555555555555556,
              "#d8576b"
             ],
             [
              0.6666666666666666,
              "#ed7953"
             ],
             [
              0.7777777777777778,
              "#fb9f3a"
             ],
             [
              0.8888888888888888,
              "#fdca26"
             ],
             [
              1,
              "#f0f921"
             ]
            ],
            "type": "histogram2d"
           }
          ],
          "histogram2dcontour": [
           {
            "colorbar": {
             "outlinewidth": 0,
             "ticks": ""
            },
            "colorscale": [
             [
              0,
              "#0d0887"
             ],
             [
              0.1111111111111111,
              "#46039f"
             ],
             [
              0.2222222222222222,
              "#7201a8"
             ],
             [
              0.3333333333333333,
              "#9c179e"
             ],
             [
              0.4444444444444444,
              "#bd3786"
             ],
             [
              0.5555555555555556,
              "#d8576b"
             ],
             [
              0.6666666666666666,
              "#ed7953"
             ],
             [
              0.7777777777777778,
              "#fb9f3a"
             ],
             [
              0.8888888888888888,
              "#fdca26"
             ],
             [
              1,
              "#f0f921"
             ]
            ],
            "type": "histogram2dcontour"
           }
          ],
          "mesh3d": [
           {
            "colorbar": {
             "outlinewidth": 0,
             "ticks": ""
            },
            "type": "mesh3d"
           }
          ],
          "parcoords": [
           {
            "line": {
             "colorbar": {
              "outlinewidth": 0,
              "ticks": ""
             }
            },
            "type": "parcoords"
           }
          ],
          "pie": [
           {
            "automargin": true,
            "type": "pie"
           }
          ],
          "scatter": [
           {
            "fillpattern": {
             "fillmode": "overlay",
             "size": 10,
             "solidity": 0.2
            },
            "type": "scatter"
           }
          ],
          "scatter3d": [
           {
            "line": {
             "colorbar": {
              "outlinewidth": 0,
              "ticks": ""
             }
            },
            "marker": {
             "colorbar": {
              "outlinewidth": 0,
              "ticks": ""
             }
            },
            "type": "scatter3d"
           }
          ],
          "scattercarpet": [
           {
            "marker": {
             "colorbar": {
              "outlinewidth": 0,
              "ticks": ""
             }
            },
            "type": "scattercarpet"
           }
          ],
          "scattergeo": [
           {
            "marker": {
             "colorbar": {
              "outlinewidth": 0,
              "ticks": ""
             }
            },
            "type": "scattergeo"
           }
          ],
          "scattergl": [
           {
            "marker": {
             "colorbar": {
              "outlinewidth": 0,
              "ticks": ""
             }
            },
            "type": "scattergl"
           }
          ],
          "scattermapbox": [
           {
            "marker": {
             "colorbar": {
              "outlinewidth": 0,
              "ticks": ""
             }
            },
            "type": "scattermapbox"
           }
          ],
          "scatterpolar": [
           {
            "marker": {
             "colorbar": {
              "outlinewidth": 0,
              "ticks": ""
             }
            },
            "type": "scatterpolar"
           }
          ],
          "scatterpolargl": [
           {
            "marker": {
             "colorbar": {
              "outlinewidth": 0,
              "ticks": ""
             }
            },
            "type": "scatterpolargl"
           }
          ],
          "scatterternary": [
           {
            "marker": {
             "colorbar": {
              "outlinewidth": 0,
              "ticks": ""
             }
            },
            "type": "scatterternary"
           }
          ],
          "surface": [
           {
            "colorbar": {
             "outlinewidth": 0,
             "ticks": ""
            },
            "colorscale": [
             [
              0,
              "#0d0887"
             ],
             [
              0.1111111111111111,
              "#46039f"
             ],
             [
              0.2222222222222222,
              "#7201a8"
             ],
             [
              0.3333333333333333,
              "#9c179e"
             ],
             [
              0.4444444444444444,
              "#bd3786"
             ],
             [
              0.5555555555555556,
              "#d8576b"
             ],
             [
              0.6666666666666666,
              "#ed7953"
             ],
             [
              0.7777777777777778,
              "#fb9f3a"
             ],
             [
              0.8888888888888888,
              "#fdca26"
             ],
             [
              1,
              "#f0f921"
             ]
            ],
            "type": "surface"
           }
          ],
          "table": [
           {
            "cells": {
             "fill": {
              "color": "#EBF0F8"
             },
             "line": {
              "color": "white"
             }
            },
            "header": {
             "fill": {
              "color": "#C8D4E3"
             },
             "line": {
              "color": "white"
             }
            },
            "type": "table"
           }
          ]
         },
         "layout": {
          "annotationdefaults": {
           "arrowcolor": "#2a3f5f",
           "arrowhead": 0,
           "arrowwidth": 1
          },
          "autotypenumbers": "strict",
          "coloraxis": {
           "colorbar": {
            "outlinewidth": 0,
            "ticks": ""
           }
          },
          "colorscale": {
           "diverging": [
            [
             0,
             "#8e0152"
            ],
            [
             0.1,
             "#c51b7d"
            ],
            [
             0.2,
             "#de77ae"
            ],
            [
             0.3,
             "#f1b6da"
            ],
            [
             0.4,
             "#fde0ef"
            ],
            [
             0.5,
             "#f7f7f7"
            ],
            [
             0.6,
             "#e6f5d0"
            ],
            [
             0.7,
             "#b8e186"
            ],
            [
             0.8,
             "#7fbc41"
            ],
            [
             0.9,
             "#4d9221"
            ],
            [
             1,
             "#276419"
            ]
           ],
           "sequential": [
            [
             0,
             "#0d0887"
            ],
            [
             0.1111111111111111,
             "#46039f"
            ],
            [
             0.2222222222222222,
             "#7201a8"
            ],
            [
             0.3333333333333333,
             "#9c179e"
            ],
            [
             0.4444444444444444,
             "#bd3786"
            ],
            [
             0.5555555555555556,
             "#d8576b"
            ],
            [
             0.6666666666666666,
             "#ed7953"
            ],
            [
             0.7777777777777778,
             "#fb9f3a"
            ],
            [
             0.8888888888888888,
             "#fdca26"
            ],
            [
             1,
             "#f0f921"
            ]
           ],
           "sequentialminus": [
            [
             0,
             "#0d0887"
            ],
            [
             0.1111111111111111,
             "#46039f"
            ],
            [
             0.2222222222222222,
             "#7201a8"
            ],
            [
             0.3333333333333333,
             "#9c179e"
            ],
            [
             0.4444444444444444,
             "#bd3786"
            ],
            [
             0.5555555555555556,
             "#d8576b"
            ],
            [
             0.6666666666666666,
             "#ed7953"
            ],
            [
             0.7777777777777778,
             "#fb9f3a"
            ],
            [
             0.8888888888888888,
             "#fdca26"
            ],
            [
             1,
             "#f0f921"
            ]
           ]
          },
          "colorway": [
           "#636efa",
           "#EF553B",
           "#00cc96",
           "#ab63fa",
           "#FFA15A",
           "#19d3f3",
           "#FF6692",
           "#B6E880",
           "#FF97FF",
           "#FECB52"
          ],
          "font": {
           "color": "#2a3f5f"
          },
          "geo": {
           "bgcolor": "white",
           "lakecolor": "white",
           "landcolor": "#E5ECF6",
           "showlakes": true,
           "showland": true,
           "subunitcolor": "white"
          },
          "hoverlabel": {
           "align": "left"
          },
          "hovermode": "closest",
          "mapbox": {
           "style": "light"
          },
          "paper_bgcolor": "white",
          "plot_bgcolor": "#E5ECF6",
          "polar": {
           "angularaxis": {
            "gridcolor": "white",
            "linecolor": "white",
            "ticks": ""
           },
           "bgcolor": "#E5ECF6",
           "radialaxis": {
            "gridcolor": "white",
            "linecolor": "white",
            "ticks": ""
           }
          },
          "scene": {
           "xaxis": {
            "backgroundcolor": "#E5ECF6",
            "gridcolor": "white",
            "gridwidth": 2,
            "linecolor": "white",
            "showbackground": true,
            "ticks": "",
            "zerolinecolor": "white"
           },
           "yaxis": {
            "backgroundcolor": "#E5ECF6",
            "gridcolor": "white",
            "gridwidth": 2,
            "linecolor": "white",
            "showbackground": true,
            "ticks": "",
            "zerolinecolor": "white"
           },
           "zaxis": {
            "backgroundcolor": "#E5ECF6",
            "gridcolor": "white",
            "gridwidth": 2,
            "linecolor": "white",
            "showbackground": true,
            "ticks": "",
            "zerolinecolor": "white"
           }
          },
          "shapedefaults": {
           "line": {
            "color": "#2a3f5f"
           }
          },
          "ternary": {
           "aaxis": {
            "gridcolor": "white",
            "linecolor": "white",
            "ticks": ""
           },
           "baxis": {
            "gridcolor": "white",
            "linecolor": "white",
            "ticks": ""
           },
           "bgcolor": "#E5ECF6",
           "caxis": {
            "gridcolor": "white",
            "linecolor": "white",
            "ticks": ""
           }
          },
          "title": {
           "x": 0.05
          },
          "xaxis": {
           "automargin": true,
           "gridcolor": "white",
           "linecolor": "white",
           "ticks": "",
           "title": {
            "standoff": 15
           },
           "zerolinecolor": "white",
           "zerolinewidth": 2
          },
          "yaxis": {
           "automargin": true,
           "gridcolor": "white",
           "linecolor": "white",
           "ticks": "",
           "title": {
            "standoff": 15
           },
           "zerolinecolor": "white",
           "zerolinewidth": 2
          }
         }
        },
        "title": {
         "text": "Sankey Diagram: Arrest Data (Sex → Age → Descent)"
        }
       }
      }
     },
     "metadata": {},
     "output_type": "display_data"
    }
   ],
   "source": [
    "import pandas as pd\n",
    "import plotly.graph_objects as go\n",
    "import random\n",
    "\n",
    "# Sample data preparation: create age groups\n",
    "df_arrest['Age Group'] = pd.cut(\n",
    "    df_arrest['Age'],\n",
    "    bins=[0, 18, 30, 45, 60, 100],\n",
    "    labels=['0-18', '19-30', '31-45', '46-60', '61+'],\n",
    "    right=False\n",
    ")\n",
    "\n",
    "# Aggregate data: count combinations of Sex Code, Age Group, and Descent Code\n",
    "sankey_data = df_arrest.groupby(['Sex Code', 'Age Group', 'Descent Code']).size().reset_index(name='Count')\n",
    "\n",
    "# Create unique labels for Sankey nodes by adding prefixes to distinguish similar values\n",
    "sex_labels = ['Sex - ' + x for x in sankey_data['Sex Code'].unique().tolist()]\n",
    "age_labels = sankey_data['Age Group'].unique().tolist()\n",
    "descent_labels = ['Descent - ' + x for x in sankey_data['Descent Code'].unique().tolist()]\n",
    "\n",
    "# Combine labels in proper order: Sex -> Age -> Descent\n",
    "labels = sex_labels + age_labels + descent_labels\n",
    "\n",
    "# Map labels to indices\n",
    "label_to_index = {label: i for i, label in enumerate(labels)}\n",
    "\n",
    "# Define source and target for Sankey links\n",
    "# Step 1: Sex Code → Age Group\n",
    "sources_sex_age = sankey_data['Sex Code'].map(lambda x: label_to_index['Sex - ' + x])\n",
    "targets_sex_age = sankey_data['Age Group'].map(lambda x: label_to_index[x])\n",
    "\n",
    "# Step 2: Age Group → Descent Code\n",
    "sources_age_descent = sankey_data['Age Group'].map(lambda x: label_to_index[x])\n",
    "targets_age_descent = sankey_data['Descent Code'].map(lambda x: label_to_index['Descent - ' + x])\n",
    "\n",
    "# Combine sources and targets\n",
    "sources = sources_sex_age.tolist() + sources_age_descent.tolist()\n",
    "targets = targets_sex_age.tolist() + targets_age_descent.tolist()\n",
    "\n",
    "# Define link values (aggregated count)\n",
    "values = sankey_data['Count'].tolist() * 2  # Repeat for both link sets (Sex → Age, Age → Descent)\n",
    "\n",
    "# Group by source and target to ensure single links (no divisions)\n",
    "unique_links = pd.DataFrame({'source': sources, 'target': targets, 'value': values})\n",
    "unique_links = unique_links.groupby(['source', 'target'], as_index=False)['value'].sum()\n",
    "\n",
    "# Redefine the sources, targets, and values for the Sankey diagram\n",
    "sources = unique_links['source'].tolist()\n",
    "targets = unique_links['target'].tolist()\n",
    "values = unique_links['value'].tolist()\n",
    "\n",
    "# Generate distinct colors for nodes\n",
    "node_colors = [f'rgba({random.randint(0, 255)}, {random.randint(0, 255)}, {random.randint(0, 255)}, 0.8)' for _ in labels]\n",
    "\n",
    "# Assign link colors based on source node\n",
    "link_colors = [node_colors[source] for source in sources]\n",
    "\n",
    "# Create Sankey diagram\n",
    "fig = go.Figure(data=[go.Sankey(\n",
    "    node=dict(\n",
    "        pad=10,  # Reduce padding for compact blocks\n",
    "        thickness=30,  # Increase thickness for block-like nodes\n",
    "        line=dict(color=\"black\", width=0.5),\n",
    "        label=labels,  # Node labels\n",
    "        color=node_colors  # Node colors\n",
    "    ),\n",
    "    link=dict(\n",
    "        source=sources,  # Source nodes\n",
    "        target=targets,  # Target nodes\n",
    "        value=values,  # Link values\n",
    "        color=link_colors,  # Link colors based on source node\n",
    "    )\n",
    ")])\n",
    "\n",
    "# Add axis labels as annotations\n",
    "fig.add_annotation(\n",
    "    x=0, y=1.05, text=\"Gender\", showarrow=False, font=dict(size=14), align=\"center\"\n",
    ")\n",
    "fig.add_annotation(\n",
    "    x=0.5, y=1.05, text=\"Age\", showarrow=False, font=dict(size=14), align=\"center\"\n",
    ")\n",
    "fig.add_annotation(\n",
    "    x=1, y=1.05, text=\"Descent\", showarrow=False, font=dict(size=14), align=\"center\"\n",
    ")\n",
    "\n",
    "# Update layout for better visualization\n",
    "fig.update_layout(\n",
    "    title_text=\"Sankey Diagram: Arrest Data (Sex → Age → Descent)\",\n",
    "    font_size=12,\n",
    "    margin=dict(l=50, r=50, t=70, b=50)  # Increase top margin for annotations\n",
    ")\n",
    "\n",
    "# Show the plot\n",
    "fig.show()\n"
   ]
  },
  {
   "cell_type": "markdown",
   "metadata": {},
   "source": [
    "## Fig 12: UpSet plot: Male "
   ]
  },
  {
   "cell_type": "code",
   "execution_count": 18,
   "metadata": {},
   "outputs": [
    {
     "name": "stderr",
     "output_type": "stream",
     "text": [
      "c:\\Users\\subha\\miniconda3\\envs\\dv\\lib\\site-packages\\upsetplot\\data.py:303: FutureWarning:\n",
      "\n",
      "Downcasting object dtype arrays on .fillna, .ffill, .bfill is deprecated and will change in a future version. Call result.infer_objects(copy=False) instead. To opt-in to the future behavior, set `pd.set_option('future.no_silent_downcasting', True)`\n",
      "\n",
      "c:\\Users\\subha\\miniconda3\\envs\\dv\\lib\\site-packages\\upsetplot\\plotting.py:795: FutureWarning:\n",
      "\n",
      "A value is trying to be set on a copy of a DataFrame or Series through chained assignment using an inplace method.\n",
      "The behavior will change in pandas 3.0. This inplace method will never work because the intermediate object on which we are setting values always behaves as a copy.\n",
      "\n",
      "For example, when doing 'df[col].method(value, inplace=True)', try using 'df.method({col: value}, inplace=True)' or df[col] = df[col].method(value) instead, to perform the operation inplace on the original object.\n",
      "\n",
      "\n",
      "\n",
      "c:\\Users\\subha\\miniconda3\\envs\\dv\\lib\\site-packages\\upsetplot\\plotting.py:796: FutureWarning:\n",
      "\n",
      "A value is trying to be set on a copy of a DataFrame or Series through chained assignment using an inplace method.\n",
      "The behavior will change in pandas 3.0. This inplace method will never work because the intermediate object on which we are setting values always behaves as a copy.\n",
      "\n",
      "For example, when doing 'df[col].method(value, inplace=True)', try using 'df.method({col: value}, inplace=True)' or df[col] = df[col].method(value) instead, to perform the operation inplace on the original object.\n",
      "\n",
      "\n",
      "\n",
      "c:\\Users\\subha\\miniconda3\\envs\\dv\\lib\\site-packages\\upsetplot\\plotting.py:797: FutureWarning:\n",
      "\n",
      "A value is trying to be set on a copy of a DataFrame or Series through chained assignment using an inplace method.\n",
      "The behavior will change in pandas 3.0. This inplace method will never work because the intermediate object on which we are setting values always behaves as a copy.\n",
      "\n",
      "For example, when doing 'df[col].method(value, inplace=True)', try using 'df.method({col: value}, inplace=True)' or df[col] = df[col].method(value) instead, to perform the operation inplace on the original object.\n",
      "\n",
      "\n",
      "\n",
      "c:\\Users\\subha\\miniconda3\\envs\\dv\\lib\\site-packages\\upsetplot\\plotting.py:798: FutureWarning:\n",
      "\n",
      "A value is trying to be set on a copy of a DataFrame or Series through chained assignment using an inplace method.\n",
      "The behavior will change in pandas 3.0. This inplace method will never work because the intermediate object on which we are setting values always behaves as a copy.\n",
      "\n",
      "For example, when doing 'df[col].method(value, inplace=True)', try using 'df.method({col: value}, inplace=True)' or df[col] = df[col].method(value) instead, to perform the operation inplace on the original object.\n",
      "\n",
      "\n",
      "\n"
     ]
    },
    {
     "data": {
      "image/png": "[encoded data removed]",
      "text/plain": [
       "<Figure size 666.667x577.778 with 4 Axes>"
      ]
     },
     "metadata": {},
     "output_type": "display_data"
    }
   ],
   "source": [
    "import pandas as pd\n",
    "from upsetplot import from_memberships, UpSet\n",
    "import matplotlib.pyplot as plt\n",
    "\n",
    "# Sample data preparation: create age groups\n",
    "df_arrest['Age Group'] = pd.cut(\n",
    "    df_arrest['Age'],\n",
    "    bins=[0, 18, 30, 45, 60, 100],\n",
    "    labels=['0-18', '19-30', '31-45', '46-60', '61+'],\n",
    "    right=False\n",
    ")\n",
    "\n",
    "# Define specific age groups, descents, and genders to filter\n",
    "selected_age_groups = ['19-30', '31-45', '46-60']\n",
    "selected_descents = ['H', 'W', 'B']  # Replace with the desired descent codes\n",
    "selected_genders = ['M']  # Replace with the desired gender codes\n",
    "\n",
    "# Filter the DataFrame based on the conditions\n",
    "filtered_df = df_arrest[\n",
    "    (df_arrest['Age Group'].isin(selected_age_groups)) & \n",
    "    (df_arrest['Descent Code'].isin(selected_descents)) & \n",
    "    (df_arrest['Sex Code'].isin(selected_genders))\n",
    "]\n",
    "\n",
    "# Create list of memberships for UpSet plot\n",
    "memberships = filtered_df.apply(\n",
    "    lambda row: (\n",
    "        f\"Sex - {row['Sex Code']}\",\n",
    "        f\"Age - {row['Age Group']}\",\n",
    "        f\"Descent - {row['Descent Code']}\"\n",
    "    ), \n",
    "    axis=1\n",
    ")\n",
    "\n",
    "# Create UpSet data from memberships\n",
    "upset_data = from_memberships(memberships, data=filtered_df.index)\n",
    "\n",
    "# Create the UpSet plot\n",
    "upset = UpSet(upset_data, subset_size='count', sort_by='degree')\n",
    "\n",
    "# Plot the data\n",
    "upset.plot()\n",
    "plt.title(\"UpSet Plot: Arrest Data Intersections (Filtered: Male, Age 19-60, Descents H, W, B)\")\n",
    "plt.show()\n"
   ]
  },
  {
   "cell_type": "markdown",
   "metadata": {},
   "source": [
    "## Fig 13: UpSet plot: Female"
   ]
  },
  {
   "cell_type": "code",
   "execution_count": 19,
   "metadata": {},
   "outputs": [
    {
     "name": "stderr",
     "output_type": "stream",
     "text": [
      "c:\\Users\\subha\\miniconda3\\envs\\dv\\lib\\site-packages\\upsetplot\\data.py:303: FutureWarning:\n",
      "\n",
      "Downcasting object dtype arrays on .fillna, .ffill, .bfill is deprecated and will change in a future version. Call result.infer_objects(copy=False) instead. To opt-in to the future behavior, set `pd.set_option('future.no_silent_downcasting', True)`\n",
      "\n",
      "c:\\Users\\subha\\miniconda3\\envs\\dv\\lib\\site-packages\\upsetplot\\plotting.py:795: FutureWarning:\n",
      "\n",
      "A value is trying to be set on a copy of a DataFrame or Series through chained assignment using an inplace method.\n",
      "The behavior will change in pandas 3.0. This inplace method will never work because the intermediate object on which we are setting values always behaves as a copy.\n",
      "\n",
      "For example, when doing 'df[col].method(value, inplace=True)', try using 'df.method({col: value}, inplace=True)' or df[col] = df[col].method(value) instead, to perform the operation inplace on the original object.\n",
      "\n",
      "\n",
      "\n",
      "c:\\Users\\subha\\miniconda3\\envs\\dv\\lib\\site-packages\\upsetplot\\plotting.py:796: FutureWarning:\n",
      "\n",
      "A value is trying to be set on a copy of a DataFrame or Series through chained assignment using an inplace method.\n",
      "The behavior will change in pandas 3.0. This inplace method will never work because the intermediate object on which we are setting values always behaves as a copy.\n",
      "\n",
      "For example, when doing 'df[col].method(value, inplace=True)', try using 'df.method({col: value}, inplace=True)' or df[col] = df[col].method(value) instead, to perform the operation inplace on the original object.\n",
      "\n",
      "\n",
      "\n",
      "c:\\Users\\subha\\miniconda3\\envs\\dv\\lib\\site-packages\\upsetplot\\plotting.py:797: FutureWarning:\n",
      "\n",
      "A value is trying to be set on a copy of a DataFrame or Series through chained assignment using an inplace method.\n",
      "The behavior will change in pandas 3.0. This inplace method will never work because the intermediate object on which we are setting values always behaves as a copy.\n",
      "\n",
      "For example, when doing 'df[col].method(value, inplace=True)', try using 'df.method({col: value}, inplace=True)' or df[col] = df[col].method(value) instead, to perform the operation inplace on the original object.\n",
      "\n",
      "\n",
      "\n",
      "c:\\Users\\subha\\miniconda3\\envs\\dv\\lib\\site-packages\\upsetplot\\plotting.py:798: FutureWarning:\n",
      "\n",
      "A value is trying to be set on a copy of a DataFrame or Series through chained assignment using an inplace method.\n",
      "The behavior will change in pandas 3.0. This inplace method will never work because the intermediate object on which we are setting values always behaves as a copy.\n",
      "\n",
      "For example, when doing 'df[col].method(value, inplace=True)', try using 'df.method({col: value}, inplace=True)' or df[col] = df[col].method(value) instead, to perform the operation inplace on the original object.\n",
      "\n",
      "\n",
      "\n"
     ]
    },
    {
     "data": {
      "image/png": "[encoded data removed]",
      "text/plain": [
       "<Figure size 666.667x577.778 with 4 Axes>"
      ]
     },
     "metadata": {},
     "output_type": "display_data"
    }
   ],
   "source": [
    "import pandas as pd\n",
    "from upsetplot import from_memberships, UpSet\n",
    "import matplotlib.pyplot as plt\n",
    "\n",
    "# Sample data preparation: create age groups\n",
    "df_arrest['Age Group'] = pd.cut(\n",
    "    df_arrest['Age'],\n",
    "    bins=[0, 18, 30, 45, 60, 100],\n",
    "    labels=['0-18', '19-30', '31-45', '46-60', '61+'],\n",
    "    right=False\n",
    ")\n",
    "\n",
    "# Define specific age groups, descents, and genders to filter\n",
    "selected_age_groups = ['19-30', '31-45', '46-60']\n",
    "selected_descents = ['H', 'W', 'B']  # Replace with the desired descent codes\n",
    "selected_genders = ['F']  # Replace with the desired gender codes\n",
    "\n",
    "# Filter the DataFrame based on the conditions\n",
    "filtered_df = df_arrest[\n",
    "    (df_arrest['Age Group'].isin(selected_age_groups)) & \n",
    "    (df_arrest['Descent Code'].isin(selected_descents)) & \n",
    "    (df_arrest['Sex Code'].isin(selected_genders))\n",
    "]\n",
    "\n",
    "# Create list of memberships for UpSet plot\n",
    "memberships = filtered_df.apply(\n",
    "    lambda row: (\n",
    "        f\"Sex - {row['Sex Code']}\",\n",
    "        f\"Age - {row['Age Group']}\",\n",
    "        f\"Descent - {row['Descent Code']}\"\n",
    "    ), \n",
    "    axis=1\n",
    ")\n",
    "\n",
    "# Create UpSet data from memberships\n",
    "upset_data = from_memberships(memberships, data=filtered_df.index)\n",
    "\n",
    "# Create the UpSet plot\n",
    "upset = UpSet(upset_data, subset_size='count', sort_by='degree')\n",
    "\n",
    "# Plot the data\n",
    "upset.plot()\n",
    "plt.title(\"UpSet Plot: Arrest Data Intersections (Filtered: Female, Age 19-60, Descents H, W, B)\")\n",
    "plt.show()\n"
   ]
  },
  {
   "cell_type": "markdown",
   "metadata": {},
   "source": [
    "## Fig. 7. Reasons for arrest that are most common in LA."
   ]
  },
  {
   "cell_type": "code",
   "execution_count": 22,
   "metadata": {},
   "outputs": [
    {
     "data": {
      "application/vnd.plotly.v1+json": {
       "config": {
        "plotlyServerURL": "https://plot.ly"
       },
       "data": [
        {
         "alignmentgroup": "True",
         "hovertemplate": "Charge Group Description=%{x}<br>Arrest Count=%{y}<extra></extra>",
         "legendgroup": "",
         "marker": {
          "color": "#636efa",
          "pattern": {
           "shape": ""
          }
         },
         "name": "",
         "offsetgroup": "",
         "orientation": "v",
         "showlegend": false,
         "textposition": "auto",
         "type": "bar",
         "x": [
          "Miscellaneous Other Violations",
          "Narcotic Drug Laws",
          "Driving Under Influence",
          "Drunkeness",
          "Aggravated Assault",
          "Larceny",
          "Other Assaults",
          "Moving Traffic Violations",
          "Liquor Laws",
          "Prostitution/Allied",
          "Disorderly Conduct",
          "Weapon (carry/poss)",
          "Robbery",
          "Vehicle Theft",
          "Burglary",
          "Sex (except rape/prst)",
          "Pre-Delinquency",
          "Fraud/Embezzlement",
          "Against Family/Child",
          "Forgery/Counterfeit",
          "Non-Criminal Detention",
          "Receive Stolen Property",
          "Disturbing the Peace",
          "Rape",
          "Homicide",
          "Gambling",
          "Federal Offenses"
         ],
         "xaxis": "x",
         "y": [
          236983,
          158244,
          117037,
          114462,
          82340,
          68715,
          60281,
          52078,
          50802,
          38104,
          36666,
          29918,
          25749,
          24140,
          23620,
          13112,
          11865,
          9285,
          6936,
          6845,
          6810,
          6547,
          2928,
          2859,
          2370,
          2147,
          228
         ],
         "yaxis": "y"
        }
       ],
       "layout": {
        "barmode": "relative",
        "legend": {
         "tracegroupgap": 0
        },
        "template": {
         "data": {
          "bar": [
           {
            "error_x": {
             "color": "#2a3f5f"
            },
            "error_y": {
             "color": "#2a3f5f"
            },
            "marker": {
             "line": {
              "color": "#E5ECF6",
              "width": 0.5
             },
             "pattern": {
              "fillmode": "overlay",
              "size": 10,
              "solidity": 0.2
             }
            },
            "type": "bar"
           }
          ],
          "barpolar": [
           {
            "marker": {
             "line": {
              "color": "#E5ECF6",
              "width": 0.5
             },
             "pattern": {
              "fillmode": "overlay",
              "size": 10,
              "solidity": 0.2
             }
            },
            "type": "barpolar"
           }
          ],
          "carpet": [
           {
            "aaxis": {
             "endlinecolor": "#2a3f5f",
             "gridcolor": "white",
             "linecolor": "white",
             "minorgridcolor": "white",
             "startlinecolor": "#2a3f5f"
            },
            "baxis": {
             "endlinecolor": "#2a3f5f",
             "gridcolor": "white",
             "linecolor": "white",
             "minorgridcolor": "white",
             "startlinecolor": "#2a3f5f"
            },
            "type": "carpet"
           }
          ],
          "choropleth": [
           {
            "colorbar": {
             "outlinewidth": 0,
             "ticks": ""
            },
            "type": "choropleth"
           }
          ],
          "contour": [
           {
            "colorbar": {
             "outlinewidth": 0,
             "ticks": ""
            },
            "colorscale": [
             [
              0,
              "#0d0887"
             ],
             [
              0.1111111111111111,
              "#46039f"
             ],
             [
              0.2222222222222222,
              "#7201a8"
             ],
             [
              0.3333333333333333,
              "#9c179e"
             ],
             [
              0.4444444444444444,
              "#bd3786"
             ],
             [
              0.5555555555555556,
              "#d8576b"
             ],
             [
              0.6666666666666666,
              "#ed7953"
             ],
             [
              0.7777777777777778,
              "#fb9f3a"
             ],
             [
              0.8888888888888888,
              "#fdca26"
             ],
             [
              1,
              "#f0f921"
             ]
            ],
            "type": "contour"
           }
          ],
          "contourcarpet": [
           {
            "colorbar": {
             "outlinewidth": 0,
             "ticks": ""
            },
            "type": "contourcarpet"
           }
          ],
          "heatmap": [
           {
            "colorbar": {
             "outlinewidth": 0,
             "ticks": ""
            },
            "colorscale": [
             [
              0,
              "#0d0887"
             ],
             [
              0.1111111111111111,
              "#46039f"
             ],
             [
              0.2222222222222222,
              "#7201a8"
             ],
             [
              0.3333333333333333,
              "#9c179e"
             ],
             [
              0.4444444444444444,
              "#bd3786"
             ],
             [
              0.5555555555555556,
              "#d8576b"
             ],
             [
              0.6666666666666666,
              "#ed7953"
             ],
             [
              0.7777777777777778,
              "#fb9f3a"
             ],
             [
              0.8888888888888888,
              "#fdca26"
             ],
             [
              1,
              "#f0f921"
             ]
            ],
            "type": "heatmap"
           }
          ],
          "heatmapgl": [
           {
            "colorbar": {
             "outlinewidth": 0,
             "ticks": ""
            },
            "colorscale": [
             [
              0,
              "#0d0887"
             ],
             [
              0.1111111111111111,
              "#46039f"
             ],
             [
              0.2222222222222222,
              "#7201a8"
             ],
             [
              0.3333333333333333,
              "#9c179e"
             ],
             [
              0.4444444444444444,
              "#bd3786"
             ],
             [
              0.5555555555555556,
              "#d8576b"
             ],
             [
              0.6666666666666666,
              "#ed7953"
             ],
             [
              0.7777777777777778,
              "#fb9f3a"
             ],
             [
              0.8888888888888888,
              "#fdca26"
             ],
             [
              1,
              "#f0f921"
             ]
            ],
            "type": "heatmapgl"
           }
          ],
          "histogram": [
           {
            "marker": {
             "pattern": {
              "fillmode": "overlay",
              "size": 10,
              "solidity": 0.2
             }
            },
            "type": "histogram"
           }
          ],
          "histogram2d": [
           {
            "colorbar": {
             "outlinewidth": 0,
             "ticks": ""
            },
            "colorscale": [
             [
              0,
              "#0d0887"
             ],
             [
              0.1111111111111111,
              "#46039f"
             ],
             [
              0.2222222222222222,
              "#7201a8"
             ],
             [
              0.3333333333333333,
              "#9c179e"
             ],
             [
              0.4444444444444444,
              "#bd3786"
             ],
             [
              0.5555555555555556,
              "#d8576b"
             ],
             [
              0.6666666666666666,
              "#ed7953"
             ],
             [
              0.7777777777777778,
              "#fb9f3a"
             ],
             [
              0.8888888888888888,
              "#fdca26"
             ],
             [
              1,
              "#f0f921"
             ]
            ],
            "type": "histogram2d"
           }
          ],
          "histogram2dcontour": [
           {
            "colorbar": {
             "outlinewidth": 0,
             "ticks": ""
            },
            "colorscale": [
             [
              0,
              "#0d0887"
             ],
             [
              0.1111111111111111,
              "#46039f"
             ],
             [
              0.2222222222222222,
              "#7201a8"
             ],
             [
              0.3333333333333333,
              "#9c179e"
             ],
             [
              0.4444444444444444,
              "#bd3786"
             ],
             [
              0.5555555555555556,
              "#d8576b"
             ],
             [
              0.6666666666666666,
              "#ed7953"
             ],
             [
              0.7777777777777778,
              "#fb9f3a"
             ],
             [
              0.8888888888888888,
              "#fdca26"
             ],
             [
              1,
              "#f0f921"
             ]
            ],
            "type": "histogram2dcontour"
           }
          ],
          "mesh3d": [
           {
            "colorbar": {
             "outlinewidth": 0,
             "ticks": ""
            },
            "type": "mesh3d"
           }
          ],
          "parcoords": [
           {
            "line": {
             "colorbar": {
              "outlinewidth": 0,
              "ticks": ""
             }
            },
            "type": "parcoords"
           }
          ],
          "pie": [
           {
            "automargin": true,
            "type": "pie"
           }
          ],
          "scatter": [
           {
            "fillpattern": {
             "fillmode": "overlay",
             "size": 10,
             "solidity": 0.2
            },
            "type": "scatter"
           }
          ],
          "scatter3d": [
           {
            "line": {
             "colorbar": {
              "outlinewidth": 0,
              "ticks": ""
             }
            },
            "marker": {
             "colorbar": {
              "outlinewidth": 0,
              "ticks": ""
             }
            },
            "type": "scatter3d"
           }
          ],
          "scattercarpet": [
           {
            "marker": {
             "colorbar": {
              "outlinewidth": 0,
              "ticks": ""
             }
            },
            "type": "scattercarpet"
           }
          ],
          "scattergeo": [
           {
            "marker": {
             "colorbar": {
              "outlinewidth": 0,
              "ticks": ""
             }
            },
            "type": "scattergeo"
           }
          ],
          "scattergl": [
           {
            "marker": {
             "colorbar": {
              "outlinewidth": 0,
              "ticks": ""
             }
            },
            "type": "scattergl"
           }
          ],
          "scattermapbox": [
           {
            "marker": {
             "colorbar": {
              "outlinewidth": 0,
              "ticks": ""
             }
            },
            "type": "scattermapbox"
           }
          ],
          "scatterpolar": [
           {
            "marker": {
             "colorbar": {
              "outlinewidth": 0,
              "ticks": ""
             }
            },
            "type": "scatterpolar"
           }
          ],
          "scatterpolargl": [
           {
            "marker": {
             "colorbar": {
              "outlinewidth": 0,
              "ticks": ""
             }
            },
            "type": "scatterpolargl"
           }
          ],
          "scatterternary": [
           {
            "marker": {
             "colorbar": {
              "outlinewidth": 0,
              "ticks": ""
             }
            },
            "type": "scatterternary"
           }
          ],
          "surface": [
           {
            "colorbar": {
             "outlinewidth": 0,
             "ticks": ""
            },
            "colorscale": [
             [
              0,
              "#0d0887"
             ],
             [
              0.1111111111111111,
              "#46039f"
             ],
             [
              0.2222222222222222,
              "#7201a8"
             ],
             [
              0.3333333333333333,
              "#9c179e"
             ],
             [
              0.4444444444444444,
              "#bd3786"
             ],
             [
              0.5555555555555556,
              "#d8576b"
             ],
             [
              0.6666666666666666,
              "#ed7953"
             ],
             [
              0.7777777777777778,
              "#fb9f3a"
             ],
             [
              0.8888888888888888,
              "#fdca26"
             ],
             [
              1,
              "#f0f921"
             ]
            ],
            "type": "surface"
           }
          ],
          "table": [
           {
            "cells": {
             "fill": {
              "color": "#EBF0F8"
             },
             "line": {
              "color": "white"
             }
            },
            "header": {
             "fill": {
              "color": "#C8D4E3"
             },
             "line": {
              "color": "white"
             }
            },
            "type": "table"
           }
          ]
         },
         "layout": {
          "annotationdefaults": {
           "arrowcolor": "#2a3f5f",
           "arrowhead": 0,
           "arrowwidth": 1
          },
          "autotypenumbers": "strict",
          "coloraxis": {
           "colorbar": {
            "outlinewidth": 0,
            "ticks": ""
           }
          },
          "colorscale": {
           "diverging": [
            [
             0,
             "#8e0152"
            ],
            [
             0.1,
             "#c51b7d"
            ],
            [
             0.2,
             "#de77ae"
            ],
            [
             0.3,
             "#f1b6da"
            ],
            [
             0.4,
             "#fde0ef"
            ],
            [
             0.5,
             "#f7f7f7"
            ],
            [
             0.6,
             "#e6f5d0"
            ],
            [
             0.7,
             "#b8e186"
            ],
            [
             0.8,
             "#7fbc41"
            ],
            [
             0.9,
             "#4d9221"
            ],
            [
             1,
             "#276419"
            ]
           ],
           "sequential": [
            [
             0,
             "#0d0887"
            ],
            [
             0.1111111111111111,
             "#46039f"
            ],
            [
             0.2222222222222222,
             "#7201a8"
            ],
            [
             0.3333333333333333,
             "#9c179e"
            ],
            [
             0.4444444444444444,
             "#bd3786"
            ],
            [
             0.5555555555555556,
             "#d8576b"
            ],
            [
             0.6666666666666666,
             "#ed7953"
            ],
            [
             0.7777777777777778,
             "#fb9f3a"
            ],
            [
             0.8888888888888888,
             "#fdca26"
            ],
            [
             1,
             "#f0f921"
            ]
           ],
           "sequentialminus": [
            [
             0,
             "#0d0887"
            ],
            [
             0.1111111111111111,
             "#46039f"
            ],
            [
             0.2222222222222222,
             "#7201a8"
            ],
            [
             0.3333333333333333,
             "#9c179e"
            ],
            [
             0.4444444444444444,
             "#bd3786"
            ],
            [
             0.5555555555555556,
             "#d8576b"
            ],
            [
             0.6666666666666666,
             "#ed7953"
            ],
            [
             0.7777777777777778,
             "#fb9f3a"
            ],
            [
             0.8888888888888888,
             "#fdca26"
            ],
            [
             1,
             "#f0f921"
            ]
           ]
          },
          "colorway": [
           "#636efa",
           "#EF553B",
           "#00cc96",
           "#ab63fa",
           "#FFA15A",
           "#19d3f3",
           "#FF6692",
           "#B6E880",
           "#FF97FF",
           "#FECB52"
          ],
          "font": {
           "color": "#2a3f5f"
          },
          "geo": {
           "bgcolor": "white",
           "lakecolor": "white",
           "landcolor": "#E5ECF6",
           "showlakes": true,
           "showland": true,
           "subunitcolor": "white"
          },
          "hoverlabel": {
           "align": "left"
          },
          "hovermode": "closest",
          "mapbox": {
           "style": "light"
          },
          "paper_bgcolor": "white",
          "plot_bgcolor": "#E5ECF6",
          "polar": {
           "angularaxis": {
            "gridcolor": "white",
            "linecolor": "white",
            "ticks": ""
           },
           "bgcolor": "#E5ECF6",
           "radialaxis": {
            "gridcolor": "white",
            "linecolor": "white",
            "ticks": ""
           }
          },
          "scene": {
           "xaxis": {
            "backgroundcolor": "#E5ECF6",
            "gridcolor": "white",
            "gridwidth": 2,
            "linecolor": "white",
            "showbackground": true,
            "ticks": "",
            "zerolinecolor": "white"
           },
           "yaxis": {
            "backgroundcolor": "#E5ECF6",
            "gridcolor": "white",
            "gridwidth": 2,
            "linecolor": "white",
            "showbackground": true,
            "ticks": "",
            "zerolinecolor": "white"
           },
           "zaxis": {
            "backgroundcolor": "#E5ECF6",
            "gridcolor": "white",
            "gridwidth": 2,
            "linecolor": "white",
            "showbackground": true,
            "ticks": "",
            "zerolinecolor": "white"
           }
          },
          "shapedefaults": {
           "line": {
            "color": "#2a3f5f"
           }
          },
          "ternary": {
           "aaxis": {
            "gridcolor": "white",
            "linecolor": "white",
            "ticks": ""
           },
           "baxis": {
            "gridcolor": "white",
            "linecolor": "white",
            "ticks": ""
           },
           "bgcolor": "#E5ECF6",
           "caxis": {
            "gridcolor": "white",
            "linecolor": "white",
            "ticks": ""
           }
          },
          "title": {
           "x": 0.05
          },
          "xaxis": {
           "automargin": true,
           "gridcolor": "white",
           "linecolor": "white",
           "ticks": "",
           "title": {
            "standoff": 15
           },
           "zerolinecolor": "white",
           "zerolinewidth": 2
          },
          "yaxis": {
           "automargin": true,
           "gridcolor": "white",
           "linecolor": "white",
           "ticks": "",
           "title": {
            "standoff": 15
           },
           "zerolinecolor": "white",
           "zerolinewidth": 2
          }
         }
        },
        "title": {
         "text": "Arrest Count by Charge Group Description"
        },
        "xaxis": {
         "anchor": "y",
         "domain": [
          0,
          1
         ],
         "tickangle": 90,
         "title": {
          "text": "Charge Group Description"
         }
        },
        "yaxis": {
         "anchor": "x",
         "domain": [
          0,
          1
         ],
         "title": {
          "text": "Arrest Count"
         }
        }
       }
      }
     },
     "metadata": {},
     "output_type": "display_data"
    }
   ],
   "source": [
    "import pandas as pd\n",
    "import plotly.express as px\n",
    "\n",
    "# Assuming 'df_arrest' DataFrame contains 'Charge Group Description' and 'Arrest Date'\n",
    "\n",
    "# Group by 'Charge Group Description' and count the occurrences\n",
    "charge_group_counts = df_arrest.groupby('Charge Group Description').size().reset_index(name='Arrest Count')\n",
    "\n",
    "# Sort the values by arrest count in descending order to make the chart more readable\n",
    "charge_group_counts_sorted = charge_group_counts.sort_values(by='Arrest Count', ascending=False)\n",
    "\n",
    "# Create a bar chart using Plotly\n",
    "fig = px.bar(charge_group_counts_sorted, \n",
    "             x='Charge Group Description', \n",
    "             y='Arrest Count', \n",
    "             title='Arrest Count by Charge Group Description',\n",
    "             labels={'Charge Group Description': 'Charge Group Description', 'Arrest Count': 'Arrest Count'}\n",
    "             )\n",
    "\n",
    "# Rotate the x-axis labels for better readability\n",
    "fig.update_xaxes(tickangle=90)\n",
    "\n",
    "# Show the plot\n",
    "fig.show()\n"
   ]
  },
  {
   "cell_type": "markdown",
   "metadata": {},
   "source": [
    "## Fig. 16. Treemap showing proportion of arrest charges among people of different Descent"
   ]
  },
  {
   "cell_type": "code",
   "execution_count": 62,
   "metadata": {},
   "outputs": [
    {
     "name": "stderr",
     "output_type": "stream",
     "text": [
      "C:\\Users\\subha\\AppData\\Local\\Temp\\ipykernel_5808\\1934059138.py:36: DeprecationWarning:\n",
      "\n",
      "DataFrameGroupBy.apply operated on the grouping columns. This behavior is deprecated, and in a future version of pandas the grouping columns will be excluded from the operation. Either pass `include_groups=False` to exclude the groupings or explicitly select the grouping columns after groupby to silence this warning.\n",
      "\n"
     ]
    },
    {
     "data": {
      "application/vnd.plotly.v1+json": {
       "config": {
        "plotlyServerURL": "https://plot.ly"
       },
       "data": [
        {
         "branchvalues": "total",
         "customdata": [
          [
           24461
          ],
          [
           41791
          ],
          [
           11063
          ],
          [
           16453
          ],
          [
           137
          ],
          [
           10635
          ],
          [
           16711
          ],
          [
           65928
          ],
          [
           51
          ],
          [
           23377
          ],
          [
           31177
          ],
          [
           59431
          ],
          [
           387
          ],
          [
           21002
          ],
          [
           32
          ],
          [
           19880
          ],
          [
           28036
          ],
          [
           271
          ],
          [
           14799
          ],
          [
           26288
          ],
          [
           833
          ],
          [
           10370
          ],
          [
           14975
          ],
          [
           28734
          ],
          [
           5849
          ],
          [
           51217
          ],
          [
           62779
          ],
          [
           96
          ],
          [
           36791
          ],
          [
           19058
          ],
          [
           28043
          ],
          [
           9684
          ],
          [
           45
          ],
          [
           18940
          ],
          [
           357
          ],
          [
           4762
          ],
          [
           12071
          ],
          [
           90
          ],
          [
           13775
          ],
          [
           15451
          ],
          [
           27698.531179009795
          ],
          [
           46140.63874184348
          ],
          [
           472.5023923444976
          ],
          [
           20587.962206401855
          ]
         ],
         "domain": {
          "x": [
           0,
           1
          ],
          "y": [
           0,
           1
          ]
         },
         "hovertemplate": "labels=%{label}<br>Count_sum=%{value}<br>parent=%{parent}<br>id=%{id}<br>Count=%{color}<extra></extra>",
         "ids": [
          "Black/Aggravated Assault",
          "Hispanic/Latin/Mexican/Aggravated Assault",
          "White/Aggravated Assault",
          "Black/Disorderly Conduct",
          "Other Asian/Disorderly Conduct",
          "White/Disorderly Conduct",
          "Black/Driving Under Influence",
          "Hispanic/Latin/Mexican/Driving Under Influence",
          "Other Asian/Driving Under Influence",
          "White/Driving Under Influence",
          "Black/Drunkeness",
          "Hispanic/Latin/Mexican/Drunkeness",
          "Other Asian/Drunkeness",
          "White/Drunkeness",
          "Other Asian/Gambling",
          "Black/Larceny",
          "Hispanic/Latin/Mexican/Larceny",
          "Other Asian/Larceny",
          "White/Larceny",
          "Hispanic/Latin/Mexican/Liquor Laws",
          "Other Asian/Liquor Laws",
          "White/Liquor Laws",
          "Black/Moving Traffic Violations",
          "Hispanic/Latin/Mexican/Moving Traffic Violations",
          "White/Moving Traffic Violations",
          "Black/Narcotic Drug Laws",
          "Hispanic/Latin/Mexican/Narcotic Drug Laws",
          "Other Asian/Narcotic Drug Laws",
          "White/Narcotic Drug Laws",
          "Black/Other Assaults",
          "Hispanic/Latin/Mexican/Other Assaults",
          "White/Other Assaults",
          "Other Asian/Pre-Delinquency",
          "Black/Prostitution/Allied",
          "Other Asian/Prostitution/Allied",
          "White/Prostitution/Allied",
          "Black/Robbery",
          "Other Asian/Sex (except rape/prst)",
          "Hispanic/Latin/Mexican/Vehicle Theft",
          "Hispanic/Latin/Mexican/Weapon (carry/poss)",
          "Black",
          "Hispanic/Latin/Mexican",
          "Other Asian",
          "White"
         ],
         "labels": [
          "Aggravated Assault",
          "Aggravated Assault",
          "Aggravated Assault",
          "Disorderly Conduct",
          "Disorderly Conduct",
          "Disorderly Conduct",
          "Driving Under Influence",
          "Driving Under Influence",
          "Driving Under Influence",
          "Driving Under Influence",
          "Drunkeness",
          "Drunkeness",
          "Drunkeness",
          "Drunkeness",
          "Gambling",
          "Larceny",
          "Larceny",
          "Larceny",
          "Larceny",
          "Liquor Laws",
          "Liquor Laws",
          "Liquor Laws",
          "Moving Traffic Violations",
          "Moving Traffic Violations",
          "Moving Traffic Violations",
          "Narcotic Drug Laws",
          "Narcotic Drug Laws",
          "Narcotic Drug Laws",
          "Narcotic Drug Laws",
          "Other Assaults",
          "Other Assaults",
          "Other Assaults",
          "Pre-Delinquency",
          "Prostitution/Allied",
          "Prostitution/Allied",
          "Prostitution/Allied",
          "Robbery",
          "Sex (except rape/prst)",
          "Vehicle Theft",
          "Weapon (carry/poss)",
          "Black",
          "Hispanic/Latin/Mexican",
          "Other Asian",
          "White"
         ],
         "marker": {
          "coloraxis": "coloraxis",
          "colors": [
           24461,
           41791,
           11063,
           16453,
           137,
           10635,
           16711,
           65928,
           51,
           23377,
           31177,
           59431,
           387,
           21002,
           32,
           19880,
           28036,
           271,
           14799,
           26288,
           833,
           10370,
           14975,
           28734,
           5849,
           51217,
           62779,
           96,
           36791,
           19058,
           28043,
           9684,
           45,
           18940,
           357,
           4762,
           12071,
           90,
           13775,
           15451,
           27698.531179009795,
           46140.63874184348,
           472.5023923444976,
           20587.962206401855
          ]
         },
         "name": "",
         "parents": [
          "Black",
          "Hispanic/Latin/Mexican",
          "White",
          "Black",
          "Other Asian",
          "White",
          "Black",
          "Hispanic/Latin/Mexican",
          "Other Asian",
          "White",
          "Black",
          "Hispanic/Latin/Mexican",
          "Other Asian",
          "White",
          "Other Asian",
          "Black",
          "Hispanic/Latin/Mexican",
          "Other Asian",
          "White",
          "Hispanic/Latin/Mexican",
          "Other Asian",
          "White",
          "Black",
          "Hispanic/Latin/Mexican",
          "White",
          "Black",
          "Hispanic/Latin/Mexican",
          "Other Asian",
          "White",
          "Black",
          "Hispanic/Latin/Mexican",
          "White",
          "Other Asian",
          "Black",
          "Other Asian",
          "White",
          "Black",
          "Other Asian",
          "Hispanic/Latin/Mexican",
          "Hispanic/Latin/Mexican",
          "",
          "",
          "",
          ""
         ],
         "type": "treemap",
         "values": [
          24461,
          41791,
          11063,
          16453,
          137,
          10635,
          16711,
          65928,
          51,
          23377,
          31177,
          59431,
          387,
          21002,
          32,
          19880,
          28036,
          271,
          14799,
          26288,
          833,
          10370,
          14975,
          28734,
          5849,
          51217,
          62779,
          96,
          36791,
          19058,
          28043,
          9684,
          45,
          18940,
          357,
          4762,
          12071,
          90,
          13775,
          15451,
          224943,
          370256,
          2299,
          148332
         ]
        }
       ],
       "layout": {
        "coloraxis": {
         "colorbar": {
          "title": {
           "text": "Count"
          }
         },
         "colorscale": [
          [
           0,
           "rgb(247,251,255)"
          ],
          [
           0.125,
           "rgb(222,235,247)"
          ],
          [
           0.25,
           "rgb(198,219,239)"
          ],
          [
           0.375,
           "rgb(158,202,225)"
          ],
          [
           0.5,
           "rgb(107,174,214)"
          ],
          [
           0.625,
           "rgb(66,146,198)"
          ],
          [
           0.75,
           "rgb(33,113,181)"
          ],
          [
           0.875,
           "rgb(8,81,156)"
          ],
          [
           1,
           "rgb(8,48,107)"
          ]
         ]
        },
        "legend": {
         "tracegroupgap": 0
        },
        "margin": {
         "b": 10,
         "l": 10,
         "r": 10,
         "t": 50
        },
        "template": {
         "data": {
          "bar": [
           {
            "error_x": {
             "color": "#2a3f5f"
            },
            "error_y": {
             "color": "#2a3f5f"
            },
            "marker": {
             "line": {
              "color": "#E5ECF6",
              "width": 0.5
             },
             "pattern": {
              "fillmode": "overlay",
              "size": 10,
              "solidity": 0.2
             }
            },
            "type": "bar"
           }
          ],
          "barpolar": [
           {
            "marker": {
             "line": {
              "color": "#E5ECF6",
              "width": 0.5
             },
             "pattern": {
              "fillmode": "overlay",
              "size": 10,
              "solidity": 0.2
             }
            },
            "type": "barpolar"
           }
          ],
          "carpet": [
           {
            "aaxis": {
             "endlinecolor": "#2a3f5f",
             "gridcolor": "white",
             "linecolor": "white",
             "minorgridcolor": "white",
             "startlinecolor": "#2a3f5f"
            },
            "baxis": {
             "endlinecolor": "#2a3f5f",
             "gridcolor": "white",
             "linecolor": "white",
             "minorgridcolor": "white",
             "startlinecolor": "#2a3f5f"
            },
            "type": "carpet"
           }
          ],
          "choropleth": [
           {
            "colorbar": {
             "outlinewidth": 0,
             "ticks": ""
            },
            "type": "choropleth"
           }
          ],
          "contour": [
           {
            "colorbar": {
             "outlinewidth": 0,
             "ticks": ""
            },
            "colorscale": [
             [
              0,
              "#0d0887"
             ],
             [
              0.1111111111111111,
              "#46039f"
             ],
             [
              0.2222222222222222,
              "#7201a8"
             ],
             [
              0.3333333333333333,
              "#9c179e"
             ],
             [
              0.4444444444444444,
              "#bd3786"
             ],
             [
              0.5555555555555556,
              "#d8576b"
             ],
             [
              0.6666666666666666,
              "#ed7953"
             ],
             [
              0.7777777777777778,
              "#fb9f3a"
             ],
             [
              0.8888888888888888,
              "#fdca26"
             ],
             [
              1,
              "#f0f921"
             ]
            ],
            "type": "contour"
           }
          ],
          "contourcarpet": [
           {
            "colorbar": {
             "outlinewidth": 0,
             "ticks": ""
            },
            "type": "contourcarpet"
           }
          ],
          "heatmap": [
           {
            "colorbar": {
             "outlinewidth": 0,
             "ticks": ""
            },
            "colorscale": [
             [
              0,
              "#0d0887"
             ],
             [
              0.1111111111111111,
              "#46039f"
             ],
             [
              0.2222222222222222,
              "#7201a8"
             ],
             [
              0.3333333333333333,
              "#9c179e"
             ],
             [
              0.4444444444444444,
              "#bd3786"
             ],
             [
              0.5555555555555556,
              "#d8576b"
             ],
             [
              0.6666666666666666,
              "#ed7953"
             ],
             [
              0.7777777777777778,
              "#fb9f3a"
             ],
             [
              0.8888888888888888,
              "#fdca26"
             ],
             [
              1,
              "#f0f921"
             ]
            ],
            "type": "heatmap"
           }
          ],
          "heatmapgl": [
           {
            "colorbar": {
             "outlinewidth": 0,
             "ticks": ""
            },
            "colorscale": [
             [
              0,
              "#0d0887"
             ],
             [
              0.1111111111111111,
              "#46039f"
             ],
             [
              0.2222222222222222,
              "#7201a8"
             ],
             [
              0.3333333333333333,
              "#9c179e"
             ],
             [
              0.4444444444444444,
              "#bd3786"
             ],
             [
              0.5555555555555556,
              "#d8576b"
             ],
             [
              0.6666666666666666,
              "#ed7953"
             ],
             [
              0.7777777777777778,
              "#fb9f3a"
             ],
             [
              0.8888888888888888,
              "#fdca26"
             ],
             [
              1,
              "#f0f921"
             ]
            ],
            "type": "heatmapgl"
           }
          ],
          "histogram": [
           {
            "marker": {
             "pattern": {
              "fillmode": "overlay",
              "size": 10,
              "solidity": 0.2
             }
            },
            "type": "histogram"
           }
          ],
          "histogram2d": [
           {
            "colorbar": {
             "outlinewidth": 0,
             "ticks": ""
            },
            "colorscale": [
             [
              0,
              "#0d0887"
             ],
             [
              0.1111111111111111,
              "#46039f"
             ],
             [
              0.2222222222222222,
              "#7201a8"
             ],
             [
              0.3333333333333333,
              "#9c179e"
             ],
             [
              0.4444444444444444,
              "#bd3786"
             ],
             [
              0.5555555555555556,
              "#d8576b"
             ],
             [
              0.6666666666666666,
              "#ed7953"
             ],
             [
              0.7777777777777778,
              "#fb9f3a"
             ],
             [
              0.8888888888888888,
              "#fdca26"
             ],
             [
              1,
              "#f0f921"
             ]
            ],
            "type": "histogram2d"
           }
          ],
          "histogram2dcontour": [
           {
            "colorbar": {
             "outlinewidth": 0,
             "ticks": ""
            },
            "colorscale": [
             [
              0,
              "#0d0887"
             ],
             [
              0.1111111111111111,
              "#46039f"
             ],
             [
              0.2222222222222222,
              "#7201a8"
             ],
             [
              0.3333333333333333,
              "#9c179e"
             ],
             [
              0.4444444444444444,
              "#bd3786"
             ],
             [
              0.5555555555555556,
              "#d8576b"
             ],
             [
              0.6666666666666666,
              "#ed7953"
             ],
             [
              0.7777777777777778,
              "#fb9f3a"
             ],
             [
              0.8888888888888888,
              "#fdca26"
             ],
             [
              1,
              "#f0f921"
             ]
            ],
            "type": "histogram2dcontour"
           }
          ],
          "mesh3d": [
           {
            "colorbar": {
             "outlinewidth": 0,
             "ticks": ""
            },
            "type": "mesh3d"
           }
          ],
          "parcoords": [
           {
            "line": {
             "colorbar": {
              "outlinewidth": 0,
              "ticks": ""
             }
            },
            "type": "parcoords"
           }
          ],
          "pie": [
           {
            "automargin": true,
            "type": "pie"
           }
          ],
          "scatter": [
           {
            "fillpattern": {
             "fillmode": "overlay",
             "size": 10,
             "solidity": 0.2
            },
            "type": "scatter"
           }
          ],
          "scatter3d": [
           {
            "line": {
             "colorbar": {
              "outlinewidth": 0,
              "ticks": ""
             }
            },
            "marker": {
             "colorbar": {
              "outlinewidth": 0,
              "ticks": ""
             }
            },
            "type": "scatter3d"
           }
          ],
          "scattercarpet": [
           {
            "marker": {
             "colorbar": {
              "outlinewidth": 0,
              "ticks": ""
             }
            },
            "type": "scattercarpet"
           }
          ],
          "scattergeo": [
           {
            "marker": {
             "colorbar": {
              "outlinewidth": 0,
              "ticks": ""
             }
            },
            "type": "scattergeo"
           }
          ],
          "scattergl": [
           {
            "marker": {
             "colorbar": {
              "outlinewidth": 0,
              "ticks": ""
             }
            },
            "type": "scattergl"
           }
          ],
          "scattermapbox": [
           {
            "marker": {
             "colorbar": {
              "outlinewidth": 0,
              "ticks": ""
             }
            },
            "type": "scattermapbox"
           }
          ],
          "scatterpolar": [
           {
            "marker": {
             "colorbar": {
              "outlinewidth": 0,
              "ticks": ""
             }
            },
            "type": "scatterpolar"
           }
          ],
          "scatterpolargl": [
           {
            "marker": {
             "colorbar": {
              "outlinewidth": 0,
              "ticks": ""
             }
            },
            "type": "scatterpolargl"
           }
          ],
          "scatterternary": [
           {
            "marker": {
             "colorbar": {
              "outlinewidth": 0,
              "ticks": ""
             }
            },
            "type": "scatterternary"
           }
          ],
          "surface": [
           {
            "colorbar": {
             "outlinewidth": 0,
             "ticks": ""
            },
            "colorscale": [
             [
              0,
              "#0d0887"
             ],
             [
              0.1111111111111111,
              "#46039f"
             ],
             [
              0.2222222222222222,
              "#7201a8"
             ],
             [
              0.3333333333333333,
              "#9c179e"
             ],
             [
              0.4444444444444444,
              "#bd3786"
             ],
             [
              0.5555555555555556,
              "#d8576b"
             ],
             [
              0.6666666666666666,
              "#ed7953"
             ],
             [
              0.7777777777777778,
              "#fb9f3a"
             ],
             [
              0.8888888888888888,
              "#fdca26"
             ],
             [
              1,
              "#f0f921"
             ]
            ],
            "type": "surface"
           }
          ],
          "table": [
           {
            "cells": {
             "fill": {
              "color": "#EBF0F8"
             },
             "line": {
              "color": "white"
             }
            },
            "header": {
             "fill": {
              "color": "#C8D4E3"
             },
             "line": {
              "color": "white"
             }
            },
            "type": "table"
           }
          ]
         },
         "layout": {
          "annotationdefaults": {
           "arrowcolor": "#2a3f5f",
           "arrowhead": 0,
           "arrowwidth": 1
          },
          "autotypenumbers": "strict",
          "coloraxis": {
           "colorbar": {
            "outlinewidth": 0,
            "ticks": ""
           }
          },
          "colorscale": {
           "diverging": [
            [
             0,
             "#8e0152"
            ],
            [
             0.1,
             "#c51b7d"
            ],
            [
             0.2,
             "#de77ae"
            ],
            [
             0.3,
             "#f1b6da"
            ],
            [
             0.4,
             "#fde0ef"
            ],
            [
             0.5,
             "#f7f7f7"
            ],
            [
             0.6,
             "#e6f5d0"
            ],
            [
             0.7,
             "#b8e186"
            ],
            [
             0.8,
             "#7fbc41"
            ],
            [
             0.9,
             "#4d9221"
            ],
            [
             1,
             "#276419"
            ]
           ],
           "sequential": [
            [
             0,
             "#0d0887"
            ],
            [
             0.1111111111111111,
             "#46039f"
            ],
            [
             0.2222222222222222,
             "#7201a8"
            ],
            [
             0.3333333333333333,
             "#9c179e"
            ],
            [
             0.4444444444444444,
             "#bd3786"
            ],
            [
             0.5555555555555556,
             "#d8576b"
            ],
            [
             0.6666666666666666,
             "#ed7953"
            ],
            [
             0.7777777777777778,
             "#fb9f3a"
            ],
            [
             0.8888888888888888,
             "#fdca26"
            ],
            [
             1,
             "#f0f921"
            ]
           ],
           "sequentialminus": [
            [
             0,
             "#0d0887"
            ],
            [
             0.1111111111111111,
             "#46039f"
            ],
            [
             0.2222222222222222,
             "#7201a8"
            ],
            [
             0.3333333333333333,
             "#9c179e"
            ],
            [
             0.4444444444444444,
             "#bd3786"
            ],
            [
             0.5555555555555556,
             "#d8576b"
            ],
            [
             0.6666666666666666,
             "#ed7953"
            ],
            [
             0.7777777777777778,
             "#fb9f3a"
            ],
            [
             0.8888888888888888,
             "#fdca26"
            ],
            [
             1,
             "#f0f921"
            ]
           ]
          },
          "colorway": [
           "#636efa",
           "#EF553B",
           "#00cc96",
           "#ab63fa",
           "#FFA15A",
           "#19d3f3",
           "#FF6692",
           "#B6E880",
           "#FF97FF",
           "#FECB52"
          ],
          "font": {
           "color": "#2a3f5f"
          },
          "geo": {
           "bgcolor": "white",
           "lakecolor": "white",
           "landcolor": "#E5ECF6",
           "showlakes": true,
           "showland": true,
           "subunitcolor": "white"
          },
          "hoverlabel": {
           "align": "left"
          },
          "hovermode": "closest",
          "mapbox": {
           "style": "light"
          },
          "paper_bgcolor": "white",
          "plot_bgcolor": "#E5ECF6",
          "polar": {
           "angularaxis": {
            "gridcolor": "white",
            "linecolor": "white",
            "ticks": ""
           },
           "bgcolor": "#E5ECF6",
           "radialaxis": {
            "gridcolor": "white",
            "linecolor": "white",
            "ticks": ""
           }
          },
          "scene": {
           "xaxis": {
            "backgroundcolor": "#E5ECF6",
            "gridcolor": "white",
            "gridwidth": 2,
            "linecolor": "white",
            "showbackground": true,
            "ticks": "",
            "zerolinecolor": "white"
           },
           "yaxis": {
            "backgroundcolor": "#E5ECF6",
            "gridcolor": "white",
            "gridwidth": 2,
            "linecolor": "white",
            "showbackground": true,
            "ticks": "",
            "zerolinecolor": "white"
           },
           "zaxis": {
            "backgroundcolor": "#E5ECF6",
            "gridcolor": "white",
            "gridwidth": 2,
            "linecolor": "white",
            "showbackground": true,
            "ticks": "",
            "zerolinecolor": "white"
           }
          },
          "shapedefaults": {
           "line": {
            "color": "#2a3f5f"
           }
          },
          "ternary": {
           "aaxis": {
            "gridcolor": "white",
            "linecolor": "white",
            "ticks": ""
           },
           "baxis": {
            "gridcolor": "white",
            "linecolor": "white",
            "ticks": ""
           },
           "bgcolor": "#E5ECF6",
           "caxis": {
            "gridcolor": "white",
            "linecolor": "white",
            "ticks": ""
           }
          },
          "title": {
           "x": 0.05
          },
          "xaxis": {
           "automargin": true,
           "gridcolor": "white",
           "linecolor": "white",
           "ticks": "",
           "title": {
            "standoff": 15
           },
           "zerolinecolor": "white",
           "zerolinewidth": 2
          },
          "yaxis": {
           "automargin": true,
           "gridcolor": "white",
           "linecolor": "white",
           "ticks": "",
           "title": {
            "standoff": 15
           },
           "zerolinecolor": "white",
           "zerolinewidth": 2
          }
         }
        },
        "title": {
         "font": {
          "size": 18
         },
         "text": "Treemap: Arrest Data (Descent Description → Top 10 Charge Group Descriptions)"
        }
       }
      }
     },
     "metadata": {},
     "output_type": "display_data"
    }
   ],
   "source": [
    "import pandas as pd\n",
    "import plotly.express as px\n",
    "\n",
    "# Sample data preparation\n",
    "# Assuming df_arrest DataFrame contains 'Descent Code' and 'Charge Group Description'\n",
    "\n",
    "# Map Descent Codes to Descriptive Labels\n",
    "descent_code_mapping = {\n",
    "    'A': 'Other Asian', 'B': 'Black', 'C': 'Chinese', 'D': 'Cambodian',\n",
    "    'F': 'Filipino', 'G': 'Guamanian', 'H': 'Hispanic/Latin/Mexican',\n",
    "    'I': 'American Indian/Alaskan Native', 'J': 'Japanese', 'K': 'Korean',\n",
    "    'L': 'Laotian', 'O': 'Other', 'P': 'Pacific Islander', 'S': 'Samoan',\n",
    "    'U': 'Hawaiian', 'V': 'Vietnamese', 'W': 'White', 'X': 'Unknown',\n",
    "    'Z': 'Asian Indian'\n",
    "}\n",
    "\n",
    "# Add descriptive labels to the dataset\n",
    "df_arrest['Descent Description'] = df_arrest['Descent Code'].map(descent_code_mapping)\n",
    "\n",
    "# Aggregate data: count combinations of Descent Description and Charge Group Description\n",
    "treemap_data = df_arrest.groupby(['Descent Description', 'Charge Group Description']).size().reset_index(name='Count')\n",
    "\n",
    "# Filter for chosen descent descriptions\n",
    "chosen_descents = [\n",
    "    'Hispanic/Latin/Mexican', 'Black', 'White', 'Other Asian'  # Example; replace as needed\n",
    "]\n",
    "treemap_data = treemap_data[treemap_data['Descent Description'].isin(chosen_descents)]\n",
    "\n",
    "# Exclude \"Miscellaneous\" from Charge Group Descriptions\n",
    "treemap_data = treemap_data[treemap_data['Charge Group Description'] != \"Miscellaneous Other Violations\"]\n",
    "\n",
    "# Step to get the top 10 charge descriptions for each descent group\n",
    "top_charge_groups_by_descent = treemap_data.groupby(['Descent Description', 'Charge Group Description'])['Count'].sum().reset_index()\n",
    "\n",
    "# For each descent group, get the top 10 charge descriptions\n",
    "top_10_per_descent = top_charge_groups_by_descent.groupby('Descent Description').apply(\n",
    "    lambda x: x.nlargest(10, 'Count')\n",
    ").reset_index(drop=True)\n",
    "\n",
    "# Create a treemap\n",
    "fig = px.treemap(\n",
    "    top_10_per_descent,\n",
    "    path=['Descent Description', 'Charge Group Description'],  # Hierarchical levels: Descent → Charge Group Description\n",
    "    values='Count',  # Size of each rectangle\n",
    "    color='Count',  # Color based on count\n",
    "    color_continuous_scale='Blues',  # Color scale for visual distinction\n",
    "    title=\"Treemap: Arrest Data (Descent Description → Top 10 Charge Group Descriptions)\"\n",
    ")\n",
    "\n",
    "# Update layout for better visualization\n",
    "fig.update_layout(\n",
    "    margin=dict(l=10, r=10, t=50, b=10),  # Reduce margin for a compact plot\n",
    "    title_font_size=18\n",
    ")\n",
    "\n",
    "# Show the plot\n",
    "fig.show()\n"
   ]
  },
  {
   "cell_type": "markdown",
   "metadata": {},
   "source": [
    "## Fig. 14. Treemap showing proportion of arrest charges among different age groups"
   ]
  },
  {
   "cell_type": "code",
   "execution_count": 61,
   "metadata": {},
   "outputs": [
    {
     "name": "stderr",
     "output_type": "stream",
     "text": [
      "C:\\Users\\subha\\AppData\\Local\\Temp\\ipykernel_5808\\224828478.py:7: FutureWarning:\n",
      "\n",
      "The default of observed=False is deprecated and will be changed to True in a future version of pandas. Pass observed=False to retain current behavior or observed=True to adopt the future default and silence this warning.\n",
      "\n",
      "C:\\Users\\subha\\AppData\\Local\\Temp\\ipykernel_5808\\224828478.py:15: FutureWarning:\n",
      "\n",
      "The default of observed=False is deprecated and will be changed to True in a future version of pandas. Pass observed=False to retain current behavior or observed=True to adopt the future default and silence this warning.\n",
      "\n",
      "C:\\Users\\subha\\AppData\\Local\\Temp\\ipykernel_5808\\224828478.py:15: DeprecationWarning:\n",
      "\n",
      "DataFrameGroupBy.apply operated on the grouping columns. This behavior is deprecated, and in a future version of pandas the grouping columns will be excluded from the operation. Either pass `include_groups=False` to exclude the groupings or explicitly select the grouping columns after groupby to silence this warning.\n",
      "\n",
      "c:\\Users\\subha\\miniconda3\\envs\\dv\\lib\\site-packages\\plotly\\express\\_core.py:1727: FutureWarning:\n",
      "\n",
      "The default of observed=False is deprecated and will be changed to True in a future version of pandas. Pass observed=False to retain current behavior or observed=True to adopt the future default and silence this warning.\n",
      "\n",
      "c:\\Users\\subha\\miniconda3\\envs\\dv\\lib\\site-packages\\plotly\\express\\_core.py:1727: FutureWarning:\n",
      "\n",
      "The default of observed=False is deprecated and will be changed to True in a future version of pandas. Pass observed=False to retain current behavior or observed=True to adopt the future default and silence this warning.\n",
      "\n"
     ]
    },
    {
     "data": {
      "application/vnd.plotly.v1+json": {
       "config": {
        "plotlyServerURL": "https://plot.ly"
       },
       "data": [
        {
         "branchvalues": "total",
         "customdata": [
          [
           3385
          ],
          [
           34025
          ],
          [
           28490
          ],
          [
           13823
          ],
          [
           2617
          ],
          [
           3205
          ],
          [
           null
          ],
          [
           null
          ],
          [
           null
          ],
          [
           null
          ],
          [
           null
          ],
          [
           null
          ],
          [
           11499
          ],
          [
           12890
          ],
          [
           2890
          ],
          [
           null
          ],
          [
           50806
          ],
          [
           41911
          ],
          [
           20271
          ],
          [
           3883
          ],
          [
           null
          ],
          [
           26758
          ],
          [
           33480
          ],
          [
           44292
          ],
          [
           9794
          ],
          [
           7334
          ],
          [
           27792
          ],
          [
           18370
          ],
          [
           12651
          ],
          [
           2568
          ],
          [
           null
          ],
          [
           18751
          ],
          [
           12374
          ],
          [
           14836
          ],
          [
           3662
          ],
          [
           null
          ],
          [
           24048
          ],
          [
           18158
          ],
          [
           7676
          ],
          [
           1285
          ],
          [
           3237
          ],
          [
           60098
          ],
          [
           54011
          ],
          [
           35686
          ],
          [
           5212
          ],
          [
           6803
          ],
          [
           null
          ],
          [
           null
          ],
          [
           null
          ],
          [
           null
          ],
          [
           5654
          ],
          [
           23467
          ],
          [
           19149
          ],
          [
           9980
          ],
          [
           2031
          ],
          [
           11790
          ],
          [
           null
          ],
          [
           null
          ],
          [
           null
          ],
          [
           null
          ],
          [
           null
          ],
          [
           23253
          ],
          [
           9609
          ],
          [
           4161
          ],
          [
           null
          ],
          [
           4874
          ],
          [
           null
          ],
          [
           null
          ],
          [
           null
          ],
          [
           null
          ],
          [
           null
          ],
          [
           null
          ],
          [
           null
          ],
          [
           null
          ],
          [
           864
          ],
          [
           1837
          ],
          [
           null
          ],
          [
           null
          ],
          [
           null
          ],
          [
           null
          ],
          [
           3432
          ],
          [
           15529
          ],
          [
           null
          ],
          [
           null
          ],
          [
           null
          ],
          [
           6637.265407072608
          ],
          [
           36455.10558012918
          ],
          [
           32454.1910981943
          ],
          [
           25866.603451601557
          ],
          [
           5168.459690857898
          ]
         ],
         "domain": {
          "x": [
           0,
           1
          ],
          "y": [
           0,
           1
          ]
         },
         "hovertemplate": "labels=%{label}<br>Count_sum=%{value}<br>parent=%{parent}<br>id=%{id}<br>Count=%{color}<extra></extra>",
         "ids": [
          "0-18/Aggravated Assault",
          "19-30/Aggravated Assault",
          "31-45/Aggravated Assault",
          "46-60/Aggravated Assault",
          "61+/Aggravated Assault",
          "0-18/Burglary",
          "19-30/Burglary",
          "31-45/Burglary",
          "46-60/Burglary",
          "61+/Burglary",
          "0-18/Disorderly Conduct",
          "19-30/Disorderly Conduct",
          "31-45/Disorderly Conduct",
          "46-60/Disorderly Conduct",
          "61+/Disorderly Conduct",
          "0-18/Driving Under Influence",
          "19-30/Driving Under Influence",
          "31-45/Driving Under Influence",
          "46-60/Driving Under Influence",
          "61+/Driving Under Influence",
          "0-18/Drunkeness",
          "19-30/Drunkeness",
          "31-45/Drunkeness",
          "46-60/Drunkeness",
          "61+/Drunkeness",
          "0-18/Larceny",
          "19-30/Larceny",
          "31-45/Larceny",
          "46-60/Larceny",
          "61+/Larceny",
          "0-18/Liquor Laws",
          "19-30/Liquor Laws",
          "31-45/Liquor Laws",
          "46-60/Liquor Laws",
          "61+/Liquor Laws",
          "0-18/Moving Traffic Violations",
          "19-30/Moving Traffic Violations",
          "31-45/Moving Traffic Violations",
          "46-60/Moving Traffic Violations",
          "61+/Moving Traffic Violations",
          "0-18/Narcotic Drug Laws",
          "19-30/Narcotic Drug Laws",
          "31-45/Narcotic Drug Laws",
          "46-60/Narcotic Drug Laws",
          "61+/Narcotic Drug Laws",
          "0-18/Non-Criminal Detention",
          "19-30/Non-Criminal Detention",
          "31-45/Non-Criminal Detention",
          "46-60/Non-Criminal Detention",
          "61+/Non-Criminal Detention",
          "0-18/Other Assaults",
          "19-30/Other Assaults",
          "31-45/Other Assaults",
          "46-60/Other Assaults",
          "61+/Other Assaults",
          "0-18/Pre-Delinquency",
          "19-30/Pre-Delinquency",
          "31-45/Pre-Delinquency",
          "46-60/Pre-Delinquency",
          "61+/Pre-Delinquency",
          "0-18/Prostitution/Allied",
          "19-30/Prostitution/Allied",
          "31-45/Prostitution/Allied",
          "46-60/Prostitution/Allied",
          "61+/Prostitution/Allied",
          "0-18/Robbery",
          "19-30/Robbery",
          "31-45/Robbery",
          "46-60/Robbery",
          "61+/Robbery",
          "0-18/Sex (except rape/prst)",
          "19-30/Sex (except rape/prst)",
          "31-45/Sex (except rape/prst)",
          "46-60/Sex (except rape/prst)",
          "61+/Sex (except rape/prst)",
          "0-18/Vehicle Theft",
          "19-30/Vehicle Theft",
          "31-45/Vehicle Theft",
          "46-60/Vehicle Theft",
          "61+/Vehicle Theft",
          "0-18/Weapon (carry/poss)",
          "19-30/Weapon (carry/poss)",
          "31-45/Weapon (carry/poss)",
          "46-60/Weapon (carry/poss)",
          "61+/Weapon (carry/poss)",
          "0-18",
          "19-30",
          "31-45",
          "46-60",
          "61+"
         ],
         "labels": [
          "Aggravated Assault",
          "Aggravated Assault",
          "Aggravated Assault",
          "Aggravated Assault",
          "Aggravated Assault",
          "Burglary",
          "Burglary",
          "Burglary",
          "Burglary",
          "Burglary",
          "Disorderly Conduct",
          "Disorderly Conduct",
          "Disorderly Conduct",
          "Disorderly Conduct",
          "Disorderly Conduct",
          "Driving Under Influence",
          "Driving Under Influence",
          "Driving Under Influence",
          "Driving Under Influence",
          "Driving Under Influence",
          "Drunkeness",
          "Drunkeness",
          "Drunkeness",
          "Drunkeness",
          "Drunkeness",
          "Larceny",
          "Larceny",
          "Larceny",
          "Larceny",
          "Larceny",
          "Liquor Laws",
          "Liquor Laws",
          "Liquor Laws",
          "Liquor Laws",
          "Liquor Laws",
          "Moving Traffic Violations",
          "Moving Traffic Violations",
          "Moving Traffic Violations",
          "Moving Traffic Violations",
          "Moving Traffic Violations",
          "Narcotic Drug Laws",
          "Narcotic Drug Laws",
          "Narcotic Drug Laws",
          "Narcotic Drug Laws",
          "Narcotic Drug Laws",
          "Non-Criminal Detention",
          "Non-Criminal Detention",
          "Non-Criminal Detention",
          "Non-Criminal Detention",
          "Non-Criminal Detention",
          "Other Assaults",
          "Other Assaults",
          "Other Assaults",
          "Other Assaults",
          "Other Assaults",
          "Pre-Delinquency",
          "Pre-Delinquency",
          "Pre-Delinquency",
          "Pre-Delinquency",
          "Pre-Delinquency",
          "Prostitution/Allied",
          "Prostitution/Allied",
          "Prostitution/Allied",
          "Prostitution/Allied",
          "Prostitution/Allied",
          "Robbery",
          "Robbery",
          "Robbery",
          "Robbery",
          "Robbery",
          "Sex (except rape/prst)",
          "Sex (except rape/prst)",
          "Sex (except rape/prst)",
          "Sex (except rape/prst)",
          "Sex (except rape/prst)",
          "Vehicle Theft",
          "Vehicle Theft",
          "Vehicle Theft",
          "Vehicle Theft",
          "Vehicle Theft",
          "Weapon (carry/poss)",
          "Weapon (carry/poss)",
          "Weapon (carry/poss)",
          "Weapon (carry/poss)",
          "Weapon (carry/poss)",
          "0-18",
          "19-30",
          "31-45",
          "46-60",
          "61+"
         ],
         "marker": {
          "coloraxis": "coloraxis",
          "colors": [
           3385,
           34025,
           28490,
           13823,
           2617,
           3205,
           null,
           null,
           null,
           null,
           null,
           null,
           11499,
           12890,
           2890,
           null,
           50806,
           41911,
           20271,
           3883,
           null,
           26758,
           33480,
           44292,
           9794,
           7334,
           27792,
           18370,
           12651,
           2568,
           null,
           18751,
           12374,
           14836,
           3662,
           null,
           24048,
           18158,
           7676,
           1285,
           3237,
           60098,
           54011,
           35686,
           5212,
           6803,
           null,
           null,
           null,
           null,
           5654,
           23467,
           19149,
           9980,
           2031,
           11790,
           null,
           null,
           null,
           null,
           null,
           23253,
           9609,
           4161,
           null,
           4874,
           null,
           null,
           null,
           null,
           null,
           null,
           null,
           null,
           864,
           1837,
           null,
           null,
           null,
           null,
           3432,
           15529,
           null,
           null,
           null,
           6637.265407072608,
           36455.10558012918,
           32454.1910981943,
           25866.603451601557,
           5168.459690857898
          ]
         },
         "name": "",
         "parents": [
          "0-18",
          "19-30",
          "31-45",
          "46-60",
          "61+",
          "0-18",
          "19-30",
          "31-45",
          "46-60",
          "61+",
          "0-18",
          "19-30",
          "31-45",
          "46-60",
          "61+",
          "0-18",
          "19-30",
          "31-45",
          "46-60",
          "61+",
          "0-18",
          "19-30",
          "31-45",
          "46-60",
          "61+",
          "0-18",
          "19-30",
          "31-45",
          "46-60",
          "61+",
          "0-18",
          "19-30",
          "31-45",
          "46-60",
          "61+",
          "0-18",
          "19-30",
          "31-45",
          "46-60",
          "61+",
          "0-18",
          "19-30",
          "31-45",
          "46-60",
          "61+",
          "0-18",
          "19-30",
          "31-45",
          "46-60",
          "61+",
          "0-18",
          "19-30",
          "31-45",
          "46-60",
          "61+",
          "0-18",
          "19-30",
          "31-45",
          "46-60",
          "61+",
          "0-18",
          "19-30",
          "31-45",
          "46-60",
          "61+",
          "0-18",
          "19-30",
          "31-45",
          "46-60",
          "61+",
          "0-18",
          "19-30",
          "31-45",
          "46-60",
          "61+",
          "0-18",
          "19-30",
          "31-45",
          "46-60",
          "61+",
          "0-18",
          "19-30",
          "31-45",
          "46-60",
          "61+",
          "",
          "",
          "",
          "",
          ""
         ],
         "type": "treemap",
         "values": [
          3385,
          34025,
          28490,
          13823,
          2617,
          3205,
          0,
          0,
          0,
          0,
          0,
          0,
          11499,
          12890,
          2890,
          0,
          50806,
          41911,
          20271,
          3883,
          0,
          26758,
          33480,
          44292,
          9794,
          7334,
          27792,
          18370,
          12651,
          2568,
          0,
          18751,
          12374,
          14836,
          3662,
          0,
          24048,
          18158,
          7676,
          1285,
          3237,
          60098,
          54011,
          35686,
          5212,
          6803,
          0,
          0,
          0,
          0,
          5654,
          23467,
          19149,
          9980,
          2031,
          11790,
          0,
          0,
          0,
          0,
          0,
          23253,
          9609,
          4161,
          0,
          4874,
          0,
          0,
          0,
          0,
          0,
          0,
          0,
          0,
          864,
          1837,
          0,
          0,
          0,
          0,
          3432,
          15529,
          0,
          0,
          0,
          51551,
          304527,
          247051,
          176266,
          34806
         ]
        }
       ],
       "layout": {
        "coloraxis": {
         "colorbar": {
          "title": {
           "text": "Count"
          }
         },
         "colorscale": [
          [
           0,
           "rgb(247,251,255)"
          ],
          [
           0.125,
           "rgb(222,235,247)"
          ],
          [
           0.25,
           "rgb(198,219,239)"
          ],
          [
           0.375,
           "rgb(158,202,225)"
          ],
          [
           0.5,
           "rgb(107,174,214)"
          ],
          [
           0.625,
           "rgb(66,146,198)"
          ],
          [
           0.75,
           "rgb(33,113,181)"
          ],
          [
           0.875,
           "rgb(8,81,156)"
          ],
          [
           1,
           "rgb(8,48,107)"
          ]
         ]
        },
        "legend": {
         "tracegroupgap": 0
        },
        "margin": {
         "b": 10,
         "l": 10,
         "r": 10,
         "t": 50
        },
        "template": {
         "data": {
          "bar": [
           {
            "error_x": {
             "color": "#2a3f5f"
            },
            "error_y": {
             "color": "#2a3f5f"
            },
            "marker": {
             "line": {
              "color": "#E5ECF6",
              "width": 0.5
             },
             "pattern": {
              "fillmode": "overlay",
              "size": 10,
              "solidity": 0.2
             }
            },
            "type": "bar"
           }
          ],
          "barpolar": [
           {
            "marker": {
             "line": {
              "color": "#E5ECF6",
              "width": 0.5
             },
             "pattern": {
              "fillmode": "overlay",
              "size": 10,
              "solidity": 0.2
             }
            },
            "type": "barpolar"
           }
          ],
          "carpet": [
           {
            "aaxis": {
             "endlinecolor": "#2a3f5f",
             "gridcolor": "white",
             "linecolor": "white",
             "minorgridcolor": "white",
             "startlinecolor": "#2a3f5f"
            },
            "baxis": {
             "endlinecolor": "#2a3f5f",
             "gridcolor": "white",
             "linecolor": "white",
             "minorgridcolor": "white",
             "startlinecolor": "#2a3f5f"
            },
            "type": "carpet"
           }
          ],
          "choropleth": [
           {
            "colorbar": {
             "outlinewidth": 0,
             "ticks": ""
            },
            "type": "choropleth"
           }
          ],
          "contour": [
           {
            "colorbar": {
             "outlinewidth": 0,
             "ticks": ""
            },
            "colorscale": [
             [
              0,
              "#0d0887"
             ],
             [
              0.1111111111111111,
              "#46039f"
             ],
             [
              0.2222222222222222,
              "#7201a8"
             ],
             [
              0.3333333333333333,
              "#9c179e"
             ],
             [
              0.4444444444444444,
              "#bd3786"
             ],
             [
              0.5555555555555556,
              "#d8576b"
             ],
             [
              0.6666666666666666,
              "#ed7953"
             ],
             [
              0.7777777777777778,
              "#fb9f3a"
             ],
             [
              0.8888888888888888,
              "#fdca26"
             ],
             [
              1,
              "#f0f921"
             ]
            ],
            "type": "contour"
           }
          ],
          "contourcarpet": [
           {
            "colorbar": {
             "outlinewidth": 0,
             "ticks": ""
            },
            "type": "contourcarpet"
           }
          ],
          "heatmap": [
           {
            "colorbar": {
             "outlinewidth": 0,
             "ticks": ""
            },
            "colorscale": [
             [
              0,
              "#0d0887"
             ],
             [
              0.1111111111111111,
              "#46039f"
             ],
             [
              0.2222222222222222,
              "#7201a8"
             ],
             [
              0.3333333333333333,
              "#9c179e"
             ],
             [
              0.4444444444444444,
              "#bd3786"
             ],
             [
              0.5555555555555556,
              "#d8576b"
             ],
             [
              0.6666666666666666,
              "#ed7953"
             ],
             [
              0.7777777777777778,
              "#fb9f3a"
             ],
             [
              0.8888888888888888,
              "#fdca26"
             ],
             [
              1,
              "#f0f921"
             ]
            ],
            "type": "heatmap"
           }
          ],
          "heatmapgl": [
           {
            "colorbar": {
             "outlinewidth": 0,
             "ticks": ""
            },
            "colorscale": [
             [
              0,
              "#0d0887"
             ],
             [
              0.1111111111111111,
              "#46039f"
             ],
             [
              0.2222222222222222,
              "#7201a8"
             ],
             [
              0.3333333333333333,
              "#9c179e"
             ],
             [
              0.4444444444444444,
              "#bd3786"
             ],
             [
              0.5555555555555556,
              "#d8576b"
             ],
             [
              0.6666666666666666,
              "#ed7953"
             ],
             [
              0.7777777777777778,
              "#fb9f3a"
             ],
             [
              0.8888888888888888,
              "#fdca26"
             ],
             [
              1,
              "#f0f921"
             ]
            ],
            "type": "heatmapgl"
           }
          ],
          "histogram": [
           {
            "marker": {
             "pattern": {
              "fillmode": "overlay",
              "size": 10,
              "solidity": 0.2
             }
            },
            "type": "histogram"
           }
          ],
          "histogram2d": [
           {
            "colorbar": {
             "outlinewidth": 0,
             "ticks": ""
            },
            "colorscale": [
             [
              0,
              "#0d0887"
             ],
             [
              0.1111111111111111,
              "#46039f"
             ],
             [
              0.2222222222222222,
              "#7201a8"
             ],
             [
              0.3333333333333333,
              "#9c179e"
             ],
             [
              0.4444444444444444,
              "#bd3786"
             ],
             [
              0.5555555555555556,
              "#d8576b"
             ],
             [
              0.6666666666666666,
              "#ed7953"
             ],
             [
              0.7777777777777778,
              "#fb9f3a"
             ],
             [
              0.8888888888888888,
              "#fdca26"
             ],
             [
              1,
              "#f0f921"
             ]
            ],
            "type": "histogram2d"
           }
          ],
          "histogram2dcontour": [
           {
            "colorbar": {
             "outlinewidth": 0,
             "ticks": ""
            },
            "colorscale": [
             [
              0,
              "#0d0887"
             ],
             [
              0.1111111111111111,
              "#46039f"
             ],
             [
              0.2222222222222222,
              "#7201a8"
             ],
             [
              0.3333333333333333,
              "#9c179e"
             ],
             [
              0.4444444444444444,
              "#bd3786"
             ],
             [
              0.5555555555555556,
              "#d8576b"
             ],
             [
              0.6666666666666666,
              "#ed7953"
             ],
             [
              0.7777777777777778,
              "#fb9f3a"
             ],
             [
              0.8888888888888888,
              "#fdca26"
             ],
             [
              1,
              "#f0f921"
             ]
            ],
            "type": "histogram2dcontour"
           }
          ],
          "mesh3d": [
           {
            "colorbar": {
             "outlinewidth": 0,
             "ticks": ""
            },
            "type": "mesh3d"
           }
          ],
          "parcoords": [
           {
            "line": {
             "colorbar": {
              "outlinewidth": 0,
              "ticks": ""
             }
            },
            "type": "parcoords"
           }
          ],
          "pie": [
           {
            "automargin": true,
            "type": "pie"
           }
          ],
          "scatter": [
           {
            "fillpattern": {
             "fillmode": "overlay",
             "size": 10,
             "solidity": 0.2
            },
            "type": "scatter"
           }
          ],
          "scatter3d": [
           {
            "line": {
             "colorbar": {
              "outlinewidth": 0,
              "ticks": ""
             }
            },
            "marker": {
             "colorbar": {
              "outlinewidth": 0,
              "ticks": ""
             }
            },
            "type": "scatter3d"
           }
          ],
          "scattercarpet": [
           {
            "marker": {
             "colorbar": {
              "outlinewidth": 0,
              "ticks": ""
             }
            },
            "type": "scattercarpet"
           }
          ],
          "scattergeo": [
           {
            "marker": {
             "colorbar": {
              "outlinewidth": 0,
              "ticks": ""
             }
            },
            "type": "scattergeo"
           }
          ],
          "scattergl": [
           {
            "marker": {
             "colorbar": {
              "outlinewidth": 0,
              "ticks": ""
             }
            },
            "type": "scattergl"
           }
          ],
          "scattermapbox": [
           {
            "marker": {
             "colorbar": {
              "outlinewidth": 0,
              "ticks": ""
             }
            },
            "type": "scattermapbox"
           }
          ],
          "scatterpolar": [
           {
            "marker": {
             "colorbar": {
              "outlinewidth": 0,
              "ticks": ""
             }
            },
            "type": "scatterpolar"
           }
          ],
          "scatterpolargl": [
           {
            "marker": {
             "colorbar": {
              "outlinewidth": 0,
              "ticks": ""
             }
            },
            "type": "scatterpolargl"
           }
          ],
          "scatterternary": [
           {
            "marker": {
             "colorbar": {
              "outlinewidth": 0,
              "ticks": ""
             }
            },
            "type": "scatterternary"
           }
          ],
          "surface": [
           {
            "colorbar": {
             "outlinewidth": 0,
             "ticks": ""
            },
            "colorscale": [
             [
              0,
              "#0d0887"
             ],
             [
              0.1111111111111111,
              "#46039f"
             ],
             [
              0.2222222222222222,
              "#7201a8"
             ],
             [
              0.3333333333333333,
              "#9c179e"
             ],
             [
              0.4444444444444444,
              "#bd3786"
             ],
             [
              0.5555555555555556,
              "#d8576b"
             ],
             [
              0.6666666666666666,
              "#ed7953"
             ],
             [
              0.7777777777777778,
              "#fb9f3a"
             ],
             [
              0.8888888888888888,
              "#fdca26"
             ],
             [
              1,
              "#f0f921"
             ]
            ],
            "type": "surface"
           }
          ],
          "table": [
           {
            "cells": {
             "fill": {
              "color": "#EBF0F8"
             },
             "line": {
              "color": "white"
             }
            },
            "header": {
             "fill": {
              "color": "#C8D4E3"
             },
             "line": {
              "color": "white"
             }
            },
            "type": "table"
           }
          ]
         },
         "layout": {
          "annotationdefaults": {
           "arrowcolor": "#2a3f5f",
           "arrowhead": 0,
           "arrowwidth": 1
          },
          "autotypenumbers": "strict",
          "coloraxis": {
           "colorbar": {
            "outlinewidth": 0,
            "ticks": ""
           }
          },
          "colorscale": {
           "diverging": [
            [
             0,
             "#8e0152"
            ],
            [
             0.1,
             "#c51b7d"
            ],
            [
             0.2,
             "#de77ae"
            ],
            [
             0.3,
             "#f1b6da"
            ],
            [
             0.4,
             "#fde0ef"
            ],
            [
             0.5,
             "#f7f7f7"
            ],
            [
             0.6,
             "#e6f5d0"
            ],
            [
             0.7,
             "#b8e186"
            ],
            [
             0.8,
             "#7fbc41"
            ],
            [
             0.9,
             "#4d9221"
            ],
            [
             1,
             "#276419"
            ]
           ],
           "sequential": [
            [
             0,
             "#0d0887"
            ],
            [
             0.1111111111111111,
             "#46039f"
            ],
            [
             0.2222222222222222,
             "#7201a8"
            ],
            [
             0.3333333333333333,
             "#9c179e"
            ],
            [
             0.4444444444444444,
             "#bd3786"
            ],
            [
             0.5555555555555556,
             "#d8576b"
            ],
            [
             0.6666666666666666,
             "#ed7953"
            ],
            [
             0.7777777777777778,
             "#fb9f3a"
            ],
            [
             0.8888888888888888,
             "#fdca26"
            ],
            [
             1,
             "#f0f921"
            ]
           ],
           "sequentialminus": [
            [
             0,
             "#0d0887"
            ],
            [
             0.1111111111111111,
             "#46039f"
            ],
            [
             0.2222222222222222,
             "#7201a8"
            ],
            [
             0.3333333333333333,
             "#9c179e"
            ],
            [
             0.4444444444444444,
             "#bd3786"
            ],
            [
             0.5555555555555556,
             "#d8576b"
            ],
            [
             0.6666666666666666,
             "#ed7953"
            ],
            [
             0.7777777777777778,
             "#fb9f3a"
            ],
            [
             0.8888888888888888,
             "#fdca26"
            ],
            [
             1,
             "#f0f921"
            ]
           ]
          },
          "colorway": [
           "#636efa",
           "#EF553B",
           "#00cc96",
           "#ab63fa",
           "#FFA15A",
           "#19d3f3",
           "#FF6692",
           "#B6E880",
           "#FF97FF",
           "#FECB52"
          ],
          "font": {
           "color": "#2a3f5f"
          },
          "geo": {
           "bgcolor": "white",
           "lakecolor": "white",
           "landcolor": "#E5ECF6",
           "showlakes": true,
           "showland": true,
           "subunitcolor": "white"
          },
          "hoverlabel": {
           "align": "left"
          },
          "hovermode": "closest",
          "mapbox": {
           "style": "light"
          },
          "paper_bgcolor": "white",
          "plot_bgcolor": "#E5ECF6",
          "polar": {
           "angularaxis": {
            "gridcolor": "white",
            "linecolor": "white",
            "ticks": ""
           },
           "bgcolor": "#E5ECF6",
           "radialaxis": {
            "gridcolor": "white",
            "linecolor": "white",
            "ticks": ""
           }
          },
          "scene": {
           "xaxis": {
            "backgroundcolor": "#E5ECF6",
            "gridcolor": "white",
            "gridwidth": 2,
            "linecolor": "white",
            "showbackground": true,
            "ticks": "",
            "zerolinecolor": "white"
           },
           "yaxis": {
            "backgroundcolor": "#E5ECF6",
            "gridcolor": "white",
            "gridwidth": 2,
            "linecolor": "white",
            "showbackground": true,
            "ticks": "",
            "zerolinecolor": "white"
           },
           "zaxis": {
            "backgroundcolor": "#E5ECF6",
            "gridcolor": "white",
            "gridwidth": 2,
            "linecolor": "white",
            "showbackground": true,
            "ticks": "",
            "zerolinecolor": "white"
           }
          },
          "shapedefaults": {
           "line": {
            "color": "#2a3f5f"
           }
          },
          "ternary": {
           "aaxis": {
            "gridcolor": "white",
            "linecolor": "white",
            "ticks": ""
           },
           "baxis": {
            "gridcolor": "white",
            "linecolor": "white",
            "ticks": ""
           },
           "bgcolor": "#E5ECF6",
           "caxis": {
            "gridcolor": "white",
            "linecolor": "white",
            "ticks": ""
           }
          },
          "title": {
           "x": 0.05
          },
          "xaxis": {
           "automargin": true,
           "gridcolor": "white",
           "linecolor": "white",
           "ticks": "",
           "title": {
            "standoff": 15
           },
           "zerolinecolor": "white",
           "zerolinewidth": 2
          },
          "yaxis": {
           "automargin": true,
           "gridcolor": "white",
           "linecolor": "white",
           "ticks": "",
           "title": {
            "standoff": 15
           },
           "zerolinecolor": "white",
           "zerolinewidth": 2
          }
         }
        },
        "title": {
         "font": {
          "size": 18
         },
         "text": "Treemap: Arrest Data (Age Group → Top 10 Charge Group Descriptions by Age Group)"
        }
       }
      }
     },
     "metadata": {},
     "output_type": "display_data"
    }
   ],
   "source": [
    "import pandas as pd\n",
    "import plotly.express as px\n",
    "\n",
    "# Assuming df_arrest contains the 'Age Group' and 'Charge Group Description' columns\n",
    "\n",
    "# Step 1: Aggregate data\n",
    "treemap_data = df_arrest.groupby(['Age Group', 'Charge Group Description']).size().reset_index(name='Count')\n",
    "\n",
    "# Step 2: Filter out rows where 'Count' is 0 or where 'Charge Group Description' is 'Miscellaneous Other Violations'\n",
    "treemap_data = treemap_data[treemap_data['Charge Group Description'] != 'Miscellaneous Other Violations']\n",
    "treemap_data = treemap_data[treemap_data['Count'] > 0]  # Ensure that there are no zero counts\n",
    "\n",
    "# Step 3: Get the top 10 charge descriptions for each age group\n",
    "treemap_data_top = (\n",
    "    treemap_data.groupby('Age Group', group_keys=False)\n",
    "    .apply(lambda group: group.nlargest(10, 'Count'))\n",
    ")\n",
    "\n",
    "# Step 4: Ensure there is data after filtering\n",
    "if treemap_data_top.empty:\n",
    "    print(\"No data available for the selected charge groups. Please adjust the filters.\")\n",
    "else:\n",
    "    # Step 5: Create a Treemap\n",
    "    fig = px.treemap(\n",
    "        treemap_data_top,\n",
    "        path=['Age Group', 'Charge Group Description'],  # Hierarchical levels\n",
    "        values='Count',  # Size of each rectangle\n",
    "        color='Count',  # Color based on count\n",
    "        color_continuous_scale='Blues',  # Color scale for visual distinction\n",
    "        title=\"Treemap: Arrest Data (Age Group → Top 10 Charge Group Descriptions by Age Group)\"\n",
    "    )\n",
    "\n",
    "    # Step 6: Update layout for better visualization\n",
    "    fig.update_layout(\n",
    "        margin=dict(l=10, r=10, t=50, b=10),  # Adjust margins for a compact plot\n",
    "        title_font_size=18  # Set title font size\n",
    "    )\n",
    "\n",
    "    # Show the treemap\n",
    "    fig.show()\n"
   ]
  },
  {
   "cell_type": "markdown",
   "metadata": {},
   "source": [
    "## Fig. 15. Treemap showing proportion of arrest charges among male and female categories."
   ]
  },
  {
   "cell_type": "code",
   "execution_count": 58,
   "metadata": {},
   "outputs": [
    {
     "name": "stderr",
     "output_type": "stream",
     "text": [
      "C:\\Users\\subha\\AppData\\Local\\Temp\\ipykernel_5808\\2826943458.py:23: DeprecationWarning:\n",
      "\n",
      "DataFrameGroupBy.apply operated on the grouping columns. This behavior is deprecated, and in a future version of pandas the grouping columns will be excluded from the operation. Either pass `include_groups=False` to exclude the groupings or explicitly select the grouping columns after groupby to silence this warning.\n",
      "\n"
     ]
    },
    {
     "data": {
      "application/vnd.plotly.v1+json": {
       "config": {
        "plotlyServerURL": "https://plot.ly"
       },
       "data": [
        {
         "branchvalues": "total",
         "customdata": [
          [
           18798
          ],
          [
           63542
          ],
          [
           9453
          ],
          [
           27213
          ],
          [
           24509
          ],
          [
           92528
          ],
          [
           12567
          ],
          [
           101895
          ],
          [
           26715
          ],
          [
           42000
          ],
          [
           9699
          ],
          [
           41103
          ],
          [
           7637
          ],
          [
           44441
          ],
          [
           29993
          ],
          [
           128251
          ],
          [
           13029
          ],
          [
           47252
          ],
          [
           24740
          ],
          [
           27945
          ],
          [
           21163.106401716155
          ],
          [
           78894.79780255449
          ]
         ],
         "domain": {
          "x": [
           0,
           1
          ],
          "y": [
           0,
           1
          ]
         },
         "hovertemplate": "labels=%{label}<br>Count_sum=%{value}<br>parent=%{parent}<br>id=%{id}<br>Count=%{color}<extra></extra>",
         "ids": [
          "Female/Aggravated Assault",
          "Male/Aggravated Assault",
          "Female/Disorderly Conduct",
          "Male/Disorderly Conduct",
          "Female/Driving Under Influence",
          "Male/Driving Under Influence",
          "Female/Drunkeness",
          "Male/Drunkeness",
          "Female/Larceny",
          "Male/Larceny",
          "Female/Liquor Laws",
          "Male/Liquor Laws",
          "Female/Moving Traffic Violations",
          "Male/Moving Traffic Violations",
          "Female/Narcotic Drug Laws",
          "Male/Narcotic Drug Laws",
          "Female/Other Assaults",
          "Male/Other Assaults",
          "Female/Prostitution/Allied",
          "Male/Weapon (carry/poss)",
          "Female",
          "Male"
         ],
         "labels": [
          "Aggravated Assault",
          "Aggravated Assault",
          "Disorderly Conduct",
          "Disorderly Conduct",
          "Driving Under Influence",
          "Driving Under Influence",
          "Drunkeness",
          "Drunkeness",
          "Larceny",
          "Larceny",
          "Liquor Laws",
          "Liquor Laws",
          "Moving Traffic Violations",
          "Moving Traffic Violations",
          "Narcotic Drug Laws",
          "Narcotic Drug Laws",
          "Other Assaults",
          "Other Assaults",
          "Prostitution/Allied",
          "Weapon (carry/poss)",
          "Female",
          "Male"
         ],
         "marker": {
          "coloraxis": "coloraxis",
          "colors": [
           18798,
           63542,
           9453,
           27213,
           24509,
           92528,
           12567,
           101895,
           26715,
           42000,
           9699,
           41103,
           7637,
           44441,
           29993,
           128251,
           13029,
           47252,
           24740,
           27945,
           21163.106401716155,
           78894.79780255449
          ]
         },
         "name": "",
         "parents": [
          "Female",
          "Male",
          "Female",
          "Male",
          "Female",
          "Male",
          "Female",
          "Male",
          "Female",
          "Male",
          "Female",
          "Male",
          "Female",
          "Male",
          "Female",
          "Male",
          "Female",
          "Male",
          "Female",
          "Male",
          "",
          ""
         ],
         "type": "treemap",
         "values": [
          18798,
          63542,
          9453,
          27213,
          24509,
          92528,
          12567,
          101895,
          26715,
          42000,
          9699,
          41103,
          7637,
          44441,
          29993,
          128251,
          13029,
          47252,
          24740,
          27945,
          177140,
          616170
         ]
        }
       ],
       "layout": {
        "coloraxis": {
         "colorbar": {
          "title": {
           "text": "Count"
          }
         },
         "colorscale": [
          [
           0,
           "rgb(247,251,255)"
          ],
          [
           0.125,
           "rgb(222,235,247)"
          ],
          [
           0.25,
           "rgb(198,219,239)"
          ],
          [
           0.375,
           "rgb(158,202,225)"
          ],
          [
           0.5,
           "rgb(107,174,214)"
          ],
          [
           0.625,
           "rgb(66,146,198)"
          ],
          [
           0.75,
           "rgb(33,113,181)"
          ],
          [
           0.875,
           "rgb(8,81,156)"
          ],
          [
           1,
           "rgb(8,48,107)"
          ]
         ]
        },
        "legend": {
         "tracegroupgap": 0
        },
        "margin": {
         "b": 10,
         "l": 10,
         "r": 10,
         "t": 50
        },
        "template": {
         "data": {
          "bar": [
           {
            "error_x": {
             "color": "#2a3f5f"
            },
            "error_y": {
             "color": "#2a3f5f"
            },
            "marker": {
             "line": {
              "color": "#E5ECF6",
              "width": 0.5
             },
             "pattern": {
              "fillmode": "overlay",
              "size": 10,
              "solidity": 0.2
             }
            },
            "type": "bar"
           }
          ],
          "barpolar": [
           {
            "marker": {
             "line": {
              "color": "#E5ECF6",
              "width": 0.5
             },
             "pattern": {
              "fillmode": "overlay",
              "size": 10,
              "solidity": 0.2
             }
            },
            "type": "barpolar"
           }
          ],
          "carpet": [
           {
            "aaxis": {
             "endlinecolor": "#2a3f5f",
             "gridcolor": "white",
             "linecolor": "white",
             "minorgridcolor": "white",
             "startlinecolor": "#2a3f5f"
            },
            "baxis": {
             "endlinecolor": "#2a3f5f",
             "gridcolor": "white",
             "linecolor": "white",
             "minorgridcolor": "white",
             "startlinecolor": "#2a3f5f"
            },
            "type": "carpet"
           }
          ],
          "choropleth": [
           {
            "colorbar": {
             "outlinewidth": 0,
             "ticks": ""
            },
            "type": "choropleth"
           }
          ],
          "contour": [
           {
            "colorbar": {
             "outlinewidth": 0,
             "ticks": ""
            },
            "colorscale": [
             [
              0,
              "#0d0887"
             ],
             [
              0.1111111111111111,
              "#46039f"
             ],
             [
              0.2222222222222222,
              "#7201a8"
             ],
             [
              0.3333333333333333,
              "#9c179e"
             ],
             [
              0.4444444444444444,
              "#bd3786"
             ],
             [
              0.5555555555555556,
              "#d8576b"
             ],
             [
              0.6666666666666666,
              "#ed7953"
             ],
             [
              0.7777777777777778,
              "#fb9f3a"
             ],
             [
              0.8888888888888888,
              "#fdca26"
             ],
             [
              1,
              "#f0f921"
             ]
            ],
            "type": "contour"
           }
          ],
          "contourcarpet": [
           {
            "colorbar": {
             "outlinewidth": 0,
             "ticks": ""
            },
            "type": "contourcarpet"
           }
          ],
          "heatmap": [
           {
            "colorbar": {
             "outlinewidth": 0,
             "ticks": ""
            },
            "colorscale": [
             [
              0,
              "#0d0887"
             ],
             [
              0.1111111111111111,
              "#46039f"
             ],
             [
              0.2222222222222222,
              "#7201a8"
             ],
             [
              0.3333333333333333,
              "#9c179e"
             ],
             [
              0.4444444444444444,
              "#bd3786"
             ],
             [
              0.5555555555555556,
              "#d8576b"
             ],
             [
              0.6666666666666666,
              "#ed7953"
             ],
             [
              0.7777777777777778,
              "#fb9f3a"
             ],
             [
              0.8888888888888888,
              "#fdca26"
             ],
             [
              1,
              "#f0f921"
             ]
            ],
            "type": "heatmap"
           }
          ],
          "heatmapgl": [
           {
            "colorbar": {
             "outlinewidth": 0,
             "ticks": ""
            },
            "colorscale": [
             [
              0,
              "#0d0887"
             ],
             [
              0.1111111111111111,
              "#46039f"
             ],
             [
              0.2222222222222222,
              "#7201a8"
             ],
             [
              0.3333333333333333,
              "#9c179e"
             ],
             [
              0.4444444444444444,
              "#bd3786"
             ],
             [
              0.5555555555555556,
              "#d8576b"
             ],
             [
              0.6666666666666666,
              "#ed7953"
             ],
             [
              0.7777777777777778,
              "#fb9f3a"
             ],
             [
              0.8888888888888888,
              "#fdca26"
             ],
             [
              1,
              "#f0f921"
             ]
            ],
            "type": "heatmapgl"
           }
          ],
          "histogram": [
           {
            "marker": {
             "pattern": {
              "fillmode": "overlay",
              "size": 10,
              "solidity": 0.2
             }
            },
            "type": "histogram"
           }
          ],
          "histogram2d": [
           {
            "colorbar": {
             "outlinewidth": 0,
             "ticks": ""
            },
            "colorscale": [
             [
              0,
              "#0d0887"
             ],
             [
              0.1111111111111111,
              "#46039f"
             ],
             [
              0.2222222222222222,
              "#7201a8"
             ],
             [
              0.3333333333333333,
              "#9c179e"
             ],
             [
              0.4444444444444444,
              "#bd3786"
             ],
             [
              0.5555555555555556,
              "#d8576b"
             ],
             [
              0.6666666666666666,
              "#ed7953"
             ],
             [
              0.7777777777777778,
              "#fb9f3a"
             ],
             [
              0.8888888888888888,
              "#fdca26"
             ],
             [
              1,
              "#f0f921"
             ]
            ],
            "type": "histogram2d"
           }
          ],
          "histogram2dcontour": [
           {
            "colorbar": {
             "outlinewidth": 0,
             "ticks": ""
            },
            "colorscale": [
             [
              0,
              "#0d0887"
             ],
             [
              0.1111111111111111,
              "#46039f"
             ],
             [
              0.2222222222222222,
              "#7201a8"
             ],
             [
              0.3333333333333333,
              "#9c179e"
             ],
             [
              0.4444444444444444,
              "#bd3786"
             ],
             [
              0.5555555555555556,
              "#d8576b"
             ],
             [
              0.6666666666666666,
              "#ed7953"
             ],
             [
              0.7777777777777778,
              "#fb9f3a"
             ],
             [
              0.8888888888888888,
              "#fdca26"
             ],
             [
              1,
              "#f0f921"
             ]
            ],
            "type": "histogram2dcontour"
           }
          ],
          "mesh3d": [
           {
            "colorbar": {
             "outlinewidth": 0,
             "ticks": ""
            },
            "type": "mesh3d"
           }
          ],
          "parcoords": [
           {
            "line": {
             "colorbar": {
              "outlinewidth": 0,
              "ticks": ""
             }
            },
            "type": "parcoords"
           }
          ],
          "pie": [
           {
            "automargin": true,
            "type": "pie"
           }
          ],
          "scatter": [
           {
            "fillpattern": {
             "fillmode": "overlay",
             "size": 10,
             "solidity": 0.2
            },
            "type": "scatter"
           }
          ],
          "scatter3d": [
           {
            "line": {
             "colorbar": {
              "outlinewidth": 0,
              "ticks": ""
             }
            },
            "marker": {
             "colorbar": {
              "outlinewidth": 0,
              "ticks": ""
             }
            },
            "type": "scatter3d"
           }
          ],
          "scattercarpet": [
           {
            "marker": {
             "colorbar": {
              "outlinewidth": 0,
              "ticks": ""
             }
            },
            "type": "scattercarpet"
           }
          ],
          "scattergeo": [
           {
            "marker": {
             "colorbar": {
              "outlinewidth": 0,
              "ticks": ""
             }
            },
            "type": "scattergeo"
           }
          ],
          "scattergl": [
           {
            "marker": {
             "colorbar": {
              "outlinewidth": 0,
              "ticks": ""
             }
            },
            "type": "scattergl"
           }
          ],
          "scattermapbox": [
           {
            "marker": {
             "colorbar": {
              "outlinewidth": 0,
              "ticks": ""
             }
            },
            "type": "scattermapbox"
           }
          ],
          "scatterpolar": [
           {
            "marker": {
             "colorbar": {
              "outlinewidth": 0,
              "ticks": ""
             }
            },
            "type": "scatterpolar"
           }
          ],
          "scatterpolargl": [
           {
            "marker": {
             "colorbar": {
              "outlinewidth": 0,
              "ticks": ""
             }
            },
            "type": "scatterpolargl"
           }
          ],
          "scatterternary": [
           {
            "marker": {
             "colorbar": {
              "outlinewidth": 0,
              "ticks": ""
             }
            },
            "type": "scatterternary"
           }
          ],
          "surface": [
           {
            "colorbar": {
             "outlinewidth": 0,
             "ticks": ""
            },
            "colorscale": [
             [
              0,
              "#0d0887"
             ],
             [
              0.1111111111111111,
              "#46039f"
             ],
             [
              0.2222222222222222,
              "#7201a8"
             ],
             [
              0.3333333333333333,
              "#9c179e"
             ],
             [
              0.4444444444444444,
              "#bd3786"
             ],
             [
              0.5555555555555556,
              "#d8576b"
             ],
             [
              0.6666666666666666,
              "#ed7953"
             ],
             [
              0.7777777777777778,
              "#fb9f3a"
             ],
             [
              0.8888888888888888,
              "#fdca26"
             ],
             [
              1,
              "#f0f921"
             ]
            ],
            "type": "surface"
           }
          ],
          "table": [
           {
            "cells": {
             "fill": {
              "color": "#EBF0F8"
             },
             "line": {
              "color": "white"
             }
            },
            "header": {
             "fill": {
              "color": "#C8D4E3"
             },
             "line": {
              "color": "white"
             }
            },
            "type": "table"
           }
          ]
         },
         "layout": {
          "annotationdefaults": {
           "arrowcolor": "#2a3f5f",
           "arrowhead": 0,
           "arrowwidth": 1
          },
          "autotypenumbers": "strict",
          "coloraxis": {
           "colorbar": {
            "outlinewidth": 0,
            "ticks": ""
           }
          },
          "colorscale": {
           "diverging": [
            [
             0,
             "#8e0152"
            ],
            [
             0.1,
             "#c51b7d"
            ],
            [
             0.2,
             "#de77ae"
            ],
            [
             0.3,
             "#f1b6da"
            ],
            [
             0.4,
             "#fde0ef"
            ],
            [
             0.5,
             "#f7f7f7"
            ],
            [
             0.6,
             "#e6f5d0"
            ],
            [
             0.7,
             "#b8e186"
            ],
            [
             0.8,
             "#7fbc41"
            ],
            [
             0.9,
             "#4d9221"
            ],
            [
             1,
             "#276419"
            ]
           ],
           "sequential": [
            [
             0,
             "#0d0887"
            ],
            [
             0.1111111111111111,
             "#46039f"
            ],
            [
             0.2222222222222222,
             "#7201a8"
            ],
            [
             0.3333333333333333,
             "#9c179e"
            ],
            [
             0.4444444444444444,
             "#bd3786"
            ],
            [
             0.5555555555555556,
             "#d8576b"
            ],
            [
             0.6666666666666666,
             "#ed7953"
            ],
            [
             0.7777777777777778,
             "#fb9f3a"
            ],
            [
             0.8888888888888888,
             "#fdca26"
            ],
            [
             1,
             "#f0f921"
            ]
           ],
           "sequentialminus": [
            [
             0,
             "#0d0887"
            ],
            [
             0.1111111111111111,
             "#46039f"
            ],
            [
             0.2222222222222222,
             "#7201a8"
            ],
            [
             0.3333333333333333,
             "#9c179e"
            ],
            [
             0.4444444444444444,
             "#bd3786"
            ],
            [
             0.5555555555555556,
             "#d8576b"
            ],
            [
             0.6666666666666666,
             "#ed7953"
            ],
            [
             0.7777777777777778,
             "#fb9f3a"
            ],
            [
             0.8888888888888888,
             "#fdca26"
            ],
            [
             1,
             "#f0f921"
            ]
           ]
          },
          "colorway": [
           "#636efa",
           "#EF553B",
           "#00cc96",
           "#ab63fa",
           "#FFA15A",
           "#19d3f3",
           "#FF6692",
           "#B6E880",
           "#FF97FF",
           "#FECB52"
          ],
          "font": {
           "color": "#2a3f5f"
          },
          "geo": {
           "bgcolor": "white",
           "lakecolor": "white",
           "landcolor": "#E5ECF6",
           "showlakes": true,
           "showland": true,
           "subunitcolor": "white"
          },
          "hoverlabel": {
           "align": "left"
          },
          "hovermode": "closest",
          "mapbox": {
           "style": "light"
          },
          "paper_bgcolor": "white",
          "plot_bgcolor": "#E5ECF6",
          "polar": {
           "angularaxis": {
            "gridcolor": "white",
            "linecolor": "white",
            "ticks": ""
           },
           "bgcolor": "#E5ECF6",
           "radialaxis": {
            "gridcolor": "white",
            "linecolor": "white",
            "ticks": ""
           }
          },
          "scene": {
           "xaxis": {
            "backgroundcolor": "#E5ECF6",
            "gridcolor": "white",
            "gridwidth": 2,
            "linecolor": "white",
            "showbackground": true,
            "ticks": "",
            "zerolinecolor": "white"
           },
           "yaxis": {
            "backgroundcolor": "#E5ECF6",
            "gridcolor": "white",
            "gridwidth": 2,
            "linecolor": "white",
            "showbackground": true,
            "ticks": "",
            "zerolinecolor": "white"
           },
           "zaxis": {
            "backgroundcolor": "#E5ECF6",
            "gridcolor": "white",
            "gridwidth": 2,
            "linecolor": "white",
            "showbackground": true,
            "ticks": "",
            "zerolinecolor": "white"
           }
          },
          "shapedefaults": {
           "line": {
            "color": "#2a3f5f"
           }
          },
          "ternary": {
           "aaxis": {
            "gridcolor": "white",
            "linecolor": "white",
            "ticks": ""
           },
           "baxis": {
            "gridcolor": "white",
            "linecolor": "white",
            "ticks": ""
           },
           "bgcolor": "#E5ECF6",
           "caxis": {
            "gridcolor": "white",
            "linecolor": "white",
            "ticks": ""
           }
          },
          "title": {
           "x": 0.05
          },
          "xaxis": {
           "automargin": true,
           "gridcolor": "white",
           "linecolor": "white",
           "ticks": "",
           "title": {
            "standoff": 15
           },
           "zerolinecolor": "white",
           "zerolinewidth": 2
          },
          "yaxis": {
           "automargin": true,
           "gridcolor": "white",
           "linecolor": "white",
           "ticks": "",
           "title": {
            "standoff": 15
           },
           "zerolinecolor": "white",
           "zerolinewidth": 2
          }
         }
        },
        "title": {
         "font": {
          "size": 18
         },
         "text": "Treemap: Arrest Data (Gender → Top 10 Charge Group Descriptions by Gender)"
        }
       }
      }
     },
     "metadata": {},
     "output_type": "display_data"
    }
   ],
   "source": [
    "import pandas as pd\n",
    "import plotly.express as px\n",
    "\n",
    "# Assuming df_arrest contains the 'Sex Code' and 'Charge Group Description' columns\n",
    "\n",
    "# Step 1: Map Sex Code to descriptive labels (if not already done)\n",
    "sex_code_mapping = {\n",
    "    'M': 'Male', 'F': 'Female', 'U': 'Unknown'  # Adjust mapping if needed\n",
    "}\n",
    "\n",
    "# Add a descriptive label for 'Sex Code'\n",
    "df_arrest['Gender'] = df_arrest['Sex Code'].map(sex_code_mapping)\n",
    "\n",
    "# Step 2: Aggregate data by Gender and Charge Group Description\n",
    "treemap_data = df_arrest.groupby(['Gender', 'Charge Group Description']).size().reset_index(name='Count')\n",
    "\n",
    "# Step 3: Filter out rows where 'Count' is 0 or where 'Charge Group Description' is 'Miscellaneous Other Violations'\n",
    "treemap_data = treemap_data[treemap_data['Charge Group Description'] != 'Miscellaneous Other Violations']\n",
    "treemap_data = treemap_data[treemap_data['Count'] > 0]  # Ensure that there are no zero counts\n",
    "\n",
    "# Step 4: Get the top 10 charge descriptions for each gender\n",
    "treemap_data_top = (\n",
    "    treemap_data.groupby('Gender', group_keys=False)\n",
    "    .apply(lambda group: group.nlargest(10, 'Count'))\n",
    ")\n",
    "\n",
    "# Step 5: Ensure there is data after filtering\n",
    "if treemap_data_top.empty:\n",
    "    print(\"No data available for the selected charge groups. Please adjust the filters.\")\n",
    "else:\n",
    "    # Step 6: Create a Treemap\n",
    "    fig = px.treemap(\n",
    "        treemap_data_top,\n",
    "        path=['Gender', 'Charge Group Description'],  # Hierarchical levels\n",
    "        values='Count',  # Size of each rectangle\n",
    "        color='Count',  # Color based on count\n",
    "        color_continuous_scale='Blues',  # Color scale for visual distinction\n",
    "        title=\"Treemap: Arrest Data (Gender → Top 10 Charge Group Descriptions by Gender)\"\n",
    "    )\n",
    "\n",
    "    # Step 7: Update layout for better visualization\n",
    "    fig.update_layout(\n",
    "        margin=dict(l=10, r=10, t=50, b=10),  # Adjust margins for a compact plot\n",
    "        title_font_size=18  # Set title font size\n",
    "    )\n",
    "\n",
    "    # Show the treemap\n",
    "    fig.show()\n"
   ]
  },
  {
   "cell_type": "markdown",
   "metadata": {},
   "source": [
    "## Fig. 10. Monthly forecast of arrest data in LA"
   ]
  },
  {
   "cell_type": "code",
   "execution_count": 34,
   "metadata": {},
   "outputs": [
    {
     "name": "stderr",
     "output_type": "stream",
     "text": [
      "C:\\Users\\subha\\AppData\\Local\\Temp\\ipykernel_5808\\3274482947.py:6: FutureWarning:\n",
      "\n",
      "'M' is deprecated and will be removed in a future version, please use 'ME' instead.\n",
      "\n",
      "12:27:21 - cmdstanpy - INFO - Chain [1] start processing\n",
      "12:27:21 - cmdstanpy - INFO - Chain [1] done processing\n",
      "c:\\Users\\subha\\miniconda3\\envs\\dv\\lib\\site-packages\\prophet\\forecaster.py:1854: FutureWarning:\n",
      "\n",
      "'M' is deprecated and will be removed in a future version, please use 'ME' instead.\n",
      "\n"
     ]
    },
    {
     "data": {
      "text/plain": [
       "<Figure size 1500x700 with 0 Axes>"
      ]
     },
     "metadata": {},
     "output_type": "display_data"
    },
    {
     "data": {
      "image/png": "[encoded data removed]",
      "text/plain": [
       "<Figure size 1000x600 with 1 Axes>"
      ]
     },
     "metadata": {},
     "output_type": "display_data"
    }
   ],
   "source": [
    "from prophet import Prophet\n",
    "import matplotlib.pyplot as plt\n",
    "\n",
    "\n",
    "# Step 1: Resample arrest data to monthly aggregates\n",
    "monthly_arrest = df_arrest.resample('M').size().reset_index(name='Arrest_Count')\n",
    "\n",
    "# Step 2: Remove outliers\n",
    "def remove_outliers(df, column, threshold=1.5):\n",
    "    q1 = df[column].quantile(0.25)\n",
    "    q3 = df[column].quantile(0.75)\n",
    "    iqr = q3 - q1\n",
    "    lower_bound = q1 - threshold * iqr\n",
    "    upper_bound = q3 + threshold * iqr\n",
    "    return df[(df[column] >= lower_bound) & (df[column] <= upper_bound)]\n",
    "\n",
    "monthly_arrest = remove_outliers(monthly_arrest, 'Arrest_Count')\n",
    "\n",
    "# Step 3: Rename columns for Prophet\n",
    "monthly_arrest.rename(columns={'Arrest Date': 'ds', 'Arrest_Count': 'y'}, inplace=True)\n",
    "\n",
    "# Step 4: Initialize and Fit Prophet Model\n",
    "model_arrest = Prophet()\n",
    "model_arrest.fit(monthly_arrest)\n",
    "\n",
    "# Step 5: Create Future Dataframe\n",
    "# Forecast for 4 years (48 months)\n",
    "future_arrest = model_arrest.make_future_dataframe(periods=48, freq='M')\n",
    "\n",
    "# Step 6: Forecast Arrest Trends\n",
    "forecast_arrest = model_arrest.predict(future_arrest)\n",
    "\n",
    "# Step 7: Adjust Predictions (no negative values)\n",
    "forecast_arrest[['yhat', 'yhat_lower', 'yhat_upper']] = forecast_arrest[['yhat', 'yhat_lower', 'yhat_upper']].clip(lower=0)\n",
    "\n",
    "# Step 8: Plot Forecasted Arrest Data\n",
    "plt.figure(figsize=(15, 7))\n",
    "fig = model_arrest.plot(forecast_arrest)\n",
    "plt.title('Monthly Arrest Forecast (Prophet)', fontsize=16)\n",
    "plt.xlabel('Date', fontsize=14)\n",
    "plt.ylabel('Number of Arrests', fontsize=14)\n",
    "plt.ylim(bottom=0)\n",
    "plt.show()\n"
   ]
  },
  {
   "cell_type": "markdown",
   "metadata": {},
   "source": [
    "## Fig. 8. Reason of arrest most common in major hotspots."
   ]
  },
  {
   "cell_type": "code",
   "execution_count": 43,
   "metadata": {},
   "outputs": [
    {
     "data": {
      "application/vnd.plotly.v1+json": {
       "config": {
        "plotlyServerURL": "https://plot.ly"
       },
       "data": [
        {
         "branchvalues": "total",
         "customdata": [
          [
           4534
          ],
          [
           3954
          ],
          [
           3079
          ],
          [
           19565
          ],
          [
           5576
          ],
          [
           2485
          ],
          [
           4872
          ],
          [
           9426
          ],
          [
           7137
          ],
          [
           10930
          ],
          [
           16367
          ],
          [
           5952
          ],
          [
           4966
          ],
          [
           3247
          ],
          [
           2699
          ],
          [
           6904
          ],
          [
           9429
          ],
          [
           8783
          ],
          [
           27524
          ],
          [
           21858
          ],
          [
           24822
          ],
          [
           3111
          ],
          [
           3152
          ],
          [
           2742
          ],
          [
           23475
          ],
          [
           12510
          ],
          [
           7396
          ],
          [
           5194
          ],
          [
           4339
          ],
          [
           3154
          ],
          [
           17683.332838172406
          ],
          [
           12975.332146275234
          ],
          [
           12816.935178537415
          ]
         ],
         "domain": {
          "x": [
           0,
           1
          ],
          "y": [
           0,
           1
          ]
         },
         "hovertemplate": "labels=%{label}<br>Count_sum=%{value}<br>parent=%{parent}<br>id=%{id}<br>Count=%{color}<extra></extra>",
         "ids": [
          "Central/Aggravated Assault",
          "Hollywood/Aggravated Assault",
          "Pacific/Aggravated Assault",
          "Central/Disorderly Conduct",
          "Hollywood/Disorderly Conduct",
          "Pacific/Disorderly Conduct",
          "Central/Driving Under Influence",
          "Hollywood/Driving Under Influence",
          "Pacific/Driving Under Influence",
          "Central/Drunkeness",
          "Hollywood/Drunkeness",
          "Pacific/Drunkeness",
          "Central/Larceny",
          "Hollywood/Larceny",
          "Pacific/Larceny",
          "Central/Liquor Laws",
          "Hollywood/Liquor Laws",
          "Pacific/Liquor Laws",
          "Central/Miscellaneous Other Violations",
          "Hollywood/Miscellaneous Other Violations",
          "Pacific/Miscellaneous Other Violations",
          "Central/Moving Traffic Violations",
          "Hollywood/Moving Traffic Violations",
          "Pacific/Moving Traffic Violations",
          "Central/Narcotic Drug Laws",
          "Hollywood/Narcotic Drug Laws",
          "Pacific/Narcotic Drug Laws",
          "Central/Other Assaults",
          "Hollywood/Other Assaults",
          "Pacific/Other Assaults",
          "Central",
          "Hollywood",
          "Pacific"
         ],
         "labels": [
          "Aggravated Assault",
          "Aggravated Assault",
          "Aggravated Assault",
          "Disorderly Conduct",
          "Disorderly Conduct",
          "Disorderly Conduct",
          "Driving Under Influence",
          "Driving Under Influence",
          "Driving Under Influence",
          "Drunkeness",
          "Drunkeness",
          "Drunkeness",
          "Larceny",
          "Larceny",
          "Larceny",
          "Liquor Laws",
          "Liquor Laws",
          "Liquor Laws",
          "Miscellaneous Other Violations",
          "Miscellaneous Other Violations",
          "Miscellaneous Other Violations",
          "Moving Traffic Violations",
          "Moving Traffic Violations",
          "Moving Traffic Violations",
          "Narcotic Drug Laws",
          "Narcotic Drug Laws",
          "Narcotic Drug Laws",
          "Other Assaults",
          "Other Assaults",
          "Other Assaults",
          "Central",
          "Hollywood",
          "Pacific"
         ],
         "marker": {
          "coloraxis": "coloraxis",
          "colors": [
           4534,
           3954,
           3079,
           19565,
           5576,
           2485,
           4872,
           9426,
           7137,
           10930,
           16367,
           5952,
           4966,
           3247,
           2699,
           6904,
           9429,
           8783,
           27524,
           21858,
           24822,
           3111,
           3152,
           2742,
           23475,
           12510,
           7396,
           5194,
           4339,
           3154,
           17683.332838172406,
           12975.332146275234,
           12816.935178537415
          ]
         },
         "name": "",
         "parents": [
          "Central",
          "Hollywood",
          "Pacific",
          "Central",
          "Hollywood",
          "Pacific",
          "Central",
          "Hollywood",
          "Pacific",
          "Central",
          "Hollywood",
          "Pacific",
          "Central",
          "Hollywood",
          "Pacific",
          "Central",
          "Hollywood",
          "Pacific",
          "Central",
          "Hollywood",
          "Pacific",
          "Central",
          "Hollywood",
          "Pacific",
          "Central",
          "Hollywood",
          "Pacific",
          "Central",
          "Hollywood",
          "Pacific",
          "",
          "",
          ""
         ],
         "type": "treemap",
         "values": [
          4534,
          3954,
          3079,
          19565,
          5576,
          2485,
          4872,
          9426,
          7137,
          10930,
          16367,
          5952,
          4966,
          3247,
          2699,
          6904,
          9429,
          8783,
          27524,
          21858,
          24822,
          3111,
          3152,
          2742,
          23475,
          12510,
          7396,
          5194,
          4339,
          3154,
          111075,
          89858,
          68249
         ]
        }
       ],
       "layout": {
        "coloraxis": {
         "colorbar": {
          "title": {
           "text": "Count"
          }
         },
         "colorscale": [
          [
           0,
           "rgb(255,245,240)"
          ],
          [
           0.125,
           "rgb(254,224,210)"
          ],
          [
           0.25,
           "rgb(252,187,161)"
          ],
          [
           0.375,
           "rgb(252,146,114)"
          ],
          [
           0.5,
           "rgb(251,106,74)"
          ],
          [
           0.625,
           "rgb(239,59,44)"
          ],
          [
           0.75,
           "rgb(203,24,29)"
          ],
          [
           0.875,
           "rgb(165,15,21)"
          ],
          [
           1,
           "rgb(103,0,13)"
          ]
         ]
        },
        "legend": {
         "tracegroupgap": 0
        },
        "margin": {
         "b": 10,
         "l": 10,
         "r": 10,
         "t": 50
        },
        "template": {
         "data": {
          "bar": [
           {
            "error_x": {
             "color": "#2a3f5f"
            },
            "error_y": {
             "color": "#2a3f5f"
            },
            "marker": {
             "line": {
              "color": "#E5ECF6",
              "width": 0.5
             },
             "pattern": {
              "fillmode": "overlay",
              "size": 10,
              "solidity": 0.2
             }
            },
            "type": "bar"
           }
          ],
          "barpolar": [
           {
            "marker": {
             "line": {
              "color": "#E5ECF6",
              "width": 0.5
             },
             "pattern": {
              "fillmode": "overlay",
              "size": 10,
              "solidity": 0.2
             }
            },
            "type": "barpolar"
           }
          ],
          "carpet": [
           {
            "aaxis": {
             "endlinecolor": "#2a3f5f",
             "gridcolor": "white",
             "linecolor": "white",
             "minorgridcolor": "white",
             "startlinecolor": "#2a3f5f"
            },
            "baxis": {
             "endlinecolor": "#2a3f5f",
             "gridcolor": "white",
             "linecolor": "white",
             "minorgridcolor": "white",
             "startlinecolor": "#2a3f5f"
            },
            "type": "carpet"
           }
          ],
          "choropleth": [
           {
            "colorbar": {
             "outlinewidth": 0,
             "ticks": ""
            },
            "type": "choropleth"
           }
          ],
          "contour": [
           {
            "colorbar": {
             "outlinewidth": 0,
             "ticks": ""
            },
            "colorscale": [
             [
              0,
              "#0d0887"
             ],
             [
              0.1111111111111111,
              "#46039f"
             ],
             [
              0.2222222222222222,
              "#7201a8"
             ],
             [
              0.3333333333333333,
              "#9c179e"
             ],
             [
              0.4444444444444444,
              "#bd3786"
             ],
             [
              0.5555555555555556,
              "#d8576b"
             ],
             [
              0.6666666666666666,
              "#ed7953"
             ],
             [
              0.7777777777777778,
              "#fb9f3a"
             ],
             [
              0.8888888888888888,
              "#fdca26"
             ],
             [
              1,
              "#f0f921"
             ]
            ],
            "type": "contour"
           }
          ],
          "contourcarpet": [
           {
            "colorbar": {
             "outlinewidth": 0,
             "ticks": ""
            },
            "type": "contourcarpet"
           }
          ],
          "heatmap": [
           {
            "colorbar": {
             "outlinewidth": 0,
             "ticks": ""
            },
            "colorscale": [
             [
              0,
              "#0d0887"
             ],
             [
              0.1111111111111111,
              "#46039f"
             ],
             [
              0.2222222222222222,
              "#7201a8"
             ],
             [
              0.3333333333333333,
              "#9c179e"
             ],
             [
              0.4444444444444444,
              "#bd3786"
             ],
             [
              0.5555555555555556,
              "#d8576b"
             ],
             [
              0.6666666666666666,
              "#ed7953"
             ],
             [
              0.7777777777777778,
              "#fb9f3a"
             ],
             [
              0.8888888888888888,
              "#fdca26"
             ],
             [
              1,
              "#f0f921"
             ]
            ],
            "type": "heatmap"
           }
          ],
          "heatmapgl": [
           {
            "colorbar": {
             "outlinewidth": 0,
             "ticks": ""
            },
            "colorscale": [
             [
              0,
              "#0d0887"
             ],
             [
              0.1111111111111111,
              "#46039f"
             ],
             [
              0.2222222222222222,
              "#7201a8"
             ],
             [
              0.3333333333333333,
              "#9c179e"
             ],
             [
              0.4444444444444444,
              "#bd3786"
             ],
             [
              0.5555555555555556,
              "#d8576b"
             ],
             [
              0.6666666666666666,
              "#ed7953"
             ],
             [
              0.7777777777777778,
              "#fb9f3a"
             ],
             [
              0.8888888888888888,
              "#fdca26"
             ],
             [
              1,
              "#f0f921"
             ]
            ],
            "type": "heatmapgl"
           }
          ],
          "histogram": [
           {
            "marker": {
             "pattern": {
              "fillmode": "overlay",
              "size": 10,
              "solidity": 0.2
             }
            },
            "type": "histogram"
           }
          ],
          "histogram2d": [
           {
            "colorbar": {
             "outlinewidth": 0,
             "ticks": ""
            },
            "colorscale": [
             [
              0,
              "#0d0887"
             ],
             [
              0.1111111111111111,
              "#46039f"
             ],
             [
              0.2222222222222222,
              "#7201a8"
             ],
             [
              0.3333333333333333,
              "#9c179e"
             ],
             [
              0.4444444444444444,
              "#bd3786"
             ],
             [
              0.5555555555555556,
              "#d8576b"
             ],
             [
              0.6666666666666666,
              "#ed7953"
             ],
             [
              0.7777777777777778,
              "#fb9f3a"
             ],
             [
              0.8888888888888888,
              "#fdca26"
             ],
             [
              1,
              "#f0f921"
             ]
            ],
            "type": "histogram2d"
           }
          ],
          "histogram2dcontour": [
           {
            "colorbar": {
             "outlinewidth": 0,
             "ticks": ""
            },
            "colorscale": [
             [
              0,
              "#0d0887"
             ],
             [
              0.1111111111111111,
              "#46039f"
             ],
             [
              0.2222222222222222,
              "#7201a8"
             ],
             [
              0.3333333333333333,
              "#9c179e"
             ],
             [
              0.4444444444444444,
              "#bd3786"
             ],
             [
              0.5555555555555556,
              "#d8576b"
             ],
             [
              0.6666666666666666,
              "#ed7953"
             ],
             [
              0.7777777777777778,
              "#fb9f3a"
             ],
             [
              0.8888888888888888,
              "#fdca26"
             ],
             [
              1,
              "#f0f921"
             ]
            ],
            "type": "histogram2dcontour"
           }
          ],
          "mesh3d": [
           {
            "colorbar": {
             "outlinewidth": 0,
             "ticks": ""
            },
            "type": "mesh3d"
           }
          ],
          "parcoords": [
           {
            "line": {
             "colorbar": {
              "outlinewidth": 0,
              "ticks": ""
             }
            },
            "type": "parcoords"
           }
          ],
          "pie": [
           {
            "automargin": true,
            "type": "pie"
           }
          ],
          "scatter": [
           {
            "fillpattern": {
             "fillmode": "overlay",
             "size": 10,
             "solidity": 0.2
            },
            "type": "scatter"
           }
          ],
          "scatter3d": [
           {
            "line": {
             "colorbar": {
              "outlinewidth": 0,
              "ticks": ""
             }
            },
            "marker": {
             "colorbar": {
              "outlinewidth": 0,
              "ticks": ""
             }
            },
            "type": "scatter3d"
           }
          ],
          "scattercarpet": [
           {
            "marker": {
             "colorbar": {
              "outlinewidth": 0,
              "ticks": ""
             }
            },
            "type": "scattercarpet"
           }
          ],
          "scattergeo": [
           {
            "marker": {
             "colorbar": {
              "outlinewidth": 0,
              "ticks": ""
             }
            },
            "type": "scattergeo"
           }
          ],
          "scattergl": [
           {
            "marker": {
             "colorbar": {
              "outlinewidth": 0,
              "ticks": ""
             }
            },
            "type": "scattergl"
           }
          ],
          "scattermapbox": [
           {
            "marker": {
             "colorbar": {
              "outlinewidth": 0,
              "ticks": ""
             }
            },
            "type": "scattermapbox"
           }
          ],
          "scatterpolar": [
           {
            "marker": {
             "colorbar": {
              "outlinewidth": 0,
              "ticks": ""
             }
            },
            "type": "scatterpolar"
           }
          ],
          "scatterpolargl": [
           {
            "marker": {
             "colorbar": {
              "outlinewidth": 0,
              "ticks": ""
             }
            },
            "type": "scatterpolargl"
           }
          ],
          "scatterternary": [
           {
            "marker": {
             "colorbar": {
              "outlinewidth": 0,
              "ticks": ""
             }
            },
            "type": "scatterternary"
           }
          ],
          "surface": [
           {
            "colorbar": {
             "outlinewidth": 0,
             "ticks": ""
            },
            "colorscale": [
             [
              0,
              "#0d0887"
             ],
             [
              0.1111111111111111,
              "#46039f"
             ],
             [
              0.2222222222222222,
              "#7201a8"
             ],
             [
              0.3333333333333333,
              "#9c179e"
             ],
             [
              0.4444444444444444,
              "#bd3786"
             ],
             [
              0.5555555555555556,
              "#d8576b"
             ],
             [
              0.6666666666666666,
              "#ed7953"
             ],
             [
              0.7777777777777778,
              "#fb9f3a"
             ],
             [
              0.8888888888888888,
              "#fdca26"
             ],
             [
              1,
              "#f0f921"
             ]
            ],
            "type": "surface"
           }
          ],
          "table": [
           {
            "cells": {
             "fill": {
              "color": "#EBF0F8"
             },
             "line": {
              "color": "white"
             }
            },
            "header": {
             "fill": {
              "color": "#C8D4E3"
             },
             "line": {
              "color": "white"
             }
            },
            "type": "table"
           }
          ]
         },
         "layout": {
          "annotationdefaults": {
           "arrowcolor": "#2a3f5f",
           "arrowhead": 0,
           "arrowwidth": 1
          },
          "autotypenumbers": "strict",
          "coloraxis": {
           "colorbar": {
            "outlinewidth": 0,
            "ticks": ""
           }
          },
          "colorscale": {
           "diverging": [
            [
             0,
             "#8e0152"
            ],
            [
             0.1,
             "#c51b7d"
            ],
            [
             0.2,
             "#de77ae"
            ],
            [
             0.3,
             "#f1b6da"
            ],
            [
             0.4,
             "#fde0ef"
            ],
            [
             0.5,
             "#f7f7f7"
            ],
            [
             0.6,
             "#e6f5d0"
            ],
            [
             0.7,
             "#b8e186"
            ],
            [
             0.8,
             "#7fbc41"
            ],
            [
             0.9,
             "#4d9221"
            ],
            [
             1,
             "#276419"
            ]
           ],
           "sequential": [
            [
             0,
             "#0d0887"
            ],
            [
             0.1111111111111111,
             "#46039f"
            ],
            [
             0.2222222222222222,
             "#7201a8"
            ],
            [
             0.3333333333333333,
             "#9c179e"
            ],
            [
             0.4444444444444444,
             "#bd3786"
            ],
            [
             0.5555555555555556,
             "#d8576b"
            ],
            [
             0.6666666666666666,
             "#ed7953"
            ],
            [
             0.7777777777777778,
             "#fb9f3a"
            ],
            [
             0.8888888888888888,
             "#fdca26"
            ],
            [
             1,
             "#f0f921"
            ]
           ],
           "sequentialminus": [
            [
             0,
             "#0d0887"
            ],
            [
             0.1111111111111111,
             "#46039f"
            ],
            [
             0.2222222222222222,
             "#7201a8"
            ],
            [
             0.3333333333333333,
             "#9c179e"
            ],
            [
             0.4444444444444444,
             "#bd3786"
            ],
            [
             0.5555555555555556,
             "#d8576b"
            ],
            [
             0.6666666666666666,
             "#ed7953"
            ],
            [
             0.7777777777777778,
             "#fb9f3a"
            ],
            [
             0.8888888888888888,
             "#fdca26"
            ],
            [
             1,
             "#f0f921"
            ]
           ]
          },
          "colorway": [
           "#636efa",
           "#EF553B",
           "#00cc96",
           "#ab63fa",
           "#FFA15A",
           "#19d3f3",
           "#FF6692",
           "#B6E880",
           "#FF97FF",
           "#FECB52"
          ],
          "font": {
           "color": "#2a3f5f"
          },
          "geo": {
           "bgcolor": "white",
           "lakecolor": "white",
           "landcolor": "#E5ECF6",
           "showlakes": true,
           "showland": true,
           "subunitcolor": "white"
          },
          "hoverlabel": {
           "align": "left"
          },
          "hovermode": "closest",
          "mapbox": {
           "style": "light"
          },
          "paper_bgcolor": "white",
          "plot_bgcolor": "#E5ECF6",
          "polar": {
           "angularaxis": {
            "gridcolor": "white",
            "linecolor": "white",
            "ticks": ""
           },
           "bgcolor": "#E5ECF6",
           "radialaxis": {
            "gridcolor": "white",
            "linecolor": "white",
            "ticks": ""
           }
          },
          "scene": {
           "xaxis": {
            "backgroundcolor": "#E5ECF6",
            "gridcolor": "white",
            "gridwidth": 2,
            "linecolor": "white",
            "showbackground": true,
            "ticks": "",
            "zerolinecolor": "white"
           },
           "yaxis": {
            "backgroundcolor": "#E5ECF6",
            "gridcolor": "white",
            "gridwidth": 2,
            "linecolor": "white",
            "showbackground": true,
            "ticks": "",
            "zerolinecolor": "white"
           },
           "zaxis": {
            "backgroundcolor": "#E5ECF6",
            "gridcolor": "white",
            "gridwidth": 2,
            "linecolor": "white",
            "showbackground": true,
            "ticks": "",
            "zerolinecolor": "white"
           }
          },
          "shapedefaults": {
           "line": {
            "color": "#2a3f5f"
           }
          },
          "ternary": {
           "aaxis": {
            "gridcolor": "white",
            "linecolor": "white",
            "ticks": ""
           },
           "baxis": {
            "gridcolor": "white",
            "linecolor": "white",
            "ticks": ""
           },
           "bgcolor": "#E5ECF6",
           "caxis": {
            "gridcolor": "white",
            "linecolor": "white",
            "ticks": ""
           }
          },
          "title": {
           "x": 0.05
          },
          "xaxis": {
           "automargin": true,
           "gridcolor": "white",
           "linecolor": "white",
           "ticks": "",
           "title": {
            "standoff": 15
           },
           "zerolinecolor": "white",
           "zerolinewidth": 2
          },
          "yaxis": {
           "automargin": true,
           "gridcolor": "white",
           "linecolor": "white",
           "ticks": "",
           "title": {
            "standoff": 15
           },
           "zerolinecolor": "white",
           "zerolinewidth": 2
          }
         }
        },
        "title": {
         "font": {
          "size": 18
         },
         "text": "Treemap: Arrest Data (AREA NAME → Top 10 Charge Group Descriptions)"
        }
       }
      }
     },
     "metadata": {},
     "output_type": "display_data"
    }
   ],
   "source": [
    "import pandas as pd\n",
    "import plotly.express as px\n",
    "\n",
    "# Sample data preparation\n",
    "# Assuming df_arrest DataFrame contains 'AREA NAME' and 'Charge Group Description'\n",
    "\n",
    "# Aggregate data: count combinations of AREA NAME and Charge Group Description\n",
    "area_charge_data = df_arrest.groupby(['AREA NAME', 'Charge Group Description']).size().reset_index(name='Count')\n",
    "\n",
    "# Filter for chosen AREA NAMEs\n",
    "chosen_areas = [\n",
    "    'Central', 'Hollywood', 'Pacific'  # Example; replace as needed\n",
    "]\n",
    "area_charge_data = area_charge_data[area_charge_data['AREA NAME'].isin(chosen_areas)]\n",
    "\n",
    "\n",
    "# Get the top 10 charge descriptions by total count\n",
    "top_charge_groups = area_charge_data.groupby('Charge Group Description')['Count'].sum().nlargest(10).index\n",
    "area_charge_data_top = area_charge_data[area_charge_data['Charge Group Description'].isin(top_charge_groups)]\n",
    "\n",
    "# Create a treemap\n",
    "fig = px.treemap(\n",
    "    area_charge_data_top,\n",
    "    path=['AREA NAME', 'Charge Group Description'],  # Hierarchical levels: Area → Charge Group Description\n",
    "    values='Count',  # Size of each rectangle\n",
    "    color='Count',  # Color based on count\n",
    "    color_continuous_scale='Reds',  # Color scale for visual distinction\n",
    "    title=\"Treemap: Arrest Data (AREA NAME → Top 10 Charge Group Descriptions)\"\n",
    ")\n",
    "\n",
    "# Update layout for better visualization\n",
    "fig.update_layout(\n",
    "    margin=dict(l=10, r=10, t=50, b=10),  # Reduce margin for a compact plot\n",
    "    title_font_size=18\n",
    ")\n",
    "\n",
    "# Show the plot\n",
    "fig.show()\n"
   ]
  },
  {
   "cell_type": "code",
   "execution_count": null,
   "metadata": {},
   "outputs": [],
   "source": []
  }
 ],
 "metadata": {
  "kernelspec": {
   "display_name": "dv",
   "language": "python",
   "name": "python3"
  },
  "language_info": {
   "codemirror_mode": {
    "name": "ipython",
    "version": 3
   },
   "file_extension": ".py",
   "mimetype": "text/x-python",
   "name": "python",
   "nbconvert_exporter": "python",
   "pygments_lexer": "ipython3",
   "version": "3.9.20"
  }
 },
 "nbformat": 4,
 "nbformat_minor": 2
}
