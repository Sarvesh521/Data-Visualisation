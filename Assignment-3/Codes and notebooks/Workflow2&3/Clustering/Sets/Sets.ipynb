{
 "cells": [
  {
   "cell_type": "markdown",
   "metadata": {},
   "source": [
    "# Parallel Sets"
   ]
  },
  {
   "cell_type": "markdown",
   "metadata": {},
   "source": [
    "## Cluster 12"
   ]
  },
  {
   "cell_type": "code",
   "execution_count": 3,
   "metadata": {},
   "outputs": [
    {
     "data": {
      "application/vnd.plotly.v1+json": {
       "config": {
        "plotlyServerURL": "https://plot.ly"
       },
       "data": [
        {
         "link": {
          "source": [
           0,
           1,
           1,
           1,
           1,
           2,
           2,
           2,
           3,
           4,
           4,
           5,
           5,
           5,
           6,
           6,
           6,
           7,
           8,
           8,
           8,
           9,
           10,
           10,
           10,
           11,
           11,
           11,
           11,
           11,
           12,
           12,
           13,
           13,
           14,
           14,
           14,
           14,
           15,
           15,
           16,
           16,
           17,
           18,
           18,
           19,
           19,
           26,
           29,
           21,
           21,
           21,
           24,
           25,
           27,
           22,
           20,
           28,
           23
          ],
          "target": [
           20,
           21,
           21,
           21,
           22,
           21,
           21,
           21,
           21,
           21,
           23,
           21,
           21,
           23,
           21,
           21,
           24,
           25,
           26,
           27,
           28,
           21,
           21,
           21,
           27,
           29,
           21,
           21,
           21,
           24,
           21,
           23,
           21,
           21,
           26,
           21,
           21,
           21,
           21,
           21,
           21,
           21,
           21,
           21,
           21,
           21,
           21,
           30,
           30,
           30,
           31,
           32,
           30,
           30,
           30,
           30,
           30,
           30,
           30
          ],
          "value": [
           1,
           6,
           1,
           11,
           1,
           1,
           3,
           1,
           1,
           1,
           1,
           3,
           2,
           1,
           5,
           4,
           2,
           1,
           1,
           1,
           1,
           1,
           1,
           1,
           1,
           2,
           2,
           8,
           8,
           1,
           1,
           1,
           1,
           1,
           2,
           2,
           2,
           12,
           6,
           5,
           4,
           8,
           1,
           1,
           1,
           3,
           7,
           3,
           2,
           37,
           14,
           64,
           3,
           1,
           2,
           1,
           1,
           1,
           3
          ]
         },
         "node": {
          "color": "blue",
          "label": [
           "Area: 77th Street",
           "Area: Central",
           "Area: Foothill",
           "Area: Harbor",
           "Area: Hollenbeck",
           "Area: Hollywood",
           "Area: Mission",
           "Area: N Hollywood",
           "Area: Newton",
           "Area: Northeast",
           "Area: Olympic",
           "Area: Pacific",
           "Area: Rampart",
           "Area: Southeast",
           "Area: Southwest",
           "Area: Topanga",
           "Area: Van Nuys",
           "Area: West LA",
           "Area: West Valley",
           "Area: Wilshire",
           "Crime: VANDALISM - FELONY ($400 & OVER, ALL CHURCH VANDALISMS)",
           "Crime: BOMB SCARE",
           "Crime: OTHER MISCELLANEOUS CRIME",
           "Crime: WEAPONS POSSESSION/BOMBING",
           "Crime: CRIMINAL THREATS - NO WEAPON DISPLAYED",
           "Crime: FALSE IMPRISONMENT",
           "Crime: ASSAULT WITH DEADLY WEAPON, AGGRAVATED ASSAULT",
           "Crime: INTIMATE PARTNER - SIMPLE ASSAULT",
           "Crime: VIOLATION OF RESTRAINING ORDER",
           "Crime: BATTERY - SIMPLE ASSAULT",
           "Weapon: BOMB THREAT",
           "Weapon: UNKNOWN WEAPON/OTHER WEAPON",
           "Weapon: VERBAL THREAT"
          ],
          "line": {
           "color": "black",
           "width": 0.5
          },
          "pad": 15,
          "thickness": 20
         },
         "type": "sankey"
        }
       ],
       "layout": {
        "font": {
         "size": 10
        },
        "template": {
         "data": {
          "bar": [
           {
            "error_x": {
             "color": "#2a3f5f"
            },
            "error_y": {
             "color": "#2a3f5f"
            },
            "marker": {
             "line": {
              "color": "#E5ECF6",
              "width": 0.5
             },
             "pattern": {
              "fillmode": "overlay",
              "size": 10,
              "solidity": 0.2
             }
            },
            "type": "bar"
           }
          ],
          "barpolar": [
           {
            "marker": {
             "line": {
              "color": "#E5ECF6",
              "width": 0.5
             },
             "pattern": {
              "fillmode": "overlay",
              "size": 10,
              "solidity": 0.2
             }
            },
            "type": "barpolar"
           }
          ],
          "carpet": [
           {
            "aaxis": {
             "endlinecolor": "#2a3f5f",
             "gridcolor": "white",
             "linecolor": "white",
             "minorgridcolor": "white",
             "startlinecolor": "#2a3f5f"
            },
            "baxis": {
             "endlinecolor": "#2a3f5f",
             "gridcolor": "white",
             "linecolor": "white",
             "minorgridcolor": "white",
             "startlinecolor": "#2a3f5f"
            },
            "type": "carpet"
           }
          ],
          "choropleth": [
           {
            "colorbar": {
             "outlinewidth": 0,
             "ticks": ""
            },
            "type": "choropleth"
           }
          ],
          "contour": [
           {
            "colorbar": {
             "outlinewidth": 0,
             "ticks": ""
            },
            "colorscale": [
             [
              0,
              "#0d0887"
             ],
             [
              0.1111111111111111,
              "#46039f"
             ],
             [
              0.2222222222222222,
              "#7201a8"
             ],
             [
              0.3333333333333333,
              "#9c179e"
             ],
             [
              0.4444444444444444,
              "#bd3786"
             ],
             [
              0.5555555555555556,
              "#d8576b"
             ],
             [
              0.6666666666666666,
              "#ed7953"
             ],
             [
              0.7777777777777778,
              "#fb9f3a"
             ],
             [
              0.8888888888888888,
              "#fdca26"
             ],
             [
              1,
              "#f0f921"
             ]
            ],
            "type": "contour"
           }
          ],
          "contourcarpet": [
           {
            "colorbar": {
             "outlinewidth": 0,
             "ticks": ""
            },
            "type": "contourcarpet"
           }
          ],
          "heatmap": [
           {
            "colorbar": {
             "outlinewidth": 0,
             "ticks": ""
            },
            "colorscale": [
             [
              0,
              "#0d0887"
             ],
             [
              0.1111111111111111,
              "#46039f"
             ],
             [
              0.2222222222222222,
              "#7201a8"
             ],
             [
              0.3333333333333333,
              "#9c179e"
             ],
             [
              0.4444444444444444,
              "#bd3786"
             ],
             [
              0.5555555555555556,
              "#d8576b"
             ],
             [
              0.6666666666666666,
              "#ed7953"
             ],
             [
              0.7777777777777778,
              "#fb9f3a"
             ],
             [
              0.8888888888888888,
              "#fdca26"
             ],
             [
              1,
              "#f0f921"
             ]
            ],
            "type": "heatmap"
           }
          ],
          "heatmapgl": [
           {
            "colorbar": {
             "outlinewidth": 0,
             "ticks": ""
            },
            "colorscale": [
             [
              0,
              "#0d0887"
             ],
             [
              0.1111111111111111,
              "#46039f"
             ],
             [
              0.2222222222222222,
              "#7201a8"
             ],
             [
              0.3333333333333333,
              "#9c179e"
             ],
             [
              0.4444444444444444,
              "#bd3786"
             ],
             [
              0.5555555555555556,
              "#d8576b"
             ],
             [
              0.6666666666666666,
              "#ed7953"
             ],
             [
              0.7777777777777778,
              "#fb9f3a"
             ],
             [
              0.8888888888888888,
              "#fdca26"
             ],
             [
              1,
              "#f0f921"
             ]
            ],
            "type": "heatmapgl"
           }
          ],
          "histogram": [
           {
            "marker": {
             "pattern": {
              "fillmode": "overlay",
              "size": 10,
              "solidity": 0.2
             }
            },
            "type": "histogram"
           }
          ],
          "histogram2d": [
           {
            "colorbar": {
             "outlinewidth": 0,
             "ticks": ""
            },
            "colorscale": [
             [
              0,
              "#0d0887"
             ],
             [
              0.1111111111111111,
              "#46039f"
             ],
             [
              0.2222222222222222,
              "#7201a8"
             ],
             [
              0.3333333333333333,
              "#9c179e"
             ],
             [
              0.4444444444444444,
              "#bd3786"
             ],
             [
              0.5555555555555556,
              "#d8576b"
             ],
             [
              0.6666666666666666,
              "#ed7953"
             ],
             [
              0.7777777777777778,
              "#fb9f3a"
             ],
             [
              0.8888888888888888,
              "#fdca26"
             ],
             [
              1,
              "#f0f921"
             ]
            ],
            "type": "histogram2d"
           }
          ],
          "histogram2dcontour": [
           {
            "colorbar": {
             "outlinewidth": 0,
             "ticks": ""
            },
            "colorscale": [
             [
              0,
              "#0d0887"
             ],
             [
              0.1111111111111111,
              "#46039f"
             ],
             [
              0.2222222222222222,
              "#7201a8"
             ],
             [
              0.3333333333333333,
              "#9c179e"
             ],
             [
              0.4444444444444444,
              "#bd3786"
             ],
             [
              0.5555555555555556,
              "#d8576b"
             ],
             [
              0.6666666666666666,
              "#ed7953"
             ],
             [
              0.7777777777777778,
              "#fb9f3a"
             ],
             [
              0.8888888888888888,
              "#fdca26"
             ],
             [
              1,
              "#f0f921"
             ]
            ],
            "type": "histogram2dcontour"
           }
          ],
          "mesh3d": [
           {
            "colorbar": {
             "outlinewidth": 0,
             "ticks": ""
            },
            "type": "mesh3d"
           }
          ],
          "parcoords": [
           {
            "line": {
             "colorbar": {
              "outlinewidth": 0,
              "ticks": ""
             }
            },
            "type": "parcoords"
           }
          ],
          "pie": [
           {
            "automargin": true,
            "type": "pie"
           }
          ],
          "scatter": [
           {
            "fillpattern": {
             "fillmode": "overlay",
             "size": 10,
             "solidity": 0.2
            },
            "type": "scatter"
           }
          ],
          "scatter3d": [
           {
            "line": {
             "colorbar": {
              "outlinewidth": 0,
              "ticks": ""
             }
            },
            "marker": {
             "colorbar": {
              "outlinewidth": 0,
              "ticks": ""
             }
            },
            "type": "scatter3d"
           }
          ],
          "scattercarpet": [
           {
            "marker": {
             "colorbar": {
              "outlinewidth": 0,
              "ticks": ""
             }
            },
            "type": "scattercarpet"
           }
          ],
          "scattergeo": [
           {
            "marker": {
             "colorbar": {
              "outlinewidth": 0,
              "ticks": ""
             }
            },
            "type": "scattergeo"
           }
          ],
          "scattergl": [
           {
            "marker": {
             "colorbar": {
              "outlinewidth": 0,
              "ticks": ""
             }
            },
            "type": "scattergl"
           }
          ],
          "scattermapbox": [
           {
            "marker": {
             "colorbar": {
              "outlinewidth": 0,
              "ticks": ""
             }
            },
            "type": "scattermapbox"
           }
          ],
          "scatterpolar": [
           {
            "marker": {
             "colorbar": {
              "outlinewidth": 0,
              "ticks": ""
             }
            },
            "type": "scatterpolar"
           }
          ],
          "scatterpolargl": [
           {
            "marker": {
             "colorbar": {
              "outlinewidth": 0,
              "ticks": ""
             }
            },
            "type": "scatterpolargl"
           }
          ],
          "scatterternary": [
           {
            "marker": {
             "colorbar": {
              "outlinewidth": 0,
              "ticks": ""
             }
            },
            "type": "scatterternary"
           }
          ],
          "surface": [
           {
            "colorbar": {
             "outlinewidth": 0,
             "ticks": ""
            },
            "colorscale": [
             [
              0,
              "#0d0887"
             ],
             [
              0.1111111111111111,
              "#46039f"
             ],
             [
              0.2222222222222222,
              "#7201a8"
             ],
             [
              0.3333333333333333,
              "#9c179e"
             ],
             [
              0.4444444444444444,
              "#bd3786"
             ],
             [
              0.5555555555555556,
              "#d8576b"
             ],
             [
              0.6666666666666666,
              "#ed7953"
             ],
             [
              0.7777777777777778,
              "#fb9f3a"
             ],
             [
              0.8888888888888888,
              "#fdca26"
             ],
             [
              1,
              "#f0f921"
             ]
            ],
            "type": "surface"
           }
          ],
          "table": [
           {
            "cells": {
             "fill": {
              "color": "#EBF0F8"
             },
             "line": {
              "color": "white"
             }
            },
            "header": {
             "fill": {
              "color": "#C8D4E3"
             },
             "line": {
              "color": "white"
             }
            },
            "type": "table"
           }
          ]
         },
         "layout": {
          "annotationdefaults": {
           "arrowcolor": "#2a3f5f",
           "arrowhead": 0,
           "arrowwidth": 1
          },
          "autotypenumbers": "strict",
          "coloraxis": {
           "colorbar": {
            "outlinewidth": 0,
            "ticks": ""
           }
          },
          "colorscale": {
           "diverging": [
            [
             0,
             "#8e0152"
            ],
            [
             0.1,
             "#c51b7d"
            ],
            [
             0.2,
             "#de77ae"
            ],
            [
             0.3,
             "#f1b6da"
            ],
            [
             0.4,
             "#fde0ef"
            ],
            [
             0.5,
             "#f7f7f7"
            ],
            [
             0.6,
             "#e6f5d0"
            ],
            [
             0.7,
             "#b8e186"
            ],
            [
             0.8,
             "#7fbc41"
            ],
            [
             0.9,
             "#4d9221"
            ],
            [
             1,
             "#276419"
            ]
           ],
           "sequential": [
            [
             0,
             "#0d0887"
            ],
            [
             0.1111111111111111,
             "#46039f"
            ],
            [
             0.2222222222222222,
             "#7201a8"
            ],
            [
             0.3333333333333333,
             "#9c179e"
            ],
            [
             0.4444444444444444,
             "#bd3786"
            ],
            [
             0.5555555555555556,
             "#d8576b"
            ],
            [
             0.6666666666666666,
             "#ed7953"
            ],
            [
             0.7777777777777778,
             "#fb9f3a"
            ],
            [
             0.8888888888888888,
             "#fdca26"
            ],
            [
             1,
             "#f0f921"
            ]
           ],
           "sequentialminus": [
            [
             0,
             "#0d0887"
            ],
            [
             0.1111111111111111,
             "#46039f"
            ],
            [
             0.2222222222222222,
             "#7201a8"
            ],
            [
             0.3333333333333333,
             "#9c179e"
            ],
            [
             0.4444444444444444,
             "#bd3786"
            ],
            [
             0.5555555555555556,
             "#d8576b"
            ],
            [
             0.6666666666666666,
             "#ed7953"
            ],
            [
             0.7777777777777778,
             "#fb9f3a"
            ],
            [
             0.8888888888888888,
             "#fdca26"
            ],
            [
             1,
             "#f0f921"
            ]
           ]
          },
          "colorway": [
           "#636efa",
           "#EF553B",
           "#00cc96",
           "#ab63fa",
           "#FFA15A",
           "#19d3f3",
           "#FF6692",
           "#B6E880",
           "#FF97FF",
           "#FECB52"
          ],
          "font": {
           "color": "#2a3f5f"
          },
          "geo": {
           "bgcolor": "white",
           "lakecolor": "white",
           "landcolor": "#E5ECF6",
           "showlakes": true,
           "showland": true,
           "subunitcolor": "white"
          },
          "hoverlabel": {
           "align": "left"
          },
          "hovermode": "closest",
          "mapbox": {
           "style": "light"
          },
          "paper_bgcolor": "white",
          "plot_bgcolor": "#E5ECF6",
          "polar": {
           "angularaxis": {
            "gridcolor": "white",
            "linecolor": "white",
            "ticks": ""
           },
           "bgcolor": "#E5ECF6",
           "radialaxis": {
            "gridcolor": "white",
            "linecolor": "white",
            "ticks": ""
           }
          },
          "scene": {
           "xaxis": {
            "backgroundcolor": "#E5ECF6",
            "gridcolor": "white",
            "gridwidth": 2,
            "linecolor": "white",
            "showbackground": true,
            "ticks": "",
            "zerolinecolor": "white"
           },
           "yaxis": {
            "backgroundcolor": "#E5ECF6",
            "gridcolor": "white",
            "gridwidth": 2,
            "linecolor": "white",
            "showbackground": true,
            "ticks": "",
            "zerolinecolor": "white"
           },
           "zaxis": {
            "backgroundcolor": "#E5ECF6",
            "gridcolor": "white",
            "gridwidth": 2,
            "linecolor": "white",
            "showbackground": true,
            "ticks": "",
            "zerolinecolor": "white"
           }
          },
          "shapedefaults": {
           "line": {
            "color": "#2a3f5f"
           }
          },
          "ternary": {
           "aaxis": {
            "gridcolor": "white",
            "linecolor": "white",
            "ticks": ""
           },
           "baxis": {
            "gridcolor": "white",
            "linecolor": "white",
            "ticks": ""
           },
           "bgcolor": "#E5ECF6",
           "caxis": {
            "gridcolor": "white",
            "linecolor": "white",
            "ticks": ""
           }
          },
          "title": {
           "x": 0.05
          },
          "xaxis": {
           "automargin": true,
           "gridcolor": "white",
           "linecolor": "white",
           "ticks": "",
           "title": {
            "standoff": 15
           },
           "zerolinecolor": "white",
           "zerolinewidth": 2
          },
          "yaxis": {
           "automargin": true,
           "gridcolor": "white",
           "linecolor": "white",
           "ticks": "",
           "title": {
            "standoff": 15
           },
           "zerolinecolor": "white",
           "zerolinewidth": 2
          }
         }
        },
        "title": {
         "text": "Sankey Diagram for Cluster 12 Crime Data"
        }
       }
      }
     },
     "metadata": {},
     "output_type": "display_data"
    }
   ],
   "source": [
    "import pandas as pd\n",
    "import plotly.graph_objects as go\n",
    "\n",
    "# --- Step 1: Load the Dataset ---\n",
    "file_path = 'Clustered_LA_Crime_Data.csv'  # Replace with your actual file path\n",
    "cl_df = pd.read_csv(file_path)\n",
    "\n",
    "# Choose data points only in cluster 12\n",
    "cl_df = cl_df[cl_df['Cluster'] == 12]\n",
    "\n",
    "# Updated columns list without duplicate 'TIME OCC'\n",
    "columns = [\n",
    "    'AREA NAME', 'Vict Age', 'Vict Sex', 'Vict Descent', 'Cluster',\n",
    "    'Premis Desc', 'Status Desc', 'TIME OCC', 'Month', 'Year',\n",
    "    'Crm Cd Desc', 'Weapon Desc'\n",
    "]\n",
    "plot_data = cl_df[columns].dropna()  # Drop rows with missing values\n",
    "\n",
    "# --- Step 2: Select Dimensions for Sankey ---\n",
    "# Selecting a subset for clarity\n",
    "sankey_dimensions = ['AREA NAME', 'Crm Cd Desc', 'Weapon Desc']\n",
    "\n",
    "# Aggregate data\n",
    "sankey_data = plot_data.groupby(sankey_dimensions).size().reset_index(name='count')\n",
    "\n",
    "# --- Step 3: Map Categories to Unique IDs with Column Names ---\n",
    "# Prefix labels with column names for clarity\n",
    "sankey_data['AREA NAME'] = 'Area: ' + sankey_data['AREA NAME']\n",
    "sankey_data['Crm Cd Desc'] = 'Crime: ' + sankey_data['Crm Cd Desc']\n",
    "sankey_data['Weapon Desc'] = 'Weapon: ' + sankey_data['Weapon Desc']\n",
    "\n",
    "# Create a combined list of unique labels\n",
    "label_list = list(pd.unique(sankey_data[['AREA NAME', 'Crm Cd Desc', 'Weapon Desc']].values.ravel('K')))\n",
    "label_to_id = {label: idx for idx, label in enumerate(label_list)}\n",
    "\n",
    "# Map source and target with updated labels\n",
    "sankey_data['source'] = sankey_data['AREA NAME'].map(label_to_id)\n",
    "sankey_data['target'] = sankey_data['Crm Cd Desc'].map(label_to_id)\n",
    "\n",
    "# To add Weapon as the next step, create additional links\n",
    "sankey_weapon = plot_data.groupby(['Crm Cd Desc', 'Weapon Desc']).size().reset_index(name='count')\n",
    "\n",
    "# Prefix labels in sankey_weapon\n",
    "sankey_weapon['Crm Cd Desc'] = 'Crime: ' + sankey_weapon['Crm Cd Desc']\n",
    "sankey_weapon['Weapon Desc'] = 'Weapon: ' + sankey_weapon['Weapon Desc']\n",
    "\n",
    "sankey_weapon['source'] = sankey_weapon['Crm Cd Desc'].map(label_to_id)\n",
    "sankey_weapon['target'] = sankey_weapon['Weapon Desc'].map(label_to_id)\n",
    "\n",
    "# Combine all links\n",
    "all_links = pd.concat([\n",
    "    sankey_data[['source', 'target', 'count']],\n",
    "    sankey_weapon[['source', 'target', 'count']]\n",
    "])\n",
    "\n",
    "# --- Step 4: Create the Sankey Diagram ---\n",
    "fig = go.Figure(data=[go.Sankey(\n",
    "    node=dict(\n",
    "        pad=15,\n",
    "        thickness=20,\n",
    "        line=dict(color=\"black\", width=0.5),\n",
    "        label=label_list,\n",
    "        color=\"blue\"\n",
    "    ),\n",
    "    link=dict(\n",
    "        source=all_links['source'],\n",
    "        target=all_links['target'],\n",
    "        value=all_links['count']\n",
    "    ))])\n",
    "\n",
    "fig.update_layout(title_text=\"Sankey Diagram for Cluster 12 Crime Data\", font_size=10)\n",
    "fig.show()\n",
    "\n",
    "# --- Step 5: Save the Plot ---\n",
    "fig.write_html('sankey_plot_12.html')"
   ]
  },
  {
   "cell_type": "code",
   "execution_count": 5,
   "metadata": {},
   "outputs": [
    {
     "data": {
      "application/vnd.plotly.v1+json": {
       "config": {
        "plotlyServerURL": "https://plot.ly"
       },
       "data": [
        {
         "link": {
          "source": [
           0,
           1,
           1,
           1,
           1,
           1,
           1,
           1,
           1,
           2,
           2,
           2,
           2,
           3,
           3,
           3,
           3,
           4,
           4,
           5,
           5,
           5,
           5,
           5,
           5,
           6,
           6,
           6,
           6,
           6,
           6,
           6,
           7,
           7,
           8,
           8,
           8,
           8,
           8,
           9,
           9,
           9,
           9,
           9,
           10,
           10,
           10,
           10,
           10,
           10,
           11,
           11,
           12,
           12,
           12,
           12,
           13,
           13,
           13,
           13,
           13,
           13,
           13,
           14,
           14,
           15,
           15,
           15,
           15,
           15,
           15,
           15,
           15,
           15,
           16,
           16,
           16,
           16,
           16,
           16,
           17,
           17,
           17,
           17,
           17,
           17,
           18,
           18,
           18,
           18,
           18,
           19,
           19,
           19,
           20,
           20,
           20,
           20,
           41,
           34,
           21,
           21,
           21,
           40,
           35,
           22,
           22,
           23,
           24,
           27,
           38,
           28,
           42,
           25,
           25,
           33,
           31,
           30,
           32,
           39,
           29,
           29,
           29,
           26,
           36,
           37,
           37
          ],
          "target": [
           21,
           21,
           21,
           22,
           22,
           23,
           24,
           25,
           26,
           21,
           21,
           23,
           27,
           21,
           28,
           25,
           29,
           21,
           30,
           21,
           21,
           23,
           25,
           30,
           29,
           21,
           21,
           28,
           31,
           32,
           29,
           29,
           21,
           32,
           21,
           21,
           22,
           23,
           26,
           21,
           21,
           21,
           30,
           29,
           21,
           21,
           22,
           31,
           30,
           32,
           21,
           28,
           21,
           21,
           33,
           32,
           34,
           21,
           35,
           29,
           36,
           37,
           37,
           21,
           21,
           21,
           21,
           22,
           38,
           33,
           30,
           29,
           29,
           26,
           21,
           22,
           24,
           30,
           39,
           26,
           21,
           21,
           22,
           24,
           30,
           29,
           21,
           21,
           40,
           31,
           29,
           21,
           32,
           29,
           41,
           21,
           21,
           42,
           44,
           43,
           47,
           43,
           44,
           45,
           48,
           44,
           45,
           45,
           46,
           45,
           44,
           45,
           45,
           43,
           45,
           45,
           45,
           45,
           45,
           45,
           49,
           43,
           45,
           45,
           45,
           50,
           45
          ],
          "value": [
           5,
           24,
           6,
           1,
           1,
           4,
           1,
           1,
           1,
           3,
           3,
           1,
           1,
           2,
           2,
           1,
           1,
           9,
           2,
           7,
           2,
           1,
           1,
           2,
           1,
           1,
           1,
           1,
           1,
           1,
           1,
           1,
           6,
           1,
           4,
           1,
           1,
           1,
           1,
           1,
           2,
           2,
           1,
           1,
           8,
           2,
           1,
           1,
           1,
           1,
           4,
           1,
           9,
           2,
           1,
           1,
           1,
           10,
           1,
           1,
           3,
           1,
           2,
           5,
           1,
           5,
           3,
           1,
           1,
           1,
           1,
           1,
           5,
           1,
           14,
           1,
           1,
           1,
           1,
           2,
           2,
           1,
           1,
           2,
           1,
           1,
           5,
           1,
           1,
           1,
           1,
           9,
           1,
           1,
           1,
           4,
           1,
           1,
           1,
           1,
           1,
           138,
           26,
           1,
           1,
           1,
           6,
           7,
           4,
           1,
           1,
           4,
           1,
           1,
           2,
           2,
           3,
           9,
           5,
           1,
           2,
           1,
           12,
           5,
           3,
           1,
           2
          ]
         },
         "node": {
          "color": "blue",
          "label": [
           "Area: 77th Street",
           "Area: Central",
           "Area: Devonshire",
           "Area: Foothill",
           "Area: Harbor",
           "Area: Hollenbeck",
           "Area: Hollywood",
           "Area: Mission",
           "Area: N Hollywood",
           "Area: Newton",
           "Area: Northeast",
           "Area: Olympic",
           "Area: Pacific",
           "Area: Rampart",
           "Area: Southeast",
           "Area: Southwest",
           "Area: Topanga",
           "Area: Van Nuys",
           "Area: West LA",
           "Area: West Valley",
           "Area: Wilshire",
           "Crime: BATTERY ON A FIREFIGHTER",
           "Crime: BURGLARY",
           "Crime: BURGLARY FROM VEHICLE",
           "Crime: CRIMINAL THREATS - NO WEAPON DISPLAYED",
           "Crime: THEFT FROM MOTOR VEHICLE - GRAND ($950.01 AND OVER)",
           "Crime: VANDALISM - MISDEAMEANOR ($399 OR UNDER)",
           "Crime: DISTURBING THE PEACE",
           "Crime: LETTERS, LEWD  -  TELEPHONE CALLS, LEWD",
           "Crime: VANDALISM - FELONY ($400 & OVER, ALL CHURCH VANDALISMS)",
           "Crime: THEFT PLAIN - PETTY ($950 & UNDER)",
           "Crime: THEFT OF IDENTITY",
           "Crime: THEFT-GRAND ($950.01 & OVER)EXCPT,GUNS,FOWL,LIVESTK,PROD",
           "Crime: THEFT FROM MOTOR VEHICLE - PETTY ($950 & UNDER)",
           "Crime: BATTERY - SIMPLE ASSAULT",
           "Crime: BRANDISH WEAPON",
           "Crime: VIOLATION OF COURT ORDER",
           "Crime: VIOLATION OF RESTRAINING ORDER",
           "Crime: INTIMATE PARTNER - AGGRAVATED ASSAULT",
           "Crime: TRESPASSING",
           "Crime: BIKE - STOLEN",
           "Crime: ASSAULT WITH DEADLY WEAPON ON POLICE OFFICER",
           "Crime: PICKPOCKET",
           "Weapon: STRONG-ARM (HANDS, FIST, FEET OR BODILY FORCE)",
           "Weapon: UNKNOWN WEAPON/OTHER WEAPON",
           "Weapon: Unknown",
           "Weapon: VERBAL THREAT",
           "Weapon: BLUNT INSTRUMENT",
           "Weapon: KNIFE WITH BLADE 6INCHES OR LESS",
           "Weapon: ROCK/THROWN OBJECT",
           "Weapon: PHYSICAL PRESENCE"
          ],
          "line": {
           "color": "black",
           "width": 0.5
          },
          "pad": 15,
          "thickness": 20
         },
         "type": "sankey"
        }
       ],
       "layout": {
        "font": {
         "size": 10
        },
        "template": {
         "data": {
          "bar": [
           {
            "error_x": {
             "color": "#2a3f5f"
            },
            "error_y": {
             "color": "#2a3f5f"
            },
            "marker": {
             "line": {
              "color": "#E5ECF6",
              "width": 0.5
             },
             "pattern": {
              "fillmode": "overlay",
              "size": 10,
              "solidity": 0.2
             }
            },
            "type": "bar"
           }
          ],
          "barpolar": [
           {
            "marker": {
             "line": {
              "color": "#E5ECF6",
              "width": 0.5
             },
             "pattern": {
              "fillmode": "overlay",
              "size": 10,
              "solidity": 0.2
             }
            },
            "type": "barpolar"
           }
          ],
          "carpet": [
           {
            "aaxis": {
             "endlinecolor": "#2a3f5f",
             "gridcolor": "white",
             "linecolor": "white",
             "minorgridcolor": "white",
             "startlinecolor": "#2a3f5f"
            },
            "baxis": {
             "endlinecolor": "#2a3f5f",
             "gridcolor": "white",
             "linecolor": "white",
             "minorgridcolor": "white",
             "startlinecolor": "#2a3f5f"
            },
            "type": "carpet"
           }
          ],
          "choropleth": [
           {
            "colorbar": {
             "outlinewidth": 0,
             "ticks": ""
            },
            "type": "choropleth"
           }
          ],
          "contour": [
           {
            "colorbar": {
             "outlinewidth": 0,
             "ticks": ""
            },
            "colorscale": [
             [
              0,
              "#0d0887"
             ],
             [
              0.1111111111111111,
              "#46039f"
             ],
             [
              0.2222222222222222,
              "#7201a8"
             ],
             [
              0.3333333333333333,
              "#9c179e"
             ],
             [
              0.4444444444444444,
              "#bd3786"
             ],
             [
              0.5555555555555556,
              "#d8576b"
             ],
             [
              0.6666666666666666,
              "#ed7953"
             ],
             [
              0.7777777777777778,
              "#fb9f3a"
             ],
             [
              0.8888888888888888,
              "#fdca26"
             ],
             [
              1,
              "#f0f921"
             ]
            ],
            "type": "contour"
           }
          ],
          "contourcarpet": [
           {
            "colorbar": {
             "outlinewidth": 0,
             "ticks": ""
            },
            "type": "contourcarpet"
           }
          ],
          "heatmap": [
           {
            "colorbar": {
             "outlinewidth": 0,
             "ticks": ""
            },
            "colorscale": [
             [
              0,
              "#0d0887"
             ],
             [
              0.1111111111111111,
              "#46039f"
             ],
             [
              0.2222222222222222,
              "#7201a8"
             ],
             [
              0.3333333333333333,
              "#9c179e"
             ],
             [
              0.4444444444444444,
              "#bd3786"
             ],
             [
              0.5555555555555556,
              "#d8576b"
             ],
             [
              0.6666666666666666,
              "#ed7953"
             ],
             [
              0.7777777777777778,
              "#fb9f3a"
             ],
             [
              0.8888888888888888,
              "#fdca26"
             ],
             [
              1,
              "#f0f921"
             ]
            ],
            "type": "heatmap"
           }
          ],
          "heatmapgl": [
           {
            "colorbar": {
             "outlinewidth": 0,
             "ticks": ""
            },
            "colorscale": [
             [
              0,
              "#0d0887"
             ],
             [
              0.1111111111111111,
              "#46039f"
             ],
             [
              0.2222222222222222,
              "#7201a8"
             ],
             [
              0.3333333333333333,
              "#9c179e"
             ],
             [
              0.4444444444444444,
              "#bd3786"
             ],
             [
              0.5555555555555556,
              "#d8576b"
             ],
             [
              0.6666666666666666,
              "#ed7953"
             ],
             [
              0.7777777777777778,
              "#fb9f3a"
             ],
             [
              0.8888888888888888,
              "#fdca26"
             ],
             [
              1,
              "#f0f921"
             ]
            ],
            "type": "heatmapgl"
           }
          ],
          "histogram": [
           {
            "marker": {
             "pattern": {
              "fillmode": "overlay",
              "size": 10,
              "solidity": 0.2
             }
            },
            "type": "histogram"
           }
          ],
          "histogram2d": [
           {
            "colorbar": {
             "outlinewidth": 0,
             "ticks": ""
            },
            "colorscale": [
             [
              0,
              "#0d0887"
             ],
             [
              0.1111111111111111,
              "#46039f"
             ],
             [
              0.2222222222222222,
              "#7201a8"
             ],
             [
              0.3333333333333333,
              "#9c179e"
             ],
             [
              0.4444444444444444,
              "#bd3786"
             ],
             [
              0.5555555555555556,
              "#d8576b"
             ],
             [
              0.6666666666666666,
              "#ed7953"
             ],
             [
              0.7777777777777778,
              "#fb9f3a"
             ],
             [
              0.8888888888888888,
              "#fdca26"
             ],
             [
              1,
              "#f0f921"
             ]
            ],
            "type": "histogram2d"
           }
          ],
          "histogram2dcontour": [
           {
            "colorbar": {
             "outlinewidth": 0,
             "ticks": ""
            },
            "colorscale": [
             [
              0,
              "#0d0887"
             ],
             [
              0.1111111111111111,
              "#46039f"
             ],
             [
              0.2222222222222222,
              "#7201a8"
             ],
             [
              0.3333333333333333,
              "#9c179e"
             ],
             [
              0.4444444444444444,
              "#bd3786"
             ],
             [
              0.5555555555555556,
              "#d8576b"
             ],
             [
              0.6666666666666666,
              "#ed7953"
             ],
             [
              0.7777777777777778,
              "#fb9f3a"
             ],
             [
              0.8888888888888888,
              "#fdca26"
             ],
             [
              1,
              "#f0f921"
             ]
            ],
            "type": "histogram2dcontour"
           }
          ],
          "mesh3d": [
           {
            "colorbar": {
             "outlinewidth": 0,
             "ticks": ""
            },
            "type": "mesh3d"
           }
          ],
          "parcoords": [
           {
            "line": {
             "colorbar": {
              "outlinewidth": 0,
              "ticks": ""
             }
            },
            "type": "parcoords"
           }
          ],
          "pie": [
           {
            "automargin": true,
            "type": "pie"
           }
          ],
          "scatter": [
           {
            "fillpattern": {
             "fillmode": "overlay",
             "size": 10,
             "solidity": 0.2
            },
            "type": "scatter"
           }
          ],
          "scatter3d": [
           {
            "line": {
             "colorbar": {
              "outlinewidth": 0,
              "ticks": ""
             }
            },
            "marker": {
             "colorbar": {
              "outlinewidth": 0,
              "ticks": ""
             }
            },
            "type": "scatter3d"
           }
          ],
          "scattercarpet": [
           {
            "marker": {
             "colorbar": {
              "outlinewidth": 0,
              "ticks": ""
             }
            },
            "type": "scattercarpet"
           }
          ],
          "scattergeo": [
           {
            "marker": {
             "colorbar": {
              "outlinewidth": 0,
              "ticks": ""
             }
            },
            "type": "scattergeo"
           }
          ],
          "scattergl": [
           {
            "marker": {
             "colorbar": {
              "outlinewidth": 0,
              "ticks": ""
             }
            },
            "type": "scattergl"
           }
          ],
          "scattermapbox": [
           {
            "marker": {
             "colorbar": {
              "outlinewidth": 0,
              "ticks": ""
             }
            },
            "type": "scattermapbox"
           }
          ],
          "scatterpolar": [
           {
            "marker": {
             "colorbar": {
              "outlinewidth": 0,
              "ticks": ""
             }
            },
            "type": "scatterpolar"
           }
          ],
          "scatterpolargl": [
           {
            "marker": {
             "colorbar": {
              "outlinewidth": 0,
              "ticks": ""
             }
            },
            "type": "scatterpolargl"
           }
          ],
          "scatterternary": [
           {
            "marker": {
             "colorbar": {
              "outlinewidth": 0,
              "ticks": ""
             }
            },
            "type": "scatterternary"
           }
          ],
          "surface": [
           {
            "colorbar": {
             "outlinewidth": 0,
             "ticks": ""
            },
            "colorscale": [
             [
              0,
              "#0d0887"
             ],
             [
              0.1111111111111111,
              "#46039f"
             ],
             [
              0.2222222222222222,
              "#7201a8"
             ],
             [
              0.3333333333333333,
              "#9c179e"
             ],
             [
              0.4444444444444444,
              "#bd3786"
             ],
             [
              0.5555555555555556,
              "#d8576b"
             ],
             [
              0.6666666666666666,
              "#ed7953"
             ],
             [
              0.7777777777777778,
              "#fb9f3a"
             ],
             [
              0.8888888888888888,
              "#fdca26"
             ],
             [
              1,
              "#f0f921"
             ]
            ],
            "type": "surface"
           }
          ],
          "table": [
           {
            "cells": {
             "fill": {
              "color": "#EBF0F8"
             },
             "line": {
              "color": "white"
             }
            },
            "header": {
             "fill": {
              "color": "#C8D4E3"
             },
             "line": {
              "color": "white"
             }
            },
            "type": "table"
           }
          ]
         },
         "layout": {
          "annotationdefaults": {
           "arrowcolor": "#2a3f5f",
           "arrowhead": 0,
           "arrowwidth": 1
          },
          "autotypenumbers": "strict",
          "coloraxis": {
           "colorbar": {
            "outlinewidth": 0,
            "ticks": ""
           }
          },
          "colorscale": {
           "diverging": [
            [
             0,
             "#8e0152"
            ],
            [
             0.1,
             "#c51b7d"
            ],
            [
             0.2,
             "#de77ae"
            ],
            [
             0.3,
             "#f1b6da"
            ],
            [
             0.4,
             "#fde0ef"
            ],
            [
             0.5,
             "#f7f7f7"
            ],
            [
             0.6,
             "#e6f5d0"
            ],
            [
             0.7,
             "#b8e186"
            ],
            [
             0.8,
             "#7fbc41"
            ],
            [
             0.9,
             "#4d9221"
            ],
            [
             1,
             "#276419"
            ]
           ],
           "sequential": [
            [
             0,
             "#0d0887"
            ],
            [
             0.1111111111111111,
             "#46039f"
            ],
            [
             0.2222222222222222,
             "#7201a8"
            ],
            [
             0.3333333333333333,
             "#9c179e"
            ],
            [
             0.4444444444444444,
             "#bd3786"
            ],
            [
             0.5555555555555556,
             "#d8576b"
            ],
            [
             0.6666666666666666,
             "#ed7953"
            ],
            [
             0.7777777777777778,
             "#fb9f3a"
            ],
            [
             0.8888888888888888,
             "#fdca26"
            ],
            [
             1,
             "#f0f921"
            ]
           ],
           "sequentialminus": [
            [
             0,
             "#0d0887"
            ],
            [
             0.1111111111111111,
             "#46039f"
            ],
            [
             0.2222222222222222,
             "#7201a8"
            ],
            [
             0.3333333333333333,
             "#9c179e"
            ],
            [
             0.4444444444444444,
             "#bd3786"
            ],
            [
             0.5555555555555556,
             "#d8576b"
            ],
            [
             0.6666666666666666,
             "#ed7953"
            ],
            [
             0.7777777777777778,
             "#fb9f3a"
            ],
            [
             0.8888888888888888,
             "#fdca26"
            ],
            [
             1,
             "#f0f921"
            ]
           ]
          },
          "colorway": [
           "#636efa",
           "#EF553B",
           "#00cc96",
           "#ab63fa",
           "#FFA15A",
           "#19d3f3",
           "#FF6692",
           "#B6E880",
           "#FF97FF",
           "#FECB52"
          ],
          "font": {
           "color": "#2a3f5f"
          },
          "geo": {
           "bgcolor": "white",
           "lakecolor": "white",
           "landcolor": "#E5ECF6",
           "showlakes": true,
           "showland": true,
           "subunitcolor": "white"
          },
          "hoverlabel": {
           "align": "left"
          },
          "hovermode": "closest",
          "mapbox": {
           "style": "light"
          },
          "paper_bgcolor": "white",
          "plot_bgcolor": "#E5ECF6",
          "polar": {
           "angularaxis": {
            "gridcolor": "white",
            "linecolor": "white",
            "ticks": ""
           },
           "bgcolor": "#E5ECF6",
           "radialaxis": {
            "gridcolor": "white",
            "linecolor": "white",
            "ticks": ""
           }
          },
          "scene": {
           "xaxis": {
            "backgroundcolor": "#E5ECF6",
            "gridcolor": "white",
            "gridwidth": 2,
            "linecolor": "white",
            "showbackground": true,
            "ticks": "",
            "zerolinecolor": "white"
           },
           "yaxis": {
            "backgroundcolor": "#E5ECF6",
            "gridcolor": "white",
            "gridwidth": 2,
            "linecolor": "white",
            "showbackground": true,
            "ticks": "",
            "zerolinecolor": "white"
           },
           "zaxis": {
            "backgroundcolor": "#E5ECF6",
            "gridcolor": "white",
            "gridwidth": 2,
            "linecolor": "white",
            "showbackground": true,
            "ticks": "",
            "zerolinecolor": "white"
           }
          },
          "shapedefaults": {
           "line": {
            "color": "#2a3f5f"
           }
          },
          "ternary": {
           "aaxis": {
            "gridcolor": "white",
            "linecolor": "white",
            "ticks": ""
           },
           "baxis": {
            "gridcolor": "white",
            "linecolor": "white",
            "ticks": ""
           },
           "bgcolor": "#E5ECF6",
           "caxis": {
            "gridcolor": "white",
            "linecolor": "white",
            "ticks": ""
           }
          },
          "title": {
           "x": 0.05
          },
          "xaxis": {
           "automargin": true,
           "gridcolor": "white",
           "linecolor": "white",
           "ticks": "",
           "title": {
            "standoff": 15
           },
           "zerolinecolor": "white",
           "zerolinewidth": 2
          },
          "yaxis": {
           "automargin": true,
           "gridcolor": "white",
           "linecolor": "white",
           "ticks": "",
           "title": {
            "standoff": 15
           },
           "zerolinecolor": "white",
           "zerolinewidth": 2
          }
         }
        },
        "title": {
         "text": "Sankey Diagram for Cluster 15 Crime Data"
        }
       }
      }
     },
     "metadata": {},
     "output_type": "display_data"
    }
   ],
   "source": [
    "import pandas as pd\n",
    "import plotly.graph_objects as go\n",
    "\n",
    "# --- Step 1: Load the Dataset ---\n",
    "file_path = 'Clustered_LA_Crime_Data.csv'  # Replace with your actual file path\n",
    "cl_df = pd.read_csv(file_path)\n",
    "\n",
    "# Choose data points only in cluster 15\n",
    "cl_df = cl_df[cl_df['Cluster'] == 15]\n",
    "\n",
    "# Updated columns list without duplicate 'TIME OCC'\n",
    "columns = [\n",
    "    'AREA NAME', 'Vict Age', 'Vict Sex', 'Vict Descent', 'Cluster',\n",
    "    'Premis Desc', 'Status Desc', 'TIME OCC', 'Month', 'Year',\n",
    "    'Crm Cd Desc', 'Weapon Desc'\n",
    "]\n",
    "plot_data = cl_df[columns].dropna()  # Drop rows with missing values\n",
    "\n",
    "# --- Step 2: Select Dimensions for Sankey ---\n",
    "# Selecting a subset for clarity\n",
    "sankey_dimensions = ['AREA NAME', 'Crm Cd Desc', 'Weapon Desc']\n",
    "\n",
    "# Aggregate data\n",
    "sankey_data = plot_data.groupby(sankey_dimensions).size().reset_index(name='count')\n",
    "\n",
    "# --- Step 3: Map Categories to Unique IDs with Column Names ---\n",
    "# Prefix labels with column names for clarity\n",
    "sankey_data['AREA NAME'] = 'Area: ' + sankey_data['AREA NAME']\n",
    "sankey_data['Crm Cd Desc'] = 'Crime: ' + sankey_data['Crm Cd Desc']\n",
    "sankey_data['Weapon Desc'] = 'Weapon: ' + sankey_data['Weapon Desc']\n",
    "\n",
    "# Create a combined list of unique labels\n",
    "label_list = list(pd.unique(sankey_data[['AREA NAME', 'Crm Cd Desc', 'Weapon Desc']].values.ravel('K')))\n",
    "label_to_id = {label: idx for idx, label in enumerate(label_list)}\n",
    "\n",
    "# Map source and target with updated labels\n",
    "sankey_data['source'] = sankey_data['AREA NAME'].map(label_to_id)\n",
    "sankey_data['target'] = sankey_data['Crm Cd Desc'].map(label_to_id)\n",
    "\n",
    "# To add Weapon as the next step, create additional links\n",
    "sankey_weapon = plot_data.groupby(['Crm Cd Desc', 'Weapon Desc']).size().reset_index(name='count')\n",
    "\n",
    "# Prefix labels in sankey_weapon\n",
    "sankey_weapon['Crm Cd Desc'] = 'Crime: ' + sankey_weapon['Crm Cd Desc']\n",
    "sankey_weapon['Weapon Desc'] = 'Weapon: ' + sankey_weapon['Weapon Desc']\n",
    "\n",
    "sankey_weapon['source'] = sankey_weapon['Crm Cd Desc'].map(label_to_id)\n",
    "sankey_weapon['target'] = sankey_weapon['Weapon Desc'].map(label_to_id)\n",
    "\n",
    "# Combine all links\n",
    "all_links = pd.concat([\n",
    "    sankey_data[['source', 'target', 'count']],\n",
    "    sankey_weapon[['source', 'target', 'count']]\n",
    "])\n",
    "\n",
    "# --- Step 4: Create the Sankey Diagram ---\n",
    "fig = go.Figure(data=[go.Sankey(\n",
    "    node=dict(\n",
    "        pad=15,\n",
    "        thickness=20,\n",
    "        line=dict(color=\"black\", width=0.5),\n",
    "        label=label_list,\n",
    "        color=\"blue\"\n",
    "    ),\n",
    "    link=dict(\n",
    "        source=all_links['source'],\n",
    "        target=all_links['target'],\n",
    "        value=all_links['count']\n",
    "    ))])\n",
    "\n",
    "fig.update_layout(title_text=\"Sankey Diagram for Cluster 15 Crime Data\", font_size=10)\n",
    "fig.show()\n",
    "\n",
    "# --- Step 5: Save the Plot ---\n",
    "fig.write_html('sankey_plot_15.html')"
   ]
  },
  {
   "cell_type": "code",
   "execution_count": 6,
   "metadata": {},
   "outputs": [
    {
     "data": {
      "application/vnd.plotly.v1+json": {
       "config": {
        "plotlyServerURL": "https://plot.ly"
       },
       "data": [
        {
         "link": {
          "source": [
           0,
           0,
           0,
           0,
           0,
           1,
           1,
           1,
           1,
           1,
           1,
           1,
           2,
           2,
           2,
           3,
           4,
           4,
           5,
           5,
           5,
           6,
           6,
           6,
           7,
           7,
           7,
           7,
           7,
           7,
           7,
           7,
           7,
           7,
           8,
           8,
           8,
           8,
           9,
           9,
           9,
           9,
           9,
           10,
           10,
           10,
           10,
           10,
           10,
           10,
           10,
           10,
           11,
           11,
           11,
           11,
           11,
           11,
           11,
           11,
           11,
           11,
           11,
           11,
           11,
           11,
           11,
           11,
           11,
           11,
           11,
           11,
           11,
           11,
           11,
           11,
           11,
           11,
           11,
           11,
           11,
           11,
           11,
           11,
           11,
           11,
           11,
           11,
           11,
           11,
           11,
           11,
           11,
           11,
           11,
           11,
           11,
           11,
           11,
           11,
           11,
           11,
           11,
           11,
           11,
           11,
           11,
           11,
           11,
           11,
           11,
           11,
           11,
           11,
           11,
           11,
           11,
           11,
           11,
           11,
           11,
           11,
           11,
           11,
           11,
           11,
           11,
           11,
           11,
           11,
           11,
           11,
           11,
           11,
           11,
           11,
           11,
           11,
           11,
           11,
           11,
           11,
           11,
           11,
           11,
           11,
           11,
           11,
           12,
           12,
           12,
           13,
           14,
           15,
           16,
           16,
           16,
           16,
           16,
           16,
           27,
           27,
           27,
           27,
           27,
           27,
           27,
           27,
           27,
           27,
           27,
           27,
           27,
           27,
           27,
           27,
           27,
           27,
           27,
           27,
           27,
           27,
           27,
           27,
           27,
           22,
           22,
           22,
           22,
           22,
           22,
           17,
           17,
           17,
           17,
           36,
           37,
           23,
           18,
           18,
           18,
           18,
           18,
           18,
           18,
           18,
           18,
           18,
           18,
           18,
           18,
           30,
           29,
           24,
           38,
           39,
           39,
           35,
           35,
           35,
           35,
           40,
           51,
           41,
           42,
           42,
           32,
           32,
           43,
           44,
           44,
           44,
           45,
           45,
           45,
           19,
           19,
           46,
           20,
           20,
           20,
           20,
           20,
           20,
           20,
           20,
           20,
           20,
           20,
           20,
           20,
           20,
           20,
           20,
           47,
           48,
           50,
           31,
           21,
           21,
           21,
           33,
           33,
           25,
           34,
           28,
           28,
           26,
           49
          ],
          "target": [
           17,
           18,
           19,
           20,
           21,
           22,
           17,
           23,
           18,
           24,
           25,
           26,
           27,
           17,
           28,
           21,
           18,
           25,
           27,
           29,
           28,
           30,
           31,
           28,
           27,
           17,
           17,
           18,
           32,
           20,
           21,
           33,
           25,
           34,
           27,
           17,
           18,
           21,
           22,
           17,
           21,
           21,
           25,
           27,
           22,
           18,
           18,
           35,
           20,
           21,
           25,
           34,
           27,
           27,
           27,
           27,
           27,
           27,
           27,
           27,
           27,
           27,
           27,
           27,
           27,
           27,
           27,
           27,
           27,
           27,
           27,
           27,
           27,
           27,
           27,
           27,
           22,
           22,
           22,
           17,
           17,
           17,
           17,
           36,
           37,
           18,
           18,
           18,
           18,
           18,
           18,
           18,
           18,
           18,
           18,
           18,
           18,
           18,
           29,
           38,
           39,
           39,
           35,
           35,
           35,
           35,
           40,
           41,
           42,
           42,
           32,
           32,
           43,
           44,
           44,
           44,
           45,
           45,
           45,
           19,
           19,
           46,
           20,
           20,
           20,
           20,
           20,
           20,
           20,
           20,
           20,
           20,
           20,
           20,
           20,
           20,
           20,
           20,
           47,
           48,
           21,
           21,
           33,
           33,
           25,
           34,
           28,
           49,
           20,
           20,
           50,
           27,
           27,
           51,
           27,
           17,
           18,
           20,
           50,
           21,
           62,
           63,
           64,
           53,
           65,
           66,
           67,
           68,
           55,
           69,
           58,
           57,
           70,
           71,
           72,
           59,
           73,
           74,
           75,
           76,
           52,
           77,
           78,
           79,
           56,
           60,
           53,
           55,
           72,
           52,
           80,
           63,
           76,
           52,
           56,
           52,
           52,
           54,
           62,
           53,
           67,
           81,
           55,
           58,
           82,
           72,
           59,
           75,
           78,
           56,
           61,
           54,
           54,
           54,
           54,
           52,
           56,
           83,
           52,
           56,
           61,
           52,
           72,
           70,
           52,
           54,
           52,
           56,
           54,
           52,
           56,
           61,
           56,
           54,
           61,
           52,
           54,
           52,
           62,
           53,
           66,
           55,
           58,
           57,
           72,
           59,
           84,
           75,
           83,
           52,
           77,
           80,
           56,
           61,
           54,
           52,
           54,
           54,
           52,
           56,
           54,
           52,
           54,
           54,
           54,
           52,
           54,
           54,
           54
          ],
          "value": [
           2,
           1,
           1,
           1,
           1,
           1,
           1,
           1,
           2,
           1,
           2,
           1,
           1,
           1,
           1,
           1,
           1,
           1,
           1,
           1,
           1,
           1,
           1,
           1,
           1,
           1,
           1,
           1,
           1,
           1,
           1,
           1,
           3,
           1,
           1,
           2,
           1,
           2,
           1,
           2,
           1,
           3,
           1,
           7,
           1,
           5,
           1,
           2,
           1,
           1,
           1,
           1,
           2,
           1,
           1,
           1,
           3,
           4,
           1,
           6,
           3,
           13,
           10,
           2,
           1,
           5,
           1,
           1,
           2,
           1,
           4,
           16,
           2,
           1,
           3,
           23,
           1,
           6,
           1,
           1,
           1,
           139,
           11,
           2,
           6,
           4,
           1,
           1,
           1,
           3,
           9,
           1,
           1,
           1,
           2,
           1,
           1,
           1,
           1,
           1,
           1,
           1,
           2,
           1,
           1,
           16,
           1,
           1,
           1,
           3,
           7,
           3,
           2,
           12,
           8,
           1,
           1,
           2,
           1,
           1,
           6,
           2,
           1,
           1,
           1,
           2,
           8,
           3,
           4,
           1,
           1,
           3,
           1,
           37,
           1,
           1,
           3,
           2,
           1,
           2,
           1,
           41,
           6,
           19,
           10,
           19,
           1,
           1,
           1,
           1,
           1,
           2,
           1,
           1,
           2,
           2,
           1,
           1,
           1,
           1,
           2,
           1,
           1,
           14,
           1,
           3,
           4,
           1,
           6,
           3,
           13,
           11,
           2,
           1,
           5,
           2,
           1,
           2,
           1,
           4,
           16,
           2,
           1,
           3,
           23,
           1,
           1,
           1,
           1,
           6,
           1,
           1,
           1,
           149,
           13,
           2,
           6,
           1,
           4,
           12,
           1,
           1,
           3,
           11,
           1,
           1,
           1,
           2,
           1,
           1,
           1,
           1,
           2,
           1,
           1,
           1,
           1,
           2,
           1,
           1,
           18,
           1,
           1,
           1,
           1,
           3,
           8,
           3,
           2,
           12,
           8,
           1,
           1,
           2,
           1,
           1,
           7,
           2,
           1,
           2,
           1,
           3,
           9,
           3,
           4,
           1,
           1,
           3,
           1,
           40,
           1,
           1,
           3,
           2,
           1,
           2,
           2,
           1,
           1,
           1,
           51,
           6,
           20,
           18,
           21,
           1,
           3,
           1,
           1
          ]
         },
         "node": {
          "color": "blue",
          "label": [
           "Area: 77th Street",
           "Area: Central",
           "Area: Devonshire",
           "Area: Foothill",
           "Area: Harbor",
           "Area: Mission",
           "Area: N Hollywood",
           "Area: Newton",
           "Area: Northeast",
           "Area: Olympic",
           "Area: Pacific",
           "Area: Rampart",
           "Area: Southeast",
           "Area: Southwest",
           "Area: Topanga",
           "Area: Van Nuys",
           "Area: West Valley",
           "Crime: BATTERY - SIMPLE ASSAULT",
           "Crime: BRANDISH WEAPON",
           "Crime: PICKPOCKET",
           "Crime: ROBBERY",
           "Crime: THEFT PLAIN - PETTY ($950 & UNDER)",
           "Crime: ATTEMPTED ROBBERY",
           "Crime: BIKE - STOLEN",
           "Crime: BURGLARY FROM VEHICLE",
           "Crime: THEFT-GRAND ($950.01 & OVER)EXCPT,GUNS,FOWL,LIVESTK,PROD",
           "Crime: VANDALISM - MISDEAMEANOR ($399 OR UNDER)",
           "Crime: ASSAULT WITH DEADLY WEAPON, AGGRAVATED ASSAULT",
           "Crime: VANDALISM - FELONY ($400 & OVER, ALL CHURCH VANDALISMS)",
           "Crime: BURGLARY",
           "Crime: BUNCO, ATTEMPT",
           "Crime: THEFT OF IDENTITY",
           "Crime: INTIMATE PARTNER - SIMPLE ASSAULT",
           "Crime: THEFT, PERSON",
           "Crime: TRESPASSING",
           "Crime: CRIMINAL THREATS - NO WEAPON DISPLAYED",
           "Crime: BATTERY POLICE (SIMPLE)",
           "Crime: BATTERY WITH SEXUAL CONTACT",
           "Crime: CHILD NEGLECT (SEE 300 W.I.C.)",
           "Crime: CRIMINAL HOMICIDE",
           "Crime: CRM AGNST CHLD (13 OR UNDER) (14-15 & SUSP 10 YRS OLDER)",
           "Crime: EXTORTION",
           "Crime: INDECENT EXPOSURE",
           "Crime: LEWD CONDUCT",
           "Crime: OTHER ASSAULT",
           "Crime: OTHER MISCELLANEOUS CRIME",
           "Crime: RAPE, FORCIBLE",
           "Crime: SHOPLIFTING - PETTY THEFT ($950 & UNDER)",
           "Crime: SODOMY/SEXUAL CONTACT B/W PENIS OF ONE PERS TO ANUS OTH",
           "Crime: VIOLATION OF RESTRAINING ORDER",
           "Crime: THEFT FROM MOTOR VEHICLE - GRAND ($950.01 AND OVER)",
           "Crime: DISTURBING THE PEACE",
           "Weapon: STRONG-ARM (HANDS, FIST, FEET OR BODILY FORCE)",
           "Weapon: BOWIE KNIFE",
           "Weapon: Unknown",
           "Weapon: HAND GUN",
           "Weapon: UNKNOWN WEAPON/OTHER WEAPON",
           "Weapon: MACE/PEPPER SPRAY",
           "Weapon: KNIFE WITH BLADE 6INCHES OR LESS",
           "Weapon: PIPE/METAL PIPE",
           "Weapon: AXE",
           "Weapon: VERBAL THREAT",
           "Weapon: AIR PISTOL/REVOLVER/RIFLE/BB GUN",
           "Weapon: BELT FLAILING INSTRUMENT/CHAIN",
           "Weapon: BOARD",
           "Weapon: BRASS KNUCKLES",
           "Weapon: CLUB/BAT",
           "Weapon: FOLDING KNIFE",
           "Weapon: GLASS",
           "Weapon: KITCHEN KNIFE",
           "Weapon: MACHETE",
           "Weapon: OTHER CUTTING INSTRUMENT",
           "Weapon: OTHER KNIFE",
           "Weapon: ROCK/THROWN OBJECT",
           "Weapon: SCISSORS",
           "Weapon: SEMI-AUTOMATIC PISTOL",
           "Weapon: STICK",
           "Weapon: SWITCH BLADE",
           "Weapon: UNKNOWN FIREARM",
           "Weapon: UNKNOWN TYPE CUTTING INSTRUMENT",
           "Weapon: TOY GUN",
           "Weapon: HAMMER",
           "Weapon: KNIFE WITH BLADE OVER 6 INCHES IN LENGTH",
           "Weapon: SIMULATED GUN",
           "Weapon: SCREWDRIVER"
          ],
          "line": {
           "color": "black",
           "width": 0.5
          },
          "pad": 15,
          "thickness": 20
         },
         "type": "sankey"
        }
       ],
       "layout": {
        "font": {
         "size": 10
        },
        "template": {
         "data": {
          "bar": [
           {
            "error_x": {
             "color": "#2a3f5f"
            },
            "error_y": {
             "color": "#2a3f5f"
            },
            "marker": {
             "line": {
              "color": "#E5ECF6",
              "width": 0.5
             },
             "pattern": {
              "fillmode": "overlay",
              "size": 10,
              "solidity": 0.2
             }
            },
            "type": "bar"
           }
          ],
          "barpolar": [
           {
            "marker": {
             "line": {
              "color": "#E5ECF6",
              "width": 0.5
             },
             "pattern": {
              "fillmode": "overlay",
              "size": 10,
              "solidity": 0.2
             }
            },
            "type": "barpolar"
           }
          ],
          "carpet": [
           {
            "aaxis": {
             "endlinecolor": "#2a3f5f",
             "gridcolor": "white",
             "linecolor": "white",
             "minorgridcolor": "white",
             "startlinecolor": "#2a3f5f"
            },
            "baxis": {
             "endlinecolor": "#2a3f5f",
             "gridcolor": "white",
             "linecolor": "white",
             "minorgridcolor": "white",
             "startlinecolor": "#2a3f5f"
            },
            "type": "carpet"
           }
          ],
          "choropleth": [
           {
            "colorbar": {
             "outlinewidth": 0,
             "ticks": ""
            },
            "type": "choropleth"
           }
          ],
          "contour": [
           {
            "colorbar": {
             "outlinewidth": 0,
             "ticks": ""
            },
            "colorscale": [
             [
              0,
              "#0d0887"
             ],
             [
              0.1111111111111111,
              "#46039f"
             ],
             [
              0.2222222222222222,
              "#7201a8"
             ],
             [
              0.3333333333333333,
              "#9c179e"
             ],
             [
              0.4444444444444444,
              "#bd3786"
             ],
             [
              0.5555555555555556,
              "#d8576b"
             ],
             [
              0.6666666666666666,
              "#ed7953"
             ],
             [
              0.7777777777777778,
              "#fb9f3a"
             ],
             [
              0.8888888888888888,
              "#fdca26"
             ],
             [
              1,
              "#f0f921"
             ]
            ],
            "type": "contour"
           }
          ],
          "contourcarpet": [
           {
            "colorbar": {
             "outlinewidth": 0,
             "ticks": ""
            },
            "type": "contourcarpet"
           }
          ],
          "heatmap": [
           {
            "colorbar": {
             "outlinewidth": 0,
             "ticks": ""
            },
            "colorscale": [
             [
              0,
              "#0d0887"
             ],
             [
              0.1111111111111111,
              "#46039f"
             ],
             [
              0.2222222222222222,
              "#7201a8"
             ],
             [
              0.3333333333333333,
              "#9c179e"
             ],
             [
              0.4444444444444444,
              "#bd3786"
             ],
             [
              0.5555555555555556,
              "#d8576b"
             ],
             [
              0.6666666666666666,
              "#ed7953"
             ],
             [
              0.7777777777777778,
              "#fb9f3a"
             ],
             [
              0.8888888888888888,
              "#fdca26"
             ],
             [
              1,
              "#f0f921"
             ]
            ],
            "type": "heatmap"
           }
          ],
          "heatmapgl": [
           {
            "colorbar": {
             "outlinewidth": 0,
             "ticks": ""
            },
            "colorscale": [
             [
              0,
              "#0d0887"
             ],
             [
              0.1111111111111111,
              "#46039f"
             ],
             [
              0.2222222222222222,
              "#7201a8"
             ],
             [
              0.3333333333333333,
              "#9c179e"
             ],
             [
              0.4444444444444444,
              "#bd3786"
             ],
             [
              0.5555555555555556,
              "#d8576b"
             ],
             [
              0.6666666666666666,
              "#ed7953"
             ],
             [
              0.7777777777777778,
              "#fb9f3a"
             ],
             [
              0.8888888888888888,
              "#fdca26"
             ],
             [
              1,
              "#f0f921"
             ]
            ],
            "type": "heatmapgl"
           }
          ],
          "histogram": [
           {
            "marker": {
             "pattern": {
              "fillmode": "overlay",
              "size": 10,
              "solidity": 0.2
             }
            },
            "type": "histogram"
           }
          ],
          "histogram2d": [
           {
            "colorbar": {
             "outlinewidth": 0,
             "ticks": ""
            },
            "colorscale": [
             [
              0,
              "#0d0887"
             ],
             [
              0.1111111111111111,
              "#46039f"
             ],
             [
              0.2222222222222222,
              "#7201a8"
             ],
             [
              0.3333333333333333,
              "#9c179e"
             ],
             [
              0.4444444444444444,
              "#bd3786"
             ],
             [
              0.5555555555555556,
              "#d8576b"
             ],
             [
              0.6666666666666666,
              "#ed7953"
             ],
             [
              0.7777777777777778,
              "#fb9f3a"
             ],
             [
              0.8888888888888888,
              "#fdca26"
             ],
             [
              1,
              "#f0f921"
             ]
            ],
            "type": "histogram2d"
           }
          ],
          "histogram2dcontour": [
           {
            "colorbar": {
             "outlinewidth": 0,
             "ticks": ""
            },
            "colorscale": [
             [
              0,
              "#0d0887"
             ],
             [
              0.1111111111111111,
              "#46039f"
             ],
             [
              0.2222222222222222,
              "#7201a8"
             ],
             [
              0.3333333333333333,
              "#9c179e"
             ],
             [
              0.4444444444444444,
              "#bd3786"
             ],
             [
              0.5555555555555556,
              "#d8576b"
             ],
             [
              0.6666666666666666,
              "#ed7953"
             ],
             [
              0.7777777777777778,
              "#fb9f3a"
             ],
             [
              0.8888888888888888,
              "#fdca26"
             ],
             [
              1,
              "#f0f921"
             ]
            ],
            "type": "histogram2dcontour"
           }
          ],
          "mesh3d": [
           {
            "colorbar": {
             "outlinewidth": 0,
             "ticks": ""
            },
            "type": "mesh3d"
           }
          ],
          "parcoords": [
           {
            "line": {
             "colorbar": {
              "outlinewidth": 0,
              "ticks": ""
             }
            },
            "type": "parcoords"
           }
          ],
          "pie": [
           {
            "automargin": true,
            "type": "pie"
           }
          ],
          "scatter": [
           {
            "fillpattern": {
             "fillmode": "overlay",
             "size": 10,
             "solidity": 0.2
            },
            "type": "scatter"
           }
          ],
          "scatter3d": [
           {
            "line": {
             "colorbar": {
              "outlinewidth": 0,
              "ticks": ""
             }
            },
            "marker": {
             "colorbar": {
              "outlinewidth": 0,
              "ticks": ""
             }
            },
            "type": "scatter3d"
           }
          ],
          "scattercarpet": [
           {
            "marker": {
             "colorbar": {
              "outlinewidth": 0,
              "ticks": ""
             }
            },
            "type": "scattercarpet"
           }
          ],
          "scattergeo": [
           {
            "marker": {
             "colorbar": {
              "outlinewidth": 0,
              "ticks": ""
             }
            },
            "type": "scattergeo"
           }
          ],
          "scattergl": [
           {
            "marker": {
             "colorbar": {
              "outlinewidth": 0,
              "ticks": ""
             }
            },
            "type": "scattergl"
           }
          ],
          "scattermapbox": [
           {
            "marker": {
             "colorbar": {
              "outlinewidth": 0,
              "ticks": ""
             }
            },
            "type": "scattermapbox"
           }
          ],
          "scatterpolar": [
           {
            "marker": {
             "colorbar": {
              "outlinewidth": 0,
              "ticks": ""
             }
            },
            "type": "scatterpolar"
           }
          ],
          "scatterpolargl": [
           {
            "marker": {
             "colorbar": {
              "outlinewidth": 0,
              "ticks": ""
             }
            },
            "type": "scatterpolargl"
           }
          ],
          "scatterternary": [
           {
            "marker": {
             "colorbar": {
              "outlinewidth": 0,
              "ticks": ""
             }
            },
            "type": "scatterternary"
           }
          ],
          "surface": [
           {
            "colorbar": {
             "outlinewidth": 0,
             "ticks": ""
            },
            "colorscale": [
             [
              0,
              "#0d0887"
             ],
             [
              0.1111111111111111,
              "#46039f"
             ],
             [
              0.2222222222222222,
              "#7201a8"
             ],
             [
              0.3333333333333333,
              "#9c179e"
             ],
             [
              0.4444444444444444,
              "#bd3786"
             ],
             [
              0.5555555555555556,
              "#d8576b"
             ],
             [
              0.6666666666666666,
              "#ed7953"
             ],
             [
              0.7777777777777778,
              "#fb9f3a"
             ],
             [
              0.8888888888888888,
              "#fdca26"
             ],
             [
              1,
              "#f0f921"
             ]
            ],
            "type": "surface"
           }
          ],
          "table": [
           {
            "cells": {
             "fill": {
              "color": "#EBF0F8"
             },
             "line": {
              "color": "white"
             }
            },
            "header": {
             "fill": {
              "color": "#C8D4E3"
             },
             "line": {
              "color": "white"
             }
            },
            "type": "table"
           }
          ]
         },
         "layout": {
          "annotationdefaults": {
           "arrowcolor": "#2a3f5f",
           "arrowhead": 0,
           "arrowwidth": 1
          },
          "autotypenumbers": "strict",
          "coloraxis": {
           "colorbar": {
            "outlinewidth": 0,
            "ticks": ""
           }
          },
          "colorscale": {
           "diverging": [
            [
             0,
             "#8e0152"
            ],
            [
             0.1,
             "#c51b7d"
            ],
            [
             0.2,
             "#de77ae"
            ],
            [
             0.3,
             "#f1b6da"
            ],
            [
             0.4,
             "#fde0ef"
            ],
            [
             0.5,
             "#f7f7f7"
            ],
            [
             0.6,
             "#e6f5d0"
            ],
            [
             0.7,
             "#b8e186"
            ],
            [
             0.8,
             "#7fbc41"
            ],
            [
             0.9,
             "#4d9221"
            ],
            [
             1,
             "#276419"
            ]
           ],
           "sequential": [
            [
             0,
             "#0d0887"
            ],
            [
             0.1111111111111111,
             "#46039f"
            ],
            [
             0.2222222222222222,
             "#7201a8"
            ],
            [
             0.3333333333333333,
             "#9c179e"
            ],
            [
             0.4444444444444444,
             "#bd3786"
            ],
            [
             0.5555555555555556,
             "#d8576b"
            ],
            [
             0.6666666666666666,
             "#ed7953"
            ],
            [
             0.7777777777777778,
             "#fb9f3a"
            ],
            [
             0.8888888888888888,
             "#fdca26"
            ],
            [
             1,
             "#f0f921"
            ]
           ],
           "sequentialminus": [
            [
             0,
             "#0d0887"
            ],
            [
             0.1111111111111111,
             "#46039f"
            ],
            [
             0.2222222222222222,
             "#7201a8"
            ],
            [
             0.3333333333333333,
             "#9c179e"
            ],
            [
             0.4444444444444444,
             "#bd3786"
            ],
            [
             0.5555555555555556,
             "#d8576b"
            ],
            [
             0.6666666666666666,
             "#ed7953"
            ],
            [
             0.7777777777777778,
             "#fb9f3a"
            ],
            [
             0.8888888888888888,
             "#fdca26"
            ],
            [
             1,
             "#f0f921"
            ]
           ]
          },
          "colorway": [
           "#636efa",
           "#EF553B",
           "#00cc96",
           "#ab63fa",
           "#FFA15A",
           "#19d3f3",
           "#FF6692",
           "#B6E880",
           "#FF97FF",
           "#FECB52"
          ],
          "font": {
           "color": "#2a3f5f"
          },
          "geo": {
           "bgcolor": "white",
           "lakecolor": "white",
           "landcolor": "#E5ECF6",
           "showlakes": true,
           "showland": true,
           "subunitcolor": "white"
          },
          "hoverlabel": {
           "align": "left"
          },
          "hovermode": "closest",
          "mapbox": {
           "style": "light"
          },
          "paper_bgcolor": "white",
          "plot_bgcolor": "#E5ECF6",
          "polar": {
           "angularaxis": {
            "gridcolor": "white",
            "linecolor": "white",
            "ticks": ""
           },
           "bgcolor": "#E5ECF6",
           "radialaxis": {
            "gridcolor": "white",
            "linecolor": "white",
            "ticks": ""
           }
          },
          "scene": {
           "xaxis": {
            "backgroundcolor": "#E5ECF6",
            "gridcolor": "white",
            "gridwidth": 2,
            "linecolor": "white",
            "showbackground": true,
            "ticks": "",
            "zerolinecolor": "white"
           },
           "yaxis": {
            "backgroundcolor": "#E5ECF6",
            "gridcolor": "white",
            "gridwidth": 2,
            "linecolor": "white",
            "showbackground": true,
            "ticks": "",
            "zerolinecolor": "white"
           },
           "zaxis": {
            "backgroundcolor": "#E5ECF6",
            "gridcolor": "white",
            "gridwidth": 2,
            "linecolor": "white",
            "showbackground": true,
            "ticks": "",
            "zerolinecolor": "white"
           }
          },
          "shapedefaults": {
           "line": {
            "color": "#2a3f5f"
           }
          },
          "ternary": {
           "aaxis": {
            "gridcolor": "white",
            "linecolor": "white",
            "ticks": ""
           },
           "baxis": {
            "gridcolor": "white",
            "linecolor": "white",
            "ticks": ""
           },
           "bgcolor": "#E5ECF6",
           "caxis": {
            "gridcolor": "white",
            "linecolor": "white",
            "ticks": ""
           }
          },
          "title": {
           "x": 0.05
          },
          "xaxis": {
           "automargin": true,
           "gridcolor": "white",
           "linecolor": "white",
           "ticks": "",
           "title": {
            "standoff": 15
           },
           "zerolinecolor": "white",
           "zerolinewidth": 2
          },
          "yaxis": {
           "automargin": true,
           "gridcolor": "white",
           "linecolor": "white",
           "ticks": "",
           "title": {
            "standoff": 15
           },
           "zerolinecolor": "white",
           "zerolinewidth": 2
          }
         }
        },
        "title": {
         "text": "Sankey Diagram for Cluster 18 Crime Data"
        }
       }
      }
     },
     "metadata": {},
     "output_type": "display_data"
    }
   ],
   "source": [
    "import pandas as pd\n",
    "import plotly.graph_objects as go\n",
    "\n",
    "# --- Step 1: Load the Dataset ---\n",
    "file_path = 'Clustered_LA_Crime_Data.csv'  # Replace with your actual file path\n",
    "cl_df = pd.read_csv(file_path)\n",
    "\n",
    "# Choose data points only in cluster 18\n",
    "cl_df = cl_df[cl_df['Cluster'] == 18]\n",
    "\n",
    "# Updated columns list without duplicate 'TIME OCC'\n",
    "columns = [\n",
    "    'AREA NAME', 'Vict Age', 'Vict Sex', 'Vict Descent', 'Cluster',\n",
    "    'Premis Desc', 'Status Desc', 'TIME OCC', 'Month', 'Year',\n",
    "    'Crm Cd Desc', 'Weapon Desc'\n",
    "]\n",
    "plot_data = cl_df[columns].dropna()  # Drop rows with missing values\n",
    "\n",
    "# --- Step 2: Select Dimensions for Sankey ---\n",
    "# Selecting a subset for clarity\n",
    "sankey_dimensions = ['AREA NAME', 'Crm Cd Desc', 'Weapon Desc']\n",
    "\n",
    "# Aggregate data\n",
    "sankey_data = plot_data.groupby(sankey_dimensions).size().reset_index(name='count')\n",
    "\n",
    "# --- Step 3: Map Categories to Unique IDs with Column Names ---\n",
    "# Prefix labels with column names for clarity\n",
    "sankey_data['AREA NAME'] = 'Area: ' + sankey_data['AREA NAME']\n",
    "sankey_data['Crm Cd Desc'] = 'Crime: ' + sankey_data['Crm Cd Desc']\n",
    "sankey_data['Weapon Desc'] = 'Weapon: ' + sankey_data['Weapon Desc']\n",
    "\n",
    "# Create a combined list of unique labels\n",
    "label_list = list(pd.unique(sankey_data[['AREA NAME', 'Crm Cd Desc', 'Weapon Desc']].values.ravel('K')))\n",
    "label_to_id = {label: idx for idx, label in enumerate(label_list)}\n",
    "\n",
    "# Map source and target with updated labels\n",
    "sankey_data['source'] = sankey_data['AREA NAME'].map(label_to_id)\n",
    "sankey_data['target'] = sankey_data['Crm Cd Desc'].map(label_to_id)\n",
    "\n",
    "# To add Weapon as the next step, create additional links\n",
    "sankey_weapon = plot_data.groupby(['Crm Cd Desc', 'Weapon Desc']).size().reset_index(name='count')\n",
    "\n",
    "# Prefix labels in sankey_weapon\n",
    "sankey_weapon['Crm Cd Desc'] = 'Crime: ' + sankey_weapon['Crm Cd Desc']\n",
    "sankey_weapon['Weapon Desc'] = 'Weapon: ' + sankey_weapon['Weapon Desc']\n",
    "\n",
    "sankey_weapon['source'] = sankey_weapon['Crm Cd Desc'].map(label_to_id)\n",
    "sankey_weapon['target'] = sankey_weapon['Weapon Desc'].map(label_to_id)\n",
    "\n",
    "# Combine all links\n",
    "all_links = pd.concat([\n",
    "    sankey_data[['source', 'target', 'count']],\n",
    "    sankey_weapon[['source', 'target', 'count']]\n",
    "])\n",
    "\n",
    "# --- Step 4: Create the Sankey Diagram ---\n",
    "fig = go.Figure(data=[go.Sankey(\n",
    "    node=dict(\n",
    "        pad=15,\n",
    "        thickness=20,\n",
    "        line=dict(color=\"black\", width=0.5),\n",
    "        label=label_list,\n",
    "        color=\"blue\"\n",
    "    ),\n",
    "    link=dict(\n",
    "        source=all_links['source'],\n",
    "        target=all_links['target'],\n",
    "        value=all_links['count']\n",
    "    ))])\n",
    "\n",
    "fig.update_layout(title_text=\"Sankey Diagram for Cluster 18 Crime Data\", font_size=10)\n",
    "fig.show()\n",
    "\n",
    "# --- Step 5: Save the Plot ---\n",
    "fig.write_html('sankey_plot_18.html')"
   ]
  },
  {
   "cell_type": "markdown",
   "metadata": {},
   "source": [
    "# Upset Plots"
   ]
  },
  {
   "cell_type": "markdown",
   "metadata": {},
   "source": [
    "## Cluster 12"
   ]
  },
  {
   "cell_type": "code",
   "execution_count": 7,
   "metadata": {},
   "outputs": [
    {
     "name": "stdout",
     "output_type": "stream",
     "text": [
      "Collecting upsetplot\n",
      "  Downloading UpSetPlot-0.9.0.tar.gz (23 kB)\n",
      "  Installing build dependencies: started\n",
      "  Installing build dependencies: finished with status 'done'\n",
      "  Getting requirements to build wheel: started\n",
      "  Getting requirements to build wheel: finished with status 'done'\n",
      "  Preparing metadata (pyproject.toml): started\n",
      "  Preparing metadata (pyproject.toml): finished with status 'done'\n",
      "Requirement already satisfied: pandas>=0.23 in c:\\users\\priya\\anaconda3\\envs\\dv\\lib\\site-packages (from upsetplot) (2.2.2)\n",
      "Requirement already satisfied: matplotlib>=2.0 in c:\\users\\priya\\anaconda3\\envs\\dv\\lib\\site-packages (from upsetplot) (3.9.2)\n",
      "Requirement already satisfied: contourpy>=1.0.1 in c:\\users\\priya\\anaconda3\\envs\\dv\\lib\\site-packages (from matplotlib>=2.0->upsetplot) (1.2.0)\n",
      "Requirement already satisfied: cycler>=0.10 in c:\\users\\priya\\anaconda3\\envs\\dv\\lib\\site-packages (from matplotlib>=2.0->upsetplot) (0.11.0)\n",
      "Requirement already satisfied: fonttools>=4.22.0 in c:\\users\\priya\\anaconda3\\envs\\dv\\lib\\site-packages (from matplotlib>=2.0->upsetplot) (4.51.0)\n",
      "Requirement already satisfied: kiwisolver>=1.3.1 in c:\\users\\priya\\anaconda3\\envs\\dv\\lib\\site-packages (from matplotlib>=2.0->upsetplot) (1.4.4)\n",
      "Requirement already satisfied: numpy>=1.23 in c:\\users\\priya\\anaconda3\\envs\\dv\\lib\\site-packages (from matplotlib>=2.0->upsetplot) (1.26.4)\n",
      "Requirement already satisfied: packaging>=20.0 in c:\\users\\priya\\anaconda3\\envs\\dv\\lib\\site-packages (from matplotlib>=2.0->upsetplot) (24.1)\n",
      "Requirement already satisfied: pillow>=8 in c:\\users\\priya\\anaconda3\\envs\\dv\\lib\\site-packages (from matplotlib>=2.0->upsetplot) (10.4.0)\n",
      "Requirement already satisfied: pyparsing>=2.3.1 in c:\\users\\priya\\anaconda3\\envs\\dv\\lib\\site-packages (from matplotlib>=2.0->upsetplot) (3.1.2)\n",
      "Requirement already satisfied: python-dateutil>=2.7 in c:\\users\\priya\\anaconda3\\envs\\dv\\lib\\site-packages (from matplotlib>=2.0->upsetplot) (2.9.0.post0)\n",
      "Requirement already satisfied: pytz>=2020.1 in c:\\users\\priya\\anaconda3\\envs\\dv\\lib\\site-packages (from pandas>=0.23->upsetplot) (2024.1)\n",
      "Requirement already satisfied: tzdata>=2022.7 in c:\\users\\priya\\anaconda3\\envs\\dv\\lib\\site-packages (from pandas>=0.23->upsetplot) (2023.3)\n",
      "Requirement already satisfied: six>=1.5 in c:\\users\\priya\\anaconda3\\envs\\dv\\lib\\site-packages (from python-dateutil>=2.7->matplotlib>=2.0->upsetplot) (1.16.0)\n",
      "Building wheels for collected packages: upsetplot\n",
      "  Building wheel for upsetplot (pyproject.toml): started\n",
      "  Building wheel for upsetplot (pyproject.toml): finished with status 'done'\n",
      "  Created wheel for upsetplot: filename=UpSetPlot-0.9.0-py3-none-any.whl size=24861 sha256=5a132ef25dd382615856840057a45f425339cd731db2f69f49be73fc4faa9147\n",
      "  Stored in directory: c:\\users\\priya\\appdata\\local\\pip\\cache\\wheels\\7b\\ce\\88\\1d0bce5b2680165c29c3e68416325e79674d5a9f422d037996\n",
      "Successfully built upsetplot\n",
      "Installing collected packages: upsetplot\n",
      "Successfully installed upsetplot-0.9.0\n"
     ]
    }
   ],
   "source": [
    "!pip install upsetplot"
   ]
  },
  {
   "cell_type": "code",
   "execution_count": 12,
   "metadata": {},
   "outputs": [
    {
     "name": "stderr",
     "output_type": "stream",
     "text": [
      "c:\\Users\\priya\\anaconda3\\envs\\DV\\Lib\\site-packages\\upsetplot\\data.py:303: FutureWarning:\n",
      "\n",
      "Downcasting object dtype arrays on .fillna, .ffill, .bfill is deprecated and will change in a future version. Call result.infer_objects(copy=False) instead. To opt-in to the future behavior, set `pd.set_option('future.no_silent_downcasting', True)`\n",
      "\n",
      "c:\\Users\\priya\\anaconda3\\envs\\DV\\Lib\\site-packages\\upsetplot\\plotting.py:795: FutureWarning:\n",
      "\n",
      "A value is trying to be set on a copy of a DataFrame or Series through chained assignment using an inplace method.\n",
      "The behavior will change in pandas 3.0. This inplace method will never work because the intermediate object on which we are setting values always behaves as a copy.\n",
      "\n",
      "For example, when doing 'df[col].method(value, inplace=True)', try using 'df.method({col: value}, inplace=True)' or df[col] = df[col].method(value) instead, to perform the operation inplace on the original object.\n",
      "\n",
      "\n",
      "\n",
      "c:\\Users\\priya\\anaconda3\\envs\\DV\\Lib\\site-packages\\upsetplot\\plotting.py:796: FutureWarning:\n",
      "\n",
      "A value is trying to be set on a copy of a DataFrame or Series through chained assignment using an inplace method.\n",
      "The behavior will change in pandas 3.0. This inplace method will never work because the intermediate object on which we are setting values always behaves as a copy.\n",
      "\n",
      "For example, when doing 'df[col].method(value, inplace=True)', try using 'df.method({col: value}, inplace=True)' or df[col] = df[col].method(value) instead, to perform the operation inplace on the original object.\n",
      "\n",
      "\n",
      "\n",
      "c:\\Users\\priya\\anaconda3\\envs\\DV\\Lib\\site-packages\\upsetplot\\plotting.py:797: FutureWarning:\n",
      "\n",
      "A value is trying to be set on a copy of a DataFrame or Series through chained assignment using an inplace method.\n",
      "The behavior will change in pandas 3.0. This inplace method will never work because the intermediate object on which we are setting values always behaves as a copy.\n",
      "\n",
      "For example, when doing 'df[col].method(value, inplace=True)', try using 'df.method({col: value}, inplace=True)' or df[col] = df[col].method(value) instead, to perform the operation inplace on the original object.\n",
      "\n",
      "\n",
      "\n",
      "c:\\Users\\priya\\anaconda3\\envs\\DV\\Lib\\site-packages\\upsetplot\\plotting.py:798: FutureWarning:\n",
      "\n",
      "A value is trying to be set on a copy of a DataFrame or Series through chained assignment using an inplace method.\n",
      "The behavior will change in pandas 3.0. This inplace method will never work because the intermediate object on which we are setting values always behaves as a copy.\n",
      "\n",
      "For example, when doing 'df[col].method(value, inplace=True)', try using 'df.method({col: value}, inplace=True)' or df[col] = df[col].method(value) instead, to perform the operation inplace on the original object.\n",
      "\n",
      "\n",
      "\n"
     ]
    },
    {
     "data": {
      "image/png": "[encoded data removed]",
      "text/plain": [
       "<Figure size 1777.78x844.444 with 4 Axes>"
      ]
     },
     "metadata": {},
     "output_type": "display_data"
    },
    {
     "data": {
      "text/plain": [
       "<Figure size 640x480 with 0 Axes>"
      ]
     },
     "metadata": {},
     "output_type": "display_data"
    }
   ],
   "source": [
    "# Step 0: Install upsetplot (if not already installed)\n",
    "# You can run the following command in your terminal or uncomment the next line in Jupyter Notebook\n",
    "# !pip install upsetplot\n",
    "\n",
    "import pandas as pd\n",
    "from upsetplot import UpSet, from_memberships\n",
    "import matplotlib.pyplot as plt\n",
    "\n",
    "# --- Step 1: Load the Dataset ---\n",
    "file_path = 'Clustered_LA_Crime_Data.csv'  # Replace with your actual file path\n",
    "cl_df = pd.read_csv(file_path)\n",
    "\n",
    "# --- Step 2: Filter Data for Cluster 12 ---\n",
    "cl_df = cl_df[cl_df['Cluster'] == 12]\n",
    "\n",
    "# --- Step 3: Select Relevant Columns and Drop Missing Values ---\n",
    "columns = ['Vict Age', 'Vict Sex', 'Vict Descent']\n",
    "plot_data = cl_df[columns].dropna()\n",
    "\n",
    "# --- Step 4: Prepare Data for UpSet Plot ---\n",
    "# Prefix labels with column names for clarity\n",
    "# plot_data['AREA NAME'] = 'Area: ' + plot_data['AREA NAME']\n",
    "# plot_data['Crm Cd Desc'] = 'Crime: ' + plot_data['Crm Cd Desc']\n",
    "# plot_data['Weapon Desc'] = 'Weapon: ' + plot_data['Weapon Desc']\n",
    "plot_data['Vict Age'] = 'Age: ' + plot_data['Vict Age'].astype(str)\n",
    "plot_data['Vict Sex'] = 'Sex' + plot_data['Vict Sex']\n",
    "plot_data['Vict Descent'] = 'Descent: ' + plot_data['Vict Descent']\n",
    "\n",
    "# Convert each row to a list of memberships\n",
    "memberships = plot_data.apply(lambda row: list(row), axis=1).tolist()\n",
    "\n",
    "# Create the UpSet data structure using from_memberships\n",
    "upset_data = from_memberships(memberships)\n",
    "\n",
    "# --- Step 5: Create the UpSet Plot ---\n",
    "upset = UpSet(upset_data, subset_size='count', show_counts=True)\n",
    "upset.plot()\n",
    "plt.title(\"UpSet Plot for Cluster 12 Crime Data\")\n",
    "plt.show()\n",
    "\n",
    "# --- Step 6: Save the Plot ---\n",
    "plt.savefig('upset_plot_12.png')"
   ]
  },
  {
   "cell_type": "markdown",
   "metadata": {},
   "source": [
    "## Cluster 15"
   ]
  },
  {
   "cell_type": "code",
   "execution_count": 13,
   "metadata": {},
   "outputs": [
    {
     "name": "stderr",
     "output_type": "stream",
     "text": [
      "c:\\Users\\priya\\anaconda3\\envs\\DV\\Lib\\site-packages\\upsetplot\\data.py:303: FutureWarning:\n",
      "\n",
      "Downcasting object dtype arrays on .fillna, .ffill, .bfill is deprecated and will change in a future version. Call result.infer_objects(copy=False) instead. To opt-in to the future behavior, set `pd.set_option('future.no_silent_downcasting', True)`\n",
      "\n",
      "c:\\Users\\priya\\anaconda3\\envs\\DV\\Lib\\site-packages\\upsetplot\\plotting.py:795: FutureWarning:\n",
      "\n",
      "A value is trying to be set on a copy of a DataFrame or Series through chained assignment using an inplace method.\n",
      "The behavior will change in pandas 3.0. This inplace method will never work because the intermediate object on which we are setting values always behaves as a copy.\n",
      "\n",
      "For example, when doing 'df[col].method(value, inplace=True)', try using 'df.method({col: value}, inplace=True)' or df[col] = df[col].method(value) instead, to perform the operation inplace on the original object.\n",
      "\n",
      "\n",
      "\n",
      "c:\\Users\\priya\\anaconda3\\envs\\DV\\Lib\\site-packages\\upsetplot\\plotting.py:796: FutureWarning:\n",
      "\n",
      "A value is trying to be set on a copy of a DataFrame or Series through chained assignment using an inplace method.\n",
      "The behavior will change in pandas 3.0. This inplace method will never work because the intermediate object on which we are setting values always behaves as a copy.\n",
      "\n",
      "For example, when doing 'df[col].method(value, inplace=True)', try using 'df.method({col: value}, inplace=True)' or df[col] = df[col].method(value) instead, to perform the operation inplace on the original object.\n",
      "\n",
      "\n",
      "\n",
      "c:\\Users\\priya\\anaconda3\\envs\\DV\\Lib\\site-packages\\upsetplot\\plotting.py:797: FutureWarning:\n",
      "\n",
      "A value is trying to be set on a copy of a DataFrame or Series through chained assignment using an inplace method.\n",
      "The behavior will change in pandas 3.0. This inplace method will never work because the intermediate object on which we are setting values always behaves as a copy.\n",
      "\n",
      "For example, when doing 'df[col].method(value, inplace=True)', try using 'df.method({col: value}, inplace=True)' or df[col] = df[col].method(value) instead, to perform the operation inplace on the original object.\n",
      "\n",
      "\n",
      "\n",
      "c:\\Users\\priya\\anaconda3\\envs\\DV\\Lib\\site-packages\\upsetplot\\plotting.py:798: FutureWarning:\n",
      "\n",
      "A value is trying to be set on a copy of a DataFrame or Series through chained assignment using an inplace method.\n",
      "The behavior will change in pandas 3.0. This inplace method will never work because the intermediate object on which we are setting values always behaves as a copy.\n",
      "\n",
      "For example, when doing 'df[col].method(value, inplace=True)', try using 'df.method({col: value}, inplace=True)' or df[col] = df[col].method(value) instead, to perform the operation inplace on the original object.\n",
      "\n",
      "\n",
      "\n"
     ]
    },
    {
     "data": {
      "image/png": "[encoded data removed]",
      "text/plain": [
       "<Figure size 1377.78x888.889 with 4 Axes>"
      ]
     },
     "metadata": {},
     "output_type": "display_data"
    },
    {
     "data": {
      "text/plain": [
       "<Figure size 640x480 with 0 Axes>"
      ]
     },
     "metadata": {},
     "output_type": "display_data"
    }
   ],
   "source": [
    "# Step 0: Install upsetplot (if not already installed)\n",
    "# You can run the following command in your terminal or uncomment the next line in Jupyter Notebook\n",
    "# !pip install upsetplot\n",
    "\n",
    "import pandas as pd\n",
    "from upsetplot import UpSet, from_memberships\n",
    "import matplotlib.pyplot as plt\n",
    "\n",
    "# --- Step 1: Load the Dataset ---\n",
    "file_path = 'Clustered_LA_Crime_Data.csv'  # Replace with your actual file path\n",
    "cl_df = pd.read_csv(file_path)\n",
    "\n",
    "# --- Step 2: Filter Data for Cluster 15 ---\n",
    "cl_df = cl_df[cl_df['Cluster'] == 15]\n",
    "\n",
    "# --- Step 3: Select Relevant Columns and Drop Missing Values ---\n",
    "columns = ['Vict Age', 'Vict Sex', 'Vict Descent']\n",
    "plot_data = cl_df[columns].dropna()\n",
    "\n",
    "# --- Step 4: Prepare Data for UpSet Plot ---\n",
    "# Prefix labels with column names for clarity\n",
    "# plot_data['AREA NAME'] = 'Area: ' + plot_data['AREA NAME']\n",
    "# plot_data['Crm Cd Desc'] = 'Crime: ' + plot_data['Crm Cd Desc']\n",
    "# plot_data['Weapon Desc'] = 'Weapon: ' + plot_data['Weapon Desc']\n",
    "plot_data['Vict Age'] = 'Age: ' + plot_data['Vict Age'].astype(str)\n",
    "plot_data['Vict Sex'] = 'Sex' + plot_data['Vict Sex']\n",
    "plot_data['Vict Descent'] = 'Descent: ' + plot_data['Vict Descent']\n",
    "\n",
    "# Convert each row to a list of memberships\n",
    "memberships = plot_data.apply(lambda row: list(row), axis=1).tolist()\n",
    "\n",
    "# Create the UpSet data structure using from_memberships\n",
    "upset_data = from_memberships(memberships)\n",
    "\n",
    "# --- Step 5: Create the UpSet Plot ---\n",
    "upset = UpSet(upset_data, subset_size='count', show_counts=True)\n",
    "upset.plot()\n",
    "plt.title(\"UpSet Plot for Cluster 15 Crime Data\")\n",
    "plt.show()\n",
    "\n",
    "# --- Step 6: Save the Plot ---\n",
    "plt.savefig('upset_plot_15.png')"
   ]
  },
  {
   "cell_type": "markdown",
   "metadata": {},
   "source": [
    "## Cluster 18"
   ]
  },
  {
   "cell_type": "code",
   "execution_count": 14,
   "metadata": {},
   "outputs": [
    {
     "name": "stderr",
     "output_type": "stream",
     "text": [
      "c:\\Users\\priya\\anaconda3\\envs\\DV\\Lib\\site-packages\\upsetplot\\data.py:303: FutureWarning:\n",
      "\n",
      "Downcasting object dtype arrays on .fillna, .ffill, .bfill is deprecated and will change in a future version. Call result.infer_objects(copy=False) instead. To opt-in to the future behavior, set `pd.set_option('future.no_silent_downcasting', True)`\n",
      "\n",
      "c:\\Users\\priya\\anaconda3\\envs\\DV\\Lib\\site-packages\\upsetplot\\plotting.py:795: FutureWarning:\n",
      "\n",
      "A value is trying to be set on a copy of a DataFrame or Series through chained assignment using an inplace method.\n",
      "The behavior will change in pandas 3.0. This inplace method will never work because the intermediate object on which we are setting values always behaves as a copy.\n",
      "\n",
      "For example, when doing 'df[col].method(value, inplace=True)', try using 'df.method({col: value}, inplace=True)' or df[col] = df[col].method(value) instead, to perform the operation inplace on the original object.\n",
      "\n",
      "\n",
      "\n",
      "c:\\Users\\priya\\anaconda3\\envs\\DV\\Lib\\site-packages\\upsetplot\\plotting.py:796: FutureWarning:\n",
      "\n",
      "A value is trying to be set on a copy of a DataFrame or Series through chained assignment using an inplace method.\n",
      "The behavior will change in pandas 3.0. This inplace method will never work because the intermediate object on which we are setting values always behaves as a copy.\n",
      "\n",
      "For example, when doing 'df[col].method(value, inplace=True)', try using 'df.method({col: value}, inplace=True)' or df[col] = df[col].method(value) instead, to perform the operation inplace on the original object.\n",
      "\n",
      "\n",
      "\n",
      "c:\\Users\\priya\\anaconda3\\envs\\DV\\Lib\\site-packages\\upsetplot\\plotting.py:797: FutureWarning:\n",
      "\n",
      "A value is trying to be set on a copy of a DataFrame or Series through chained assignment using an inplace method.\n",
      "The behavior will change in pandas 3.0. This inplace method will never work because the intermediate object on which we are setting values always behaves as a copy.\n",
      "\n",
      "For example, when doing 'df[col].method(value, inplace=True)', try using 'df.method({col: value}, inplace=True)' or df[col] = df[col].method(value) instead, to perform the operation inplace on the original object.\n",
      "\n",
      "\n",
      "\n",
      "c:\\Users\\priya\\anaconda3\\envs\\DV\\Lib\\site-packages\\upsetplot\\plotting.py:798: FutureWarning:\n",
      "\n",
      "A value is trying to be set on a copy of a DataFrame or Series through chained assignment using an inplace method.\n",
      "The behavior will change in pandas 3.0. This inplace method will never work because the intermediate object on which we are setting values always behaves as a copy.\n",
      "\n",
      "For example, when doing 'df[col].method(value, inplace=True)', try using 'df.method({col: value}, inplace=True)' or df[col] = df[col].method(value) instead, to perform the operation inplace on the original object.\n",
      "\n",
      "\n",
      "\n"
     ]
    },
    {
     "data": {
      "image/png": "[encoded data removed]",
      "text/plain": [
       "<Figure size 2133.33x888.889 with 4 Axes>"
      ]
     },
     "metadata": {},
     "output_type": "display_data"
    },
    {
     "data": {
      "text/plain": [
       "<Figure size 640x480 with 0 Axes>"
      ]
     },
     "metadata": {},
     "output_type": "display_data"
    }
   ],
   "source": [
    "# Step 0: Install upsetplot (if not already installed)\n",
    "# You can run the following command in your terminal or uncomment the next line in Jupyter Notebook\n",
    "# !pip install upsetplot\n",
    "\n",
    "import pandas as pd\n",
    "from upsetplot import UpSet, from_memberships\n",
    "import matplotlib.pyplot as plt\n",
    "\n",
    "# --- Step 1: Load the Dataset ---\n",
    "file_path = 'Clustered_LA_Crime_Data.csv'  # Replace with your actual file path\n",
    "cl_df = pd.read_csv(file_path)\n",
    "\n",
    "# --- Step 2: Filter Data for Cluster 18 ---\n",
    "cl_df = cl_df[cl_df['Cluster'] == 18]\n",
    "\n",
    "# --- Step 3: Select Relevant Columns and Drop Missing Values ---\n",
    "columns = ['Vict Age', 'Vict Sex', 'Vict Descent']\n",
    "plot_data = cl_df[columns].dropna()\n",
    "\n",
    "# --- Step 4: Prepare Data for UpSet Plot ---\n",
    "# Prefix labels with column names for clarity\n",
    "# plot_data['AREA NAME'] = 'Area: ' + plot_data['AREA NAME']\n",
    "# plot_data['Crm Cd Desc'] = 'Crime: ' + plot_data['Crm Cd Desc']\n",
    "# plot_data['Weapon Desc'] = 'Weapon: ' + plot_data['Weapon Desc']\n",
    "plot_data['Vict Age'] = 'Age: ' + plot_data['Vict Age'].astype(str)\n",
    "plot_data['Vict Sex'] = 'Sex' + plot_data['Vict Sex']\n",
    "plot_data['Vict Descent'] = 'Descent: ' + plot_data['Vict Descent']\n",
    "\n",
    "# Convert each row to a list of memberships\n",
    "memberships = plot_data.apply(lambda row: list(row), axis=1).tolist()\n",
    "\n",
    "# Create the UpSet data structure using from_memberships\n",
    "upset_data = from_memberships(memberships)\n",
    "\n",
    "# --- Step 5: Create the UpSet Plot ---\n",
    "upset = UpSet(upset_data, subset_size='count', show_counts=True)\n",
    "upset.plot()\n",
    "plt.title(\"UpSet Plot for Cluster 18 Crime Data\")\n",
    "plt.show()\n",
    "\n",
    "# --- Step 6: Save the Plot ---\n",
    "plt.savefig('upset_plot_18.png')"
   ]
  }
 ],
 "metadata": {
  "kernelspec": {
   "display_name": "DV",
   "language": "python",
   "name": "python3"
  },
  "language_info": {
   "codemirror_mode": {
    "name": "ipython",
    "version": 3
   },
   "file_extension": ".py",
   "mimetype": "text/x-python",
   "name": "python",
   "nbconvert_exporter": "python",
   "pygments_lexer": "ipython3",
   "version": "3.11.10"
  }
 },
 "nbformat": 4,
 "nbformat_minor": 2
}
